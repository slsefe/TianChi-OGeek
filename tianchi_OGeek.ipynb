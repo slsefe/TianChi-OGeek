{
 "cells": [
  {
   "cell_type": "markdown",
   "metadata": {},
   "source": [
    "## 1.数据处理"
   ]
  },
  {
   "cell_type": "code",
   "execution_count": 1,
   "metadata": {},
   "outputs": [],
   "source": [
    "import numpy as np\n",
    "import pandas as pd\n",
    "import os\n",
    "import pickle\n",
    "import lightgbm as lgb\n",
    "import xgboost as xgb\n",
    "\n",
    "from sklearn import preprocessing\n",
    "from sklearn.model_selection import StratifiedKFold, KFold, train_test_split, GridSearchCV\n",
    "# from sklearn import cross_validation, metrics   #Additional scklearn functions\n",
    "from sklearn.metrics import confusion_matrix, f1_score, precision_score, recall_score, roc_auc_score\n",
    "\n",
    "import matplotlib.pylab as plt\n",
    "%matplotlib inline\n",
    "# from matplotlib.pylab import rcParams\n",
    "# rcParams['figure.figsize'] = 12, 4\n",
    "\n",
    "import seaborn as sns\n",
    "sns.set_context('notebook')\n",
    "sns.set_style('white')\n",
    "\n",
    "import warnings\n",
    "warnings.filterwarnings(\"ignore\")\n",
    "\n",
    "pd.set_option('display.notebook_repr_html', False)\n",
    "pd.set_option('display.max_columns', None)\n",
    "pd.set_option('display.max_rows', 50)\n",
    "pd.set_option('display.max_seq_items', None)"
   ]
  },
  {
   "cell_type": "code",
   "execution_count": 2,
   "metadata": {},
   "outputs": [],
   "source": [
    "# 读取数据\n",
    "# train_file = 'd:/oppo/input/oppo_round1_train_20180929.txt'\n",
    "valid_file = 'd:/oppo/input/oppo_round1_vali_20180929.txt'\n",
    "test_A_file = 'd:/oppo/input/oppo_round1_test_A_20180929.txt'\n",
    "# train_df = pd.read_csv(train_file, sep='\\t', header=None,names=['prefix', 'query_prediction', 'title', 'tag', 'label'])\n",
    "valid_df = pd.read_csv(valid_file, sep='\\t', header=None,names=['prefix', 'query_prediction', 'title', 'tag', 'label'])\n",
    "test_data = pd.read_csv(test_A_file, sep='\\t', header=None, names=['prefix', 'query_prediction', 'title', 'tag'])\n",
    "test_data['label'] = -1"
   ]
  },
  {
   "cell_type": "code",
   "execution_count": 3,
   "metadata": {},
   "outputs": [
    {
     "name": "stdout",
     "output_type": "stream",
     "text": [
      "preprocessing train data start\n",
      "preprocessing train data end\n"
     ]
    }
   ],
   "source": [
    "# 训练集数据预处理\n",
    "def train_preprocess():\n",
    "    print('preprocessing train data start')\n",
    "    # prefix有4个null，被误认为是空值，使用‘realnull’填充\n",
    "    file_path = 'd:/oppo/input/train_preprocessed.pkl'\n",
    "    if os.path.exists(file_path):\n",
    "        train_preprocessed = pickle.load(open(file_path,'rb'))\n",
    "    else:\n",
    "        train_file = 'd:/oppo/input/oppo_round1_train_20180929.txt'\n",
    "        train_df = pd.read_csv(train_file, sep='\\t', header=None,\n",
    "                       names=['prefix', 'query_prediction', 'title', 'tag', 'label'])\n",
    "        print('data is null?\\n',train_df.isnull().sum())\n",
    "        # fill the np.nan of column 'prefix' with 'null'\n",
    "        train_df['prefix'] = train_df['prefix'].fillna('null')\n",
    "        print('data is null?\\n',train_df.isnull().sum())\n",
    "        \n",
    "        # modify the wrong line 1815101\n",
    "        print(train_df[train_df.prefix=='花开花又'])\n",
    "        train_df.loc[train_df.prefix=='花开花又','query_prediction'] = '{\"花开花又落\": \"0.635\", \"花开花又落是什么歌\": \"0.365\"}'\n",
    "        train_df.loc[train_df.prefix=='花开花又','title'] = '大雁听过我的歌%2C山丹丹花开花又落....一年又一年?谁听过这首歌%2C知道歌名吗?'\n",
    "        train_df.loc[train_df.prefix=='花开花又','tag'] = '知道'\n",
    "        train_df.loc[train_df.prefix=='花开花又','label'] = 0\n",
    "        print(train_df[train_df.prefix=='花开花又'])\n",
    "        # add the missed line to end\n",
    "        train_df.loc[1999999,'prefix'] = '花开花又'\n",
    "        train_df.loc[1999999,'query_prediction'] = '{\"花开花又落\": \"0.635\", \"花开花又落是什么歌\": \"0.365\"}'\n",
    "        train_df.loc[1999999,'title'] = '等你花开花又落'\n",
    "        train_df.loc[1999999,'tag'] = '音乐'\n",
    "        train_df.loc[1999999,'label'] = 0\n",
    "        print(train_df[train_df.prefix=='花开花又'])\n",
    "        \n",
    "        # the label has 0,1,'0','1',transform '0','1' to 0,1 respectively\n",
    "        print(train_df.label.value_counts())\n",
    "        train_df.loc[train_df.label=='0','label']=0\n",
    "        train_df.loc[train_df.label=='1','label']=1\n",
    "        print(train_df.label.value_counts())\n",
    "        train_df['label'] = train_df.label.astype('int')\n",
    "        print(train_df.info())\n",
    "        train_preprocessed = train_df\n",
    "        del train_df\n",
    "        pickle.dump(train_preprocessed,open(file_path,'wb'))\n",
    "        train_df.to_csv('d:/oppo/input/train_preprocessed.csv',sep='\\t',index=None,header=None)\n",
    "    print('preprocessing train data end')\n",
    "    return train_preprocessed\n",
    "train_df = train_preprocess()"
   ]
  },
  {
   "cell_type": "code",
   "execution_count": 4,
   "metadata": {},
   "outputs": [],
   "source": [
    "# 合并训练集和测试集\n",
    "# train_data = pd.concat([train_df,valid_df])\n",
    "# del train_df,valid_df\n",
    "train_df['label'] = train_df['label'].apply(lambda x: int(x))\n",
    "valid_df['label'] = valid_df['label'].apply(lambda x: int(x))\n",
    "test_data['label'] = test_data['label'].apply(lambda x: int(x))"
   ]
  },
  {
   "cell_type": "code",
   "execution_count": 5,
   "metadata": {},
   "outputs": [
    {
     "data": {
      "text/plain": [
       "0.3720975"
      ]
     },
     "execution_count": 5,
     "metadata": {},
     "output_type": "execute_result"
    }
   ],
   "source": [
    "# train_df的平均点击率\n",
    "train_df['label'].mean()"
   ]
  },
  {
   "cell_type": "markdown",
   "metadata": {},
   "source": [
    "## 2.特征工程"
   ]
  },
  {
   "cell_type": "markdown",
   "metadata": {},
   "source": [
    "### 2.1.prefix独立特征"
   ]
  },
  {
   "cell_type": "markdown",
   "metadata": {},
   "source": [
    "### 2.1.1.prefix特征"
   ]
  },
  {
   "cell_type": "code",
   "execution_count": 7,
   "metadata": {},
   "outputs": [
    {
     "data": {
      "text/plain": [
       "157083"
      ]
     },
     "execution_count": 7,
     "metadata": {},
     "output_type": "execute_result"
    }
   ],
   "source": [
    "train_df['prefix'].nunique()"
   ]
  },
  {
   "cell_type": "code",
   "execution_count": 8,
   "metadata": {},
   "outputs": [
    {
     "data": {
      "text/plain": [
       "744195"
      ]
     },
     "execution_count": 8,
     "metadata": {},
     "output_type": "execute_result"
    }
   ],
   "source": [
    "train_df['label'].sum()"
   ]
  },
  {
   "cell_type": "code",
   "execution_count": 9,
   "metadata": {},
   "outputs": [
    {
     "data": {
      "text/plain": [
       "4.73759095510017"
      ]
     },
     "execution_count": 9,
     "metadata": {},
     "output_type": "execute_result"
    }
   ],
   "source": [
    "# prefix的平均点击次数\n",
    "a = train_df['label'].sum()/train_df['prefix'].nunique()\n",
    "a"
   ]
  },
  {
   "cell_type": "code",
   "execution_count": 10,
   "metadata": {},
   "outputs": [
    {
     "data": {
      "text/plain": [
       "1.1300118069000622"
      ]
     },
     "execution_count": 10,
     "metadata": {},
     "output_type": "execute_result"
    }
   ],
   "source": [
    "loga = np.log1p(train_df['label'].sum())/np.log(train_df['prefix'].nunique())\n",
    "loga"
   ]
  },
  {
   "cell_type": "code",
   "execution_count": 11,
   "metadata": {},
   "outputs": [
    {
     "data": {
      "text/plain": [
       "12.732122508482776"
      ]
     },
     "execution_count": 11,
     "metadata": {},
     "output_type": "execute_result"
    }
   ],
   "source": [
    "# prefix的平均搜索次数\n",
    "b =train_df['label'].count()/train_df['prefix'].nunique()\n",
    "b"
   ]
  },
  {
   "cell_type": "code",
   "execution_count": 12,
   "metadata": {},
   "outputs": [
    {
     "data": {
      "text/plain": [
       "1.2126386072259883"
      ]
     },
     "execution_count": 12,
     "metadata": {},
     "output_type": "execute_result"
    }
   ],
   "source": [
    "logb = np.log1p(train_df['label'].count())/np.log1p(train_df['prefix'].nunique())\n",
    "logb"
   ]
  },
  {
   "cell_type": "code",
   "execution_count": 13,
   "metadata": {
    "scrolled": true
   },
   "outputs": [
    {
     "data": {
      "text/plain": [
       "         count      mean       std  min   25%  50%   75%  max\n",
       "prefix                                                       \n",
       "#         41.0  0.317073  0.471117  0.0  0.00  0.0  1.00  1.0\n",
       "%         33.0  0.393939  0.496198  0.0  0.00  0.0  1.00  1.0\n",
       "&         14.0  0.428571  0.513553  0.0  0.00  0.0  1.00  1.0\n",
       "(女人        1.0  1.000000       NaN  1.0  1.00  1.0  1.00  1.0\n",
       "*p++       1.0  0.000000       NaN  0.0  0.00  0.0  0.00  0.0\n",
       "-          1.0  1.000000       NaN  1.0  1.00  1.0  1.00  1.0\n",
       ".        815.0  0.353374  0.478311  0.0  0.00  0.0  1.00  1.0\n",
       ".          9.0  0.333333  0.500000  0.0  0.00  0.0  1.00  1.0\n",
       "...b       2.0  0.500000  0.707107  0.0  0.25  0.5  0.75  1.0\n",
       ".b         4.0  0.000000  0.000000  0.0  0.00  0.0  0.00  0.0\n",
       ".cn        4.0  0.750000  0.500000  0.0  0.75  1.0  1.00  1.0\n",
       ".com       3.0  0.333333  0.577350  0.0  0.00  0.0  0.50  1.0\n",
       ".comp      1.0  0.000000       NaN  0.0  0.00  0.0  0.00  0.0\n",
       ".e         2.0  0.500000  0.707107  0.0  0.25  0.5  0.75  1.0\n",
       ".i         2.0  0.500000  0.707107  0.0  0.25  0.5  0.75  1.0\n",
       ".m.        5.0  0.400000  0.547723  0.0  0.00  0.0  1.00  1.0\n",
       ".mp3       2.0  0.500000  0.707107  0.0  0.25  0.5  0.75  1.0\n",
       ".n         4.0  0.500000  0.577350  0.0  0.00  0.5  1.00  1.0\n",
       ".net       7.0  0.285714  0.487950  0.0  0.00  0.0  0.50  1.0\n",
       ".net框架     1.0  0.000000       NaN  0.0  0.00  0.0  0.00  0.0\n",
       ".o         1.0  0.000000       NaN  0.0  0.00  0.0  0.00  0.0\n",
       ".q         1.0  1.000000       NaN  1.0  1.00  1.0  1.00  1.0\n",
       ".u         3.0  0.333333  0.577350  0.0  0.00  0.0  0.50  1.0\n",
       ".v         2.0  0.500000  0.707107  0.0  0.25  0.5  0.75  1.0\n",
       ".一         2.0  0.500000  0.707107  0.0  0.25  0.5  0.75  1.0\n",
       "...        ...       ...       ...  ...   ...  ...   ...  ...\n",
       "龟头痒怎么回事    1.0  1.000000       NaN  1.0  1.00  1.0  1.00  1.0\n",
       "龟头瘙痒       4.0  0.250000  0.500000  0.0  0.00  0.0  0.25  1.0\n",
       "龟头糜烂       4.0  0.750000  0.500000  0.0  0.75  1.0  1.00  1.0\n",
       "龟头红肿       6.0  0.500000  0.547723  0.0  0.00  0.5  1.00  1.0\n",
       "龟头脱皮       2.0  0.500000  0.707107  0.0  0.25  0.5  0.75  1.0\n",
       "龟头起痘痘      1.0  0.000000       NaN  0.0  0.00  0.0  0.00  0.0\n",
       "龟头边缘发      1.0  0.000000       NaN  0.0  0.00  0.0  0.00  0.0\n",
       "龟峰         6.0  0.500000  0.547723  0.0  0.00  0.5  1.00  1.0\n",
       "龟峰山        1.0  0.000000       NaN  0.0  0.00  0.0  0.00  0.0\n",
       "龟息         3.0  0.333333  0.577350  0.0  0.00  0.0  0.50  1.0\n",
       "龟板        11.0  0.545455  0.522233  0.0  0.00  1.0  1.00  1.0\n",
       "龟灵         1.0  0.000000       NaN  0.0  0.00  0.0  0.00  0.0\n",
       "龟甲         5.0  0.400000  0.547723  0.0  0.00  0.0  1.00  1.0\n",
       "龟甲养        2.0  0.000000  0.000000  0.0  0.00  0.0  0.00  0.0\n",
       "龟甲养阴       1.0  0.000000       NaN  0.0  0.00  0.0  0.00  0.0\n",
       "龟背        95.0  0.294737  0.458343  0.0  0.00  0.0  1.00  1.0\n",
       "龟背竹       57.0  0.350877  0.481487  0.0  0.00  0.0  1.00  1.0\n",
       "龟苓        10.0  0.400000  0.516398  0.0  0.00  0.0  1.00  1.0\n",
       "龟苓膏       44.0  0.386364  0.492545  0.0  0.00  0.0  1.00  1.0\n",
       "龟苓膏的做      1.0  1.000000       NaN  1.0  1.00  1.0  1.00  1.0\n",
       "龟鹿二仙膏      3.0  0.333333  0.577350  0.0  0.00  0.0  0.50  1.0\n",
       "龟龙         2.0  0.000000  0.000000  0.0  0.00  0.0  0.00  0.0\n",
       "사랑해요       1.0  1.000000       NaN  1.0  1.00  1.0  1.00  1.0\n",
       "안녕하세요      2.0  0.500000  0.707107  0.0  0.25  0.5  0.75  1.0\n",
       "청춘         2.0  0.500000  0.707107  0.0  0.25  0.5  0.75  1.0\n",
       "\n",
       "[157083 rows x 8 columns]"
      ]
     },
     "execution_count": 13,
     "metadata": {},
     "output_type": "execute_result"
    }
   ],
   "source": [
    "train_df[['prefix','label']].groupby(['prefix'])['label'].describe()"
   ]
  },
  {
   "cell_type": "code",
   "execution_count": 14,
   "metadata": {},
   "outputs": [],
   "source": [
    "# prefix的点击次数和搜索次数\n",
    "feature_prefix = train_df[['prefix','label']].groupby('prefix', as_index = False)['label'].agg({'prefix_click':'sum', 'prefix_count':'count'})"
   ]
  },
  {
   "cell_type": "code",
   "execution_count": 14,
   "metadata": {
    "collapsed": true
   },
   "outputs": [
    {
     "data": {
      "text/plain": [
       "count    157083.000000\n",
       "mean          4.737591\n",
       "std          40.141294\n",
       "min           0.000000\n",
       "25%           1.000000\n",
       "50%           1.000000\n",
       "75%           2.000000\n",
       "max        7090.000000\n",
       "Name: prefix_click, dtype: float64"
      ]
     },
     "execution_count": 14,
     "metadata": {},
     "output_type": "execute_result"
    }
   ],
   "source": [
    "feature_prefix['prefix_click'].describe()"
   ]
  },
  {
   "cell_type": "code",
   "execution_count": 15,
   "metadata": {
    "collapsed": true
   },
   "outputs": [
    {
     "data": {
      "text/plain": [
       "count    157083.000000\n",
       "mean         12.732123\n",
       "std         109.844814\n",
       "min           1.000000\n",
       "25%           1.000000\n",
       "50%           2.000000\n",
       "75%           6.000000\n",
       "max       20066.000000\n",
       "Name: prefix_count, dtype: float64"
      ]
     },
     "execution_count": 15,
     "metadata": {},
     "output_type": "execute_result"
    }
   ],
   "source": [
    "feature_prefix['prefix_count'].describe()"
   ]
  },
  {
   "cell_type": "code",
   "execution_count": 15,
   "metadata": {},
   "outputs": [],
   "source": [
    "# prefix点击次数和搜索次数的平滑处理\n",
    "feature_prefix['prefix_click_smooth'] = feature_prefix['prefix_click']+a\n",
    "feature_prefix['prefix_count_smooth'] = feature_prefix['prefix_count']+b"
   ]
  },
  {
   "cell_type": "code",
   "execution_count": 17,
   "metadata": {},
   "outputs": [],
   "source": [
    "# prefix点击数和搜索数的log变换\n",
    "feature_prefix['prefix_click_log'] = np.log1p(feature_prefix['prefix_click'])\n",
    "feature_prefix['prefix_count_log'] = np.log1p(feature_prefix['prefix_count'])"
   ]
  },
  {
   "cell_type": "code",
   "execution_count": 17,
   "metadata": {
    "collapsed": true
   },
   "outputs": [
    {
     "data": {
      "text/plain": [
       "count    157083.000000\n",
       "mean          0.919055\n",
       "std           0.880951\n",
       "min           0.000000\n",
       "25%           0.693147\n",
       "50%           0.693147\n",
       "75%           1.098612\n",
       "max           8.866582\n",
       "Name: prefix_click_log, dtype: float64"
      ]
     },
     "execution_count": 17,
     "metadata": {},
     "output_type": "execute_result"
    }
   ],
   "source": [
    "temp['prefix_click_log'].describe()"
   ]
  },
  {
   "cell_type": "code",
   "execution_count": 18,
   "metadata": {
    "collapsed": true
   },
   "outputs": [
    {
     "data": {
      "text/plain": [
       "count    157083.000000\n",
       "mean          1.549993\n",
       "std           0.998237\n",
       "min           0.693147\n",
       "25%           0.693147\n",
       "50%           1.098612\n",
       "75%           1.945910\n",
       "max           9.906832\n",
       "Name: prefix_count_log, dtype: float64"
      ]
     },
     "execution_count": 18,
     "metadata": {},
     "output_type": "execute_result"
    }
   ],
   "source": [
    "temp['prefix_count_log'].describe()"
   ]
  },
  {
   "cell_type": "code",
   "execution_count": 18,
   "metadata": {},
   "outputs": [],
   "source": [
    "# 对prefix点击数和搜索数的log变换再做一次log变换\n",
    "feature_prefix['prefix_click_log2'] = np.log1p(feature_prefix['prefix_click_log'])\n",
    "feature_prefix['prefix_count_log2'] = np.log1p(feature_prefix['prefix_count_log'])"
   ]
  },
  {
   "cell_type": "code",
   "execution_count": 20,
   "metadata": {
    "collapsed": true
   },
   "outputs": [
    {
     "data": {
      "text/plain": [
       "count    157083.000000\n",
       "mean          0.564525\n",
       "std           0.407813\n",
       "min           0.000000\n",
       "25%           0.526589\n",
       "50%           0.526589\n",
       "75%           0.741276\n",
       "max           2.289153\n",
       "Name: prefix_click_log2, dtype: float64"
      ]
     },
     "execution_count": 20,
     "metadata": {},
     "output_type": "execute_result"
    }
   ],
   "source": [
    "temp['prefix_click_log2'].describe()"
   ]
  },
  {
   "cell_type": "code",
   "execution_count": 21,
   "metadata": {
    "collapsed": true
   },
   "outputs": [
    {
     "data": {
      "text/plain": [
       "count    157083.000000\n",
       "mean          0.875779\n",
       "std           0.330472\n",
       "min           0.526589\n",
       "25%           0.526589\n",
       "50%           0.741276\n",
       "75%           1.080418\n",
       "max           2.389389\n",
       "Name: prefix_count_log2, dtype: float64"
      ]
     },
     "execution_count": 21,
     "metadata": {},
     "output_type": "execute_result"
    }
   ],
   "source": [
    "temp['prefix_count_log2'].describe()"
   ]
  },
  {
   "cell_type": "code",
   "execution_count": 19,
   "metadata": {},
   "outputs": [],
   "source": [
    "# prefix的点击数差值与搜索数差值\n",
    "feature_prefix['prefix_click_diff'] = feature_prefix['prefix_click'] - feature_prefix['prefix_click'].mean()\n",
    "feature_prefix['prefix_count_diff'] = feature_prefix['prefix_count'] - feature_prefix['prefix_count'].mean()"
   ]
  },
  {
   "cell_type": "code",
   "execution_count": 23,
   "metadata": {
    "collapsed": true
   },
   "outputs": [
    {
     "data": {
      "text/plain": [
       "count    1.570830e+05\n",
       "mean    -1.942131e-13\n",
       "std      4.014129e+01\n",
       "min     -4.737591e+00\n",
       "25%     -3.737591e+00\n",
       "50%     -3.737591e+00\n",
       "75%     -2.737591e+00\n",
       "max      7.085262e+03\n",
       "Name: prefix_click_diff, dtype: float64"
      ]
     },
     "execution_count": 23,
     "metadata": {},
     "output_type": "execute_result"
    }
   ],
   "source": [
    "temp['prefix_click_diff'].describe()"
   ]
  },
  {
   "cell_type": "code",
   "execution_count": 24,
   "metadata": {
    "collapsed": true
   },
   "outputs": [
    {
     "data": {
      "text/plain": [
       "count    1.570830e+05\n",
       "mean     2.837283e-13\n",
       "std      1.098448e+02\n",
       "min     -1.173212e+01\n",
       "25%     -1.173212e+01\n",
       "50%     -1.073212e+01\n",
       "75%     -6.732123e+00\n",
       "max      2.005327e+04\n",
       "Name: prefix_count_diff, dtype: float64"
      ]
     },
     "execution_count": 24,
     "metadata": {},
     "output_type": "execute_result"
    }
   ],
   "source": [
    "temp['prefix_count_diff'].describe()"
   ]
  },
  {
   "cell_type": "code",
   "execution_count": 20,
   "metadata": {},
   "outputs": [],
   "source": [
    "# prefix的点击数占比与搜索数占比\n",
    "feature_prefix['prefix_click_ratio'] = feature_prefix['prefix_click']/feature_prefix['prefix_click'].sum()\n",
    "feature_prefix['prefix_count_ratio'] = feature_prefix['prefix_count']/feature_prefix['prefix_count'].sum()"
   ]
  },
  {
   "cell_type": "code",
   "execution_count": 33,
   "metadata": {
    "collapsed": true
   },
   "outputs": [
    {
     "data": {
      "text/plain": [
       "count    157083.000000\n",
       "mean          0.000006\n",
       "std           0.000054\n",
       "min           0.000000\n",
       "25%           0.000001\n",
       "50%           0.000001\n",
       "75%           0.000003\n",
       "max           0.009527\n",
       "Name: prefix_click_ratio, dtype: float64"
      ]
     },
     "execution_count": 33,
     "metadata": {},
     "output_type": "execute_result"
    }
   ],
   "source": [
    "temp['prefix_click_ratio'].describe()"
   ]
  },
  {
   "cell_type": "code",
   "execution_count": 34,
   "metadata": {
    "collapsed": true
   },
   "outputs": [
    {
     "data": {
      "text/plain": [
       "count    1.570830e+05\n",
       "mean     6.366061e-06\n",
       "std      5.492241e-05\n",
       "min      5.000000e-07\n",
       "25%      5.000000e-07\n",
       "50%      1.000000e-06\n",
       "75%      3.000000e-06\n",
       "max      1.003300e-02\n",
       "Name: prefix_count_ratio, dtype: float64"
      ]
     },
     "execution_count": 34,
     "metadata": {},
     "output_type": "execute_result"
    }
   ],
   "source": [
    "temp['prefix_count_ratio'].describe()"
   ]
  },
  {
   "cell_type": "code",
   "execution_count": 21,
   "metadata": {},
   "outputs": [],
   "source": [
    "# prefix的点击数log占比与搜索数log占比\n",
    "feature_prefix['prefix_click_ratio_log'] = np.log1p(feature_prefix['prefix_click'])-np.log1p(feature_prefix['prefix_click'].sum())\n",
    "feature_prefix['prefix_count_ratio_log'] = np.log1p(feature_prefix['prefix_count'])-np.log1p(feature_prefix['prefix_count'].sum())"
   ]
  },
  {
   "cell_type": "code",
   "execution_count": 39,
   "metadata": {
    "collapsed": true
   },
   "outputs": [
    {
     "data": {
      "text/plain": [
       "count    157083.000000\n",
       "mean        -12.601005\n",
       "std           0.880951\n",
       "min         -13.520060\n",
       "25%         -12.826913\n",
       "50%         -12.826913\n",
       "75%         -12.421447\n",
       "max          -4.653478\n",
       "Name: prefix_click_ratio_log, dtype: float64"
      ]
     },
     "execution_count": 39,
     "metadata": {},
     "output_type": "execute_result"
    }
   ],
   "source": [
    "temp['prefix_click_ratio_log'].describe()"
   ]
  },
  {
   "cell_type": "code",
   "execution_count": 40,
   "metadata": {
    "collapsed": true
   },
   "outputs": [
    {
     "data": {
      "text/plain": [
       "count    157083.000000\n",
       "mean        -12.958666\n",
       "std           0.998237\n",
       "min         -13.815511\n",
       "25%         -13.815511\n",
       "50%         -13.410046\n",
       "75%         -12.562748\n",
       "max          -4.601826\n",
       "Name: prefix_count_ratio_log, dtype: float64"
      ]
     },
     "execution_count": 40,
     "metadata": {},
     "output_type": "execute_result"
    }
   ],
   "source": [
    "temp['prefix_count_ratio_log'].describe()"
   ]
  },
  {
   "cell_type": "code",
   "execution_count": 50,
   "metadata": {
    "collapsed": true
   },
   "outputs": [
    {
     "data": {
      "text/plain": [
       "Index(['prefix', 'prefix_click', 'prefix_count', 'prefix_click_log',\n",
       "       'prefix_count_log', 'prefix_click_log2', 'prefix_count_log2',\n",
       "       'prefix_click_diff', 'prefix_count_diff', 'prefix_click_diff_log',\n",
       "       'prefix_count_diff_log', 'prefix_click_diff_log2',\n",
       "       'prefix_count_diff_log2', 'prefix_click_ratio', 'prefix_count_ratio',\n",
       "       'prefix_click_ratio_log', 'prefix_count_ratio_log'],\n",
       "      dtype='object')"
      ]
     },
     "execution_count": 50,
     "metadata": {},
     "output_type": "execute_result"
    }
   ],
   "source": [
    "temp.columns"
   ]
  },
  {
   "cell_type": "code",
   "execution_count": 22,
   "metadata": {
    "collapsed": true
   },
   "outputs": [
    {
     "data": {
      "text/plain": [
       "count    157083.000000\n",
       "mean          0.400028\n",
       "std           0.311563\n",
       "min           0.000000\n",
       "25%           0.166667\n",
       "50%           0.388889\n",
       "75%           0.500000\n",
       "max           1.000000\n",
       "Name: prefix_ctr_abs, dtype: float64"
      ]
     },
     "execution_count": 22,
     "metadata": {},
     "output_type": "execute_result"
    }
   ],
   "source": [
    "# prefix的绝对搜索转化率\n",
    "feature_prefix['prefix_ctr_abs'] = feature_prefix['prefix_click']/(feature_prefix['prefix_count'])\n",
    "feature_prefix['prefix_ctr_abs'].describe()"
   ]
  },
  {
   "cell_type": "code",
   "execution_count": 23,
   "metadata": {
    "collapsed": true
   },
   "outputs": [
    {
     "data": {
      "text/plain": [
       "count    157083.000000\n",
       "mean          0.375082\n",
       "std           0.043074\n",
       "min           0.037697\n",
       "25%           0.345001\n",
       "50%           0.379965\n",
       "75%           0.402674\n",
       "max           0.881683\n",
       "Name: prefix_ctr_smooth, dtype: float64"
      ]
     },
     "execution_count": 23,
     "metadata": {},
     "output_type": "execute_result"
    }
   ],
   "source": [
    "# prefix的贝叶斯平滑搜索转换率\n",
    "feature_prefix['prefix_ctr_smooth'] = (feature_prefix['prefix_click']+a)/(feature_prefix['prefix_count']+b)\n",
    "feature_prefix['prefix_ctr_smooth'].describe()"
   ]
  },
  {
   "cell_type": "code",
   "execution_count": 24,
   "metadata": {
    "collapsed": true
   },
   "outputs": [
    {
     "data": {
      "text/plain": [
       "count    1.570830e+05\n",
       "mean    -1.015851e-13\n",
       "std      3.115627e-01\n",
       "min     -4.000277e-01\n",
       "25%     -2.333610e-01\n",
       "50%     -1.113878e-02\n",
       "75%      9.997233e-02\n",
       "max      5.999723e-01\n",
       "Name: prefix_ctr_diff, dtype: float64"
      ]
     },
     "execution_count": 24,
     "metadata": {},
     "output_type": "execute_result"
    }
   ],
   "source": [
    "# prefix的绝对转化率差值\n",
    "feature_prefix['prefix_ctr_diff'] = feature_prefix['prefix_ctr_abs'] - feature_prefix['prefix_ctr_abs'].mean()\n",
    "feature_prefix['prefix_ctr_diff'].describe()"
   ]
  },
  {
   "cell_type": "code",
   "execution_count": 25,
   "metadata": {
    "collapsed": true
   },
   "outputs": [
    {
     "data": {
      "text/plain": [
       "count    1.570830e+05\n",
       "mean    -2.552491e-13\n",
       "std      7.788528e-01\n",
       "min     -1.000000e+00\n",
       "25%     -5.833622e-01\n",
       "50%     -2.784504e-02\n",
       "75%      2.499135e-01\n",
       "max      1.499827e+00\n",
       "Name: prefix_ctr_rela, dtype: float64"
      ]
     },
     "execution_count": 25,
     "metadata": {},
     "output_type": "execute_result"
    }
   ],
   "source": [
    "# prefix的相对转化率\n",
    "feature_prefix['prefix_ctr_rela'] = feature_prefix['prefix_ctr_diff']/(feature_prefix['prefix_ctr_abs'].mean())\n",
    "feature_prefix['prefix_ctr_rela'].describe()"
   ]
  },
  {
   "cell_type": "code",
   "execution_count": 26,
   "metadata": {
    "collapsed": true
   },
   "outputs": [
    {
     "data": {
      "text/plain": [
       "count    157083.000000\n",
       "mean          0.532285\n",
       "std           0.335173\n",
       "min           0.000000\n",
       "25%           0.366532\n",
       "50%           0.630930\n",
       "75%           0.748873\n",
       "max           1.000000\n",
       "Name: prefix_ctr_log_abs, dtype: float64"
      ]
     },
     "execution_count": 26,
     "metadata": {},
     "output_type": "execute_result"
    }
   ],
   "source": [
    "# prefix的绝对转换率log\n",
    "feature_prefix['prefix_ctr_log_abs'] = feature_prefix['prefix_click_log']/(feature_prefix['prefix_count_log'])\n",
    "feature_prefix['prefix_ctr_log_abs'].describe()"
   ]
  },
  {
   "cell_type": "code",
   "execution_count": 27,
   "metadata": {
    "collapsed": true
   },
   "outputs": [
    {
     "data": {
      "text/plain": [
       "count    157083.000000\n",
       "mean          0.632407\n",
       "std           0.088276\n",
       "min           0.260205\n",
       "25%           0.534467\n",
       "50%           0.656255\n",
       "75%           0.710265\n",
       "max           0.872975\n",
       "Name: prefix_ctr_log_smooth, dtype: float64"
      ]
     },
     "execution_count": 27,
     "metadata": {},
     "output_type": "execute_result"
    }
   ],
   "source": [
    "# prefix的log贝叶斯平滑转换率\n",
    "feature_prefix['prefix_ctr_log_smooth'] = (feature_prefix['prefix_click_log']+np.log1p(a))/(feature_prefix['prefix_count_log']+np.log1p(b))\n",
    "feature_prefix['prefix_ctr_log_smooth'].describe()"
   ]
  },
  {
   "cell_type": "code",
   "execution_count": 28,
   "metadata": {
    "collapsed": true
   },
   "outputs": [
    {
     "data": {
      "text/plain": [
       "count    1.570830e+05\n",
       "mean    -1.483742e-13\n",
       "std      3.351726e-01\n",
       "min     -5.322854e-01\n",
       "25%     -1.657532e-01\n",
       "50%      9.864436e-02\n",
       "75%      2.165878e-01\n",
       "max      4.677146e-01\n",
       "Name: prefix_ctr_log_diff, dtype: float64"
      ]
     },
     "execution_count": 28,
     "metadata": {},
     "output_type": "execute_result"
    }
   ],
   "source": [
    "# prefix的log绝对转化率差值\n",
    "feature_prefix['prefix_ctr_log_diff'] = feature_prefix['prefix_ctr_log_abs'] - feature_prefix['prefix_ctr_log_abs'].mean()\n",
    "feature_prefix['prefix_ctr_log_diff'].describe()"
   ]
  },
  {
   "cell_type": "code",
   "execution_count": 29,
   "metadata": {
    "collapsed": true
   },
   "outputs": [
    {
     "data": {
      "text/plain": [
       "count    1.570830e+05\n",
       "mean    -2.804937e-13\n",
       "std      6.296859e-01\n",
       "min     -1.000000e+00\n",
       "25%     -3.113992e-01\n",
       "50%      1.853223e-01\n",
       "75%      4.069017e-01\n",
       "max      8.786914e-01\n",
       "Name: prefix_ctr_log_rela, dtype: float64"
      ]
     },
     "execution_count": 29,
     "metadata": {},
     "output_type": "execute_result"
    }
   ],
   "source": [
    "# prefix的log相对转化率\n",
    "feature_prefix['prefix_ctr_log_rela'] = feature_prefix['prefix_ctr_log_diff']/(feature_prefix['prefix_ctr_log_abs'].mean())\n",
    "feature_prefix['prefix_ctr_log_rela'].describe()"
   ]
  },
  {
   "cell_type": "code",
   "execution_count": 30,
   "metadata": {},
   "outputs": [],
   "source": [
    "train_df = pd.merge(train_df, feature_prefix, on='prefix', how='left')\n",
    "valid_df = pd.merge(valid_df, feature_prefix, on='prefix', how='left')\n",
    "test_data = pd.merge(test_data, feature_prefix, on='prefix', how='left')\n",
    "feature_prefix.to_csv('d:/oppo/input/prefix_feature.txt',sep='\\t',index=False)\n",
    "del feature_prefix"
   ]
  },
  {
   "cell_type": "code",
   "execution_count": 32,
   "metadata": {},
   "outputs": [],
   "source": [
    "# prefix的点击次数和搜索次数\n",
    "temp = train_df[['prefix','label']].groupby('prefix', as_index = False)['label'].agg({'prefix_click':'sum', 'prefix_count':'count'})\n",
    "# prefix点击数和搜索数的log变换\n",
    "temp['prefix_click_log'] = np.log1p(temp['prefix_click'])\n",
    "temp['prefix_count_log'] = np.log1p(temp['prefix_count'])\n",
    "# 对prefix点击数和搜索数的log变换再做一次log变换\n",
    "temp['prefix_click_log2'] = np.log1p(temp['prefix_click_log'])\n",
    "temp['prefix_count_log2'] = np.log1p(temp['prefix_count_log'])\n",
    "\n",
    "# prefix的点击数差值与搜索数差值\n",
    "temp['prefix_click_diff'] = temp['prefix_click'] - temp['prefix_click'].mean()\n",
    "temp['prefix_count_diff'] = temp['prefix_count'] - temp['prefix_count'].mean()\n",
    "\n",
    "# prefix的点击数占比与搜索数占比\n",
    "temp['prefix_click_ratio'] = temp['prefix_click']/temp['prefix_click'].sum()\n",
    "temp['prefix_count_ratio'] = temp['prefix_count']/temp['prefix_count'].sum()\n",
    "# prefix的点击数log占比与搜索数log占比\n",
    "temp['prefix_click_ratio_log'] = np.log1p(temp['prefix_click'])-np.log1p(temp['prefix_click'].sum())\n",
    "temp['prefix_count_ratio_log'] = np.log1p(temp['prefix_count'])-np.log1p(temp['prefix_count'].sum())\n",
    "\n",
    "# prefix的绝对转化率\n",
    "temp['prefix_ctr_abs'] = temp['prefix_click']/(temp['prefix_count'])\n",
    "# prefix的贝叶斯平滑转换率\n",
    "temp['prefix_ctr_smooth'] = (temp['prefix_click']+a)/(temp['prefix_count']+b)\n",
    "# prefix的绝对转化率差值\n",
    "temp['prefix_ctr_diff'] = temp['prefix_ctr_abs'] - temp['prefix_ctr_abs'].mean()\n",
    "# prefix的相对转化率\n",
    "temp['prefix_ctr_rela'] = temp['prefix_ctr_diff']/(temp['prefix_ctr_abs'].mean())\n",
    "\n",
    "# prefix的log绝对转换率\n",
    "temp['prefix_ctr_log_abs'] = temp['prefix_click_log']-(temp['prefix_count_log'])\n",
    "# prefix的log贝叶斯平滑转换率\n",
    "temp['prefix_ctr_log_smooth'] = (temp['prefix_click_log']+np.log1p(a))/(temp['prefix_count_log']+np.log1p(b))\n",
    "# prefix的log绝对转化率差值\n",
    "temp['prefix_ctr_log_diff'] = temp['prefix_ctr_log_abs'] - temp['prefix_ctr_log_abs'].mean()\n",
    "# prefix的log相对转化率\n",
    "temp['prefix_ctr_log_rela'] = temp['prefix_ctr_log_diff']/(temp['prefix_ctr_log_abs'].mean())\n",
    "\n",
    "\n",
    "train_df = pd.merge(train_df, temp, on='prefix', how='left')\n",
    "valid_df = pd.merge(valid_df, temp, on='prefix', how='left')\n",
    "test_data = pd.merge(test_data, temp, on='prefix', how='left')\n",
    "del temp\n",
    "# 对于valid和test数据集中新出现的数值型特征，所有的缺失值用均值代替\n",
    "for col in valid_df.columns[train_df.dtypes == 'float64']:\n",
    "    valid_df.fillna(valid_df[col].mean())\n",
    "for col in test_data.columns[test_data.dtypes == 'float64']:\n",
    "    test_data.fillna(test_data[col].mean())"
   ]
  },
  {
   "cell_type": "markdown",
   "metadata": {},
   "source": [
    "### 2.1.2.prefix长度特征"
   ]
  },
  {
   "cell_type": "code",
   "execution_count": 31,
   "metadata": {},
   "outputs": [],
   "source": [
    "# prefix长度特征\n",
    "train_df['prefix_len'] = train_df['prefix'].apply(len)\n",
    "valid_df['prefix_len'] = valid_df['prefix'].apply(len)\n",
    "test_data['prefix_len'] = test_data['prefix'].apply(len)\n",
    "\n",
    "train_df[['prefix_len','label']].groupby(['prefix_len'])['label'].describe()\n",
    "\n",
    "train_df['prefix_len'] = train_df['prefix_len'].map(lambda x: 8 if x>8 else x)\n",
    "valid_df['prefix_len'] = valid_df['prefix_len'].map(lambda x: 8 if x>8 else x)\n",
    "test_data['prefix_len'] = test_data['prefix_len'].map(lambda x: 8 if x>8 else x)\n",
    "train_df[['prefix_len','label']].groupby(['prefix_len'])['label'].describe()\n",
    "\n",
    "# 平均每个prefix_len的点击次数\n",
    "a = train_df['label'].sum()/train_df['prefix_len'].nunique()\n",
    "a\n",
    "\n",
    "# 平均每个prefix_len的搜索次数\n",
    "b = train_df['label'].count()/train_df['prefix_len'].nunique()\n",
    "b\n",
    "\n",
    "# prefix的点击次数和搜索次数\n",
    "temp = train_df[['prefix_len','label']].groupby('prefix_len', as_index = False)['label'].agg({'prefixlen_click':'sum', 'prefixlen_count':'count'})\n",
    "\n",
    "temp['prefixlen_click_log'] = np.log1p(temp['prefixlen_click'])\n",
    "temp['prefixlen_count_log'] = np.log1p(temp['prefixlen_count'])\n",
    "\n",
    "# prefixlen的点击数差值与搜索数差值\n",
    "temp['prefixlen_click_diff'] = temp['prefixlen_click'] - temp['prefixlen_click'].mean()\n",
    "temp['prefixlen_count_diff'] = temp['prefixlen_count'] - temp['prefixlen_count'].mean()\n",
    "\n",
    "# prefix的点击数占比与搜索数占比\n",
    "temp['prefixlen_click_ratio'] = temp['prefixlen_click']/temp['prefixlen_click'].sum()\n",
    "temp['prefixlen_count_ratio'] = temp['prefixlen_count']/temp['prefixlen_count'].sum()\n",
    "\n",
    "# prefix的绝对转化率\n",
    "temp['prefixlen_ctr_abs'] = temp['prefixlen_click']/(temp['prefixlen_count'])\n",
    "# prefix的贝叶斯平滑转换率\n",
    "temp['prefixlen_ctr_smooth'] = (temp['prefixlen_click']+a)/(temp['prefixlen_count']+b)\n",
    "# prefix的绝对转化率差值\n",
    "temp['prefixlen_ctr_diff'] = temp['prefixlen_ctr_abs'] - temp['prefixlen_ctr_abs'].mean()\n",
    "# prefix的相对转化率\n",
    "temp['prefixlen_ctr_rela'] = temp['prefixlen_ctr_diff']/(temp['prefixlen_ctr_abs'].mean())\n",
    "\n",
    "train_df = pd.merge(train_df, temp, on='prefix_len', how='left')\n",
    "valid_df = pd.merge(valid_df, temp, on='prefix_len', how='left')\n",
    "test_data = pd.merge(test_data, temp, on='prefix_len', how='left')\n",
    "temp.to_csv('d:/oppo/input/prefixlen_feature.txt',sep='\\t',index=False)\n",
    "del temp"
   ]
  },
  {
   "cell_type": "code",
   "execution_count": 71,
   "metadata": {},
   "outputs": [],
   "source": [
    "# prefix长度特征\n",
    "train_df['prefix_len'] = train_df['prefix'].apply(len)\n",
    "valid_df['prefix_len'] = valid_df['prefix'].apply(len)\n",
    "test_data['prefix_len'] = test_data['prefix'].apply(len)"
   ]
  },
  {
   "cell_type": "code",
   "execution_count": 18,
   "metadata": {},
   "outputs": [
    {
     "data": {
      "text/plain": [
       "               count      mean       std  min   25%  50%  75%  max\n",
       "prefix_len                                                        \n",
       "1           216497.0  0.381285  0.485703  0.0  0.00  0.0  1.0  1.0\n",
       "2           857335.0  0.367039  0.481997  0.0  0.00  0.0  1.0  1.0\n",
       "3           452578.0  0.369932  0.482786  0.0  0.00  0.0  1.0  1.0\n",
       "4           330275.0  0.375009  0.484126  0.0  0.00  0.0  1.0  1.0\n",
       "5            85739.0  0.384434  0.486464  0.0  0.00  0.0  1.0  1.0\n",
       "6            34472.0  0.388315  0.487374  0.0  0.00  0.0  1.0  1.0\n",
       "7            14066.0  0.397057  0.489305  0.0  0.00  0.0  1.0  1.0\n",
       "8             5300.0  0.414906  0.492752  0.0  0.00  0.0  1.0  1.0\n",
       "9             2260.0  0.406195  0.491230  0.0  0.00  0.0  1.0  1.0\n",
       "10            1138.0  0.427065  0.494869  0.0  0.00  0.0  1.0  1.0\n",
       "11             135.0  0.451852  0.499530  0.0  0.00  0.0  1.0  1.0\n",
       "12             113.0  0.495575  0.502208  0.0  0.00  0.0  1.0  1.0\n",
       "13              55.0  0.418182  0.497807  0.0  0.00  0.0  1.0  1.0\n",
       "14              10.0  0.700000  0.483046  0.0  0.25  1.0  1.0  1.0\n",
       "15               6.0  0.500000  0.547723  0.0  0.00  0.5  1.0  1.0\n",
       "16               4.0  0.750000  0.500000  0.0  0.75  1.0  1.0  1.0\n",
       "17              11.0  0.181818  0.404520  0.0  0.00  0.0  0.0  1.0\n",
       "18               1.0  0.000000       NaN  0.0  0.00  0.0  0.0  0.0\n",
       "19               2.0  1.000000  0.000000  1.0  1.00  1.0  1.0  1.0\n",
       "20               3.0  0.666667  0.577350  0.0  0.50  1.0  1.0  1.0"
      ]
     },
     "execution_count": 18,
     "metadata": {},
     "output_type": "execute_result"
    }
   ],
   "source": [
    "train_df[['prefix_len','label']].groupby(['prefix_len'])['label'].describe()"
   ]
  },
  {
   "cell_type": "code",
   "execution_count": 73,
   "metadata": {},
   "outputs": [
    {
     "data": {
      "text/plain": [
       "               count      mean       std  min  25%  50%  75%  max\n",
       "prefix_len                                                       \n",
       "1           216497.0  0.381285  0.485703  0.0  0.0  0.0  1.0  1.0\n",
       "2           857335.0  0.367039  0.481997  0.0  0.0  0.0  1.0  1.0\n",
       "3           452578.0  0.369932  0.482786  0.0  0.0  0.0  1.0  1.0\n",
       "4           330275.0  0.375009  0.484126  0.0  0.0  0.0  1.0  1.0\n",
       "5            85739.0  0.384434  0.486464  0.0  0.0  0.0  1.0  1.0\n",
       "6            34472.0  0.388315  0.487374  0.0  0.0  0.0  1.0  1.0\n",
       "7            14066.0  0.397057  0.489305  0.0  0.0  0.0  1.0  1.0\n",
       "8             9038.0  0.416243  0.492962  0.0  0.0  0.0  1.0  1.0"
      ]
     },
     "execution_count": 73,
     "metadata": {},
     "output_type": "execute_result"
    }
   ],
   "source": [
    "train_df['prefix_len'] = train_df['prefix_len'].map(lambda x: 8 if x>8 else x)\n",
    "valid_df['prefix_len'] = valid_df['prefix_len'].map(lambda x: 8 if x>8 else x)\n",
    "test_data['prefix_len'] = test_data['prefix_len'].map(lambda x: 8 if x>8 else x)\n",
    "train_df[['prefix_len','label']].groupby(['prefix_len'])['label'].describe()"
   ]
  },
  {
   "cell_type": "code",
   "execution_count": 75,
   "metadata": {},
   "outputs": [
    {
     "data": {
      "text/plain": [
       "93024.375"
      ]
     },
     "execution_count": 75,
     "metadata": {},
     "output_type": "execute_result"
    }
   ],
   "source": [
    "# 平均每个prefix_len的点击次数\n",
    "a = train_df['label'].sum()/train_df['prefix_len'].nunique()\n",
    "a"
   ]
  },
  {
   "cell_type": "code",
   "execution_count": 76,
   "metadata": {},
   "outputs": [
    {
     "data": {
      "text/plain": [
       "250000.0"
      ]
     },
     "execution_count": 76,
     "metadata": {},
     "output_type": "execute_result"
    }
   ],
   "source": [
    "# 平均每个prefix_len的搜索次数\n",
    "b = train_df['label'].count()/train_df['prefix_len'].nunique()\n",
    "b"
   ]
  },
  {
   "cell_type": "code",
   "execution_count": 77,
   "metadata": {},
   "outputs": [],
   "source": [
    "# prefix的点击次数和搜索次数\n",
    "temp = train_df[['prefix_len','label']].groupby('prefix_len', as_index = False)['label'].agg({'prefixlen_click':'sum', 'prefixlen_count':'count'})"
   ]
  },
  {
   "cell_type": "code",
   "execution_count": 80,
   "metadata": {},
   "outputs": [
    {
     "data": {
      "text/plain": [
       "count         8.000000\n",
       "mean      93024.375000\n",
       "std      107761.519193\n",
       "min        3762.000000\n",
       "25%       11435.750000\n",
       "50%       57754.000000\n",
       "75%      134747.750000\n",
       "max      314675.000000\n",
       "Name: prefixlen_click, dtype: float64"
      ]
     },
     "execution_count": 80,
     "metadata": {},
     "output_type": "execute_result"
    }
   ],
   "source": [
    "temp['prefixlen_click'].describe()"
   ]
  },
  {
   "cell_type": "code",
   "execution_count": 81,
   "metadata": {},
   "outputs": [
    {
     "data": {
      "text/plain": [
       "count         8.000000\n",
       "mean     250000.000000\n",
       "std      293895.440019\n",
       "min        9038.000000\n",
       "25%       29370.500000\n",
       "50%      151118.000000\n",
       "75%      360850.750000\n",
       "max      857335.000000\n",
       "Name: prefixlen_count, dtype: float64"
      ]
     },
     "execution_count": 81,
     "metadata": {},
     "output_type": "execute_result"
    }
   ],
   "source": [
    "temp['prefixlen_count'].describe()"
   ]
  },
  {
   "cell_type": "code",
   "execution_count": 82,
   "metadata": {},
   "outputs": [
    {
     "data": {
      "text/plain": [
       "count     8.000000\n",
       "mean     10.562718\n",
       "std       1.638610\n",
       "min       8.232972\n",
       "25%       9.283534\n",
       "50%      10.862123\n",
       "75%      11.802233\n",
       "max      12.659299\n",
       "Name: prefixlen_click_log, dtype: float64"
      ]
     },
     "execution_count": 82,
     "metadata": {},
     "output_type": "execute_result"
    }
   ],
   "source": [
    "temp['prefixlen_click_log'] = np.log1p(temp['prefixlen_click'])\n",
    "temp['prefixlen_click_log'].describe()"
   ]
  },
  {
   "cell_type": "code",
   "execution_count": 83,
   "metadata": {},
   "outputs": [
    {
     "data": {
      "text/plain": [
       "count     8.000000\n",
       "mean     11.518153\n",
       "std       1.677676\n",
       "min       9.109304\n",
       "25%      10.223845\n",
       "50%      11.822206\n",
       "75%      12.786442\n",
       "max      13.661585\n",
       "Name: prefixlen_count_log, dtype: float64"
      ]
     },
     "execution_count": 83,
     "metadata": {},
     "output_type": "execute_result"
    }
   ],
   "source": [
    "temp['prefixlen_count_log'] = np.log1p(temp['prefixlen_count'])\n",
    "temp['prefixlen_count_log'].describe()"
   ]
  },
  {
   "cell_type": "code",
   "execution_count": 84,
   "metadata": {},
   "outputs": [],
   "source": [
    "# prefixlen的点击数差值与搜索数差值\n",
    "temp['prefixlen_click_diff'] = temp['prefixlen_click'] - temp['prefixlen_click'].mean()\n",
    "temp['prefixlen_count_diff'] = temp['prefixlen_count'] - temp['prefixlen_count'].mean()"
   ]
  },
  {
   "cell_type": "code",
   "execution_count": 85,
   "metadata": {},
   "outputs": [
    {
     "data": {
      "text/plain": [
       "count         8.000000\n",
       "mean          0.000000\n",
       "std      107761.519193\n",
       "min      -89262.375000\n",
       "25%      -81588.625000\n",
       "50%      -35270.375000\n",
       "75%       41723.375000\n",
       "max      221650.625000\n",
       "Name: prefixlen_click_diff, dtype: float64"
      ]
     },
     "execution_count": 85,
     "metadata": {},
     "output_type": "execute_result"
    }
   ],
   "source": [
    "temp['prefixlen_click_diff'].describe()"
   ]
  },
  {
   "cell_type": "code",
   "execution_count": 86,
   "metadata": {},
   "outputs": [
    {
     "data": {
      "text/plain": [
       "count         8.000000\n",
       "mean          0.000000\n",
       "std      293895.440019\n",
       "min     -240962.000000\n",
       "25%     -220629.500000\n",
       "50%      -98882.000000\n",
       "75%      110850.750000\n",
       "max      607335.000000\n",
       "Name: prefixlen_count_diff, dtype: float64"
      ]
     },
     "execution_count": 86,
     "metadata": {},
     "output_type": "execute_result"
    }
   ],
   "source": [
    "temp['prefixlen_count_diff'].describe()"
   ]
  },
  {
   "cell_type": "code",
   "execution_count": 87,
   "metadata": {},
   "outputs": [],
   "source": [
    "# prefix的点击数占比与搜索数占比\n",
    "temp['prefixlen_click_ratio'] = temp['prefixlen_click']/temp['prefixlen_click'].sum()\n",
    "temp['prefixlen_count_ratio'] = temp['prefixlen_count']/temp['prefixlen_count'].sum()"
   ]
  },
  {
   "cell_type": "code",
   "execution_count": 88,
   "metadata": {},
   "outputs": [
    {
     "data": {
      "text/plain": [
       "count    8.000000\n",
       "mean     0.125000\n",
       "std      0.144803\n",
       "min      0.005055\n",
       "25%      0.015367\n",
       "50%      0.077606\n",
       "75%      0.181065\n",
       "max      0.422839\n",
       "Name: prefixlen_click_ratio, dtype: float64"
      ]
     },
     "execution_count": 88,
     "metadata": {},
     "output_type": "execute_result"
    }
   ],
   "source": [
    "temp['prefixlen_click_ratio'].describe()"
   ]
  },
  {
   "cell_type": "code",
   "execution_count": 89,
   "metadata": {},
   "outputs": [
    {
     "data": {
      "text/plain": [
       "count    8.000000\n",
       "mean     0.125000\n",
       "std      0.146948\n",
       "min      0.004519\n",
       "25%      0.014685\n",
       "50%      0.075559\n",
       "75%      0.180425\n",
       "max      0.428667\n",
       "Name: prefixlen_count_ratio, dtype: float64"
      ]
     },
     "execution_count": 89,
     "metadata": {},
     "output_type": "execute_result"
    }
   ],
   "source": [
    "temp['prefixlen_count_ratio'].describe()"
   ]
  },
  {
   "cell_type": "code",
   "execution_count": 90,
   "metadata": {},
   "outputs": [
    {
     "data": {
      "text/plain": [
       "count    8.000000\n",
       "mean     0.384914\n",
       "std      0.016018\n",
       "min      0.367039\n",
       "25%      0.373739\n",
       "50%      0.382859\n",
       "75%      0.390501\n",
       "max      0.416243\n",
       "Name: prefixlen_ctr_abs, dtype: float64"
      ]
     },
     "execution_count": 90,
     "metadata": {},
     "output_type": "execute_result"
    }
   ],
   "source": [
    "# prefix的绝对转化率\n",
    "temp['prefixlen_ctr_abs'] = temp['prefixlen_click']/(temp['prefixlen_count'])\n",
    "temp['prefixlen_ctr_abs'].describe()"
   ]
  },
  {
   "cell_type": "code",
   "execution_count": 91,
   "metadata": {},
   "outputs": [
    {
     "data": {
      "text/plain": [
       "count    8.000000\n",
       "mean     0.373172\n",
       "std      0.002589\n",
       "min      0.368181\n",
       "25%      0.372746\n",
       "50%      0.373696\n",
       "75%      0.374359\n",
       "max      0.376361\n",
       "Name: prefixlen_ctr_smooth, dtype: float64"
      ]
     },
     "execution_count": 91,
     "metadata": {},
     "output_type": "execute_result"
    }
   ],
   "source": [
    "# prefix的贝叶斯平滑转换率\n",
    "temp['prefixlen_ctr_smooth'] = (temp['prefixlen_click']+a)/(temp['prefixlen_count']+b)\n",
    "temp['prefixlen_ctr_smooth'].describe()"
   ]
  },
  {
   "cell_type": "code",
   "execution_count": 92,
   "metadata": {},
   "outputs": [
    {
     "data": {
      "text/plain": [
       "count    8.000000e+00\n",
       "mean     1.387779e-17\n",
       "std      1.601787e-02\n",
       "min     -1.787549e-02\n",
       "25%     -1.117457e-02\n",
       "50%     -2.054605e-03\n",
       "75%      5.586502e-03\n",
       "max      3.132848e-02\n",
       "Name: prefixlen_ctr_diff, dtype: float64"
      ]
     },
     "execution_count": 92,
     "metadata": {},
     "output_type": "execute_result"
    }
   ],
   "source": [
    "# prefix的绝对转化率差值\n",
    "temp['prefixlen_ctr_diff'] = temp['prefixlen_ctr_abs'] - temp['prefixlen_ctr_abs'].mean()\n",
    "temp['prefixlen_ctr_diff'].describe()"
   ]
  },
  {
   "cell_type": "code",
   "execution_count": 93,
   "metadata": {},
   "outputs": [
    {
     "data": {
      "text/plain": [
       "count    8.000000e+00\n",
       "mean     3.469447e-17\n",
       "std      4.161414e-02\n",
       "min     -4.644022e-02\n",
       "25%     -2.903133e-02\n",
       "50%     -5.337828e-03\n",
       "75%      1.451363e-02\n",
       "max      8.139086e-02\n",
       "Name: prefixlen_ctr_rela, dtype: float64"
      ]
     },
     "execution_count": 93,
     "metadata": {},
     "output_type": "execute_result"
    }
   ],
   "source": [
    "# prefix的相对转化率\n",
    "temp['prefixlen_ctr_rela'] = temp['prefixlen_ctr_diff']/(temp['prefixlen_ctr_abs'].mean())\n",
    "temp['prefixlen_ctr_rela'].describe()"
   ]
  },
  {
   "cell_type": "code",
   "execution_count": 95,
   "metadata": {},
   "outputs": [],
   "source": [
    "train_df = pd.merge(train_df, temp, on='prefix_len', how='left')\n",
    "valid_df = pd.merge(valid_df, temp, on='prefix_len', how='left')\n",
    "test_data = pd.merge(test_data, temp, on='prefix_len', how='left')\n",
    "del temp"
   ]
  },
  {
   "cell_type": "code",
   "execution_count": 98,
   "metadata": {
    "scrolled": true
   },
   "outputs": [
    {
     "data": {
      "text/plain": [
       "prefix                    0\n",
       "query_prediction          0\n",
       "title                     0\n",
       "tag                       0\n",
       "label                     0\n",
       "prefix_click              0\n",
       "prefix_count              0\n",
       "prefix_click_log          0\n",
       "prefix_count_log          0\n",
       "prefix_click_log2         0\n",
       "prefix_count_log2         0\n",
       "prefix_click_diff         0\n",
       "prefix_count_diff         0\n",
       "prefix_click_ratio        0\n",
       "prefix_count_ratio        0\n",
       "prefix_click_ratio_log    0\n",
       "prefix_count_ratio_log    0\n",
       "prefix_ctr_abs            0\n",
       "prefix_ctr_smooth         0\n",
       "prefix_ctr_diff           0\n",
       "prefix_ctr_rela           0\n",
       "prefix_ctr_log_abs        0\n",
       "prefix_ctr_log_smooth     0\n",
       "prefix_ctr_log_diff       0\n",
       "prefix_ctr_log_rela       0\n",
       "prefix_len                0\n",
       "prefixlen_click           0\n",
       "prefixlen_count           0\n",
       "prefixlen_click_log       0\n",
       "prefixlen_count_log       0\n",
       "prefixlen_click_diff      0\n",
       "prefixlen_count_diff      0\n",
       "prefixlen_click_ratio     0\n",
       "prefixlen_count_ratio     0\n",
       "prefixlen_ctr_abs         0\n",
       "prefixlen_ctr_smooth      0\n",
       "prefixlen_ctr_diff        0\n",
       "prefixlen_ctr_rela        0\n",
       "dtype: int64"
      ]
     },
     "execution_count": 98,
     "metadata": {},
     "output_type": "execute_result"
    }
   ],
   "source": [
    "# prefix长度没有缺失值\n",
    "train_df.isnull().sum()"
   ]
  },
  {
   "cell_type": "markdown",
   "metadata": {},
   "source": [
    "### 2.1.3.query_prediction特征"
   ]
  },
  {
   "cell_type": "code",
   "execution_count": 32,
   "metadata": {},
   "outputs": [],
   "source": [
    "# query_prediction个数\n",
    "def split_prediction(text):\n",
    "    if pd.isna(text): return []\n",
    "    return [s.strip() for s in text.replace(\"{\", \"\").replace(\"}\", \"\").split(\", \")]\n",
    "train_df['pred_list'] = train_df['query_prediction'].apply(split_prediction)\n",
    "train_df['pred_len'] = train_df['pred_list'].apply(len)\n",
    "\n",
    "valid_df['pred_list'] = valid_df['query_prediction'].apply(split_prediction)\n",
    "valid_df['pred_len'] = valid_df['pred_list'].apply(len)\n",
    "\n",
    "test_data['pred_list'] = test_data['query_prediction'].apply(split_prediction)\n",
    "test_data['pred_len'] = test_data['pred_list'].apply(len)\n"
   ]
  },
  {
   "cell_type": "code",
   "execution_count": 100,
   "metadata": {},
   "outputs": [
    {
     "data": {
      "text/plain": [
       "count    2.000000e+06\n",
       "mean     9.412712e+00\n",
       "std      1.484274e+00\n",
       "min      1.000000e+00\n",
       "25%      9.000000e+00\n",
       "50%      1.000000e+01\n",
       "75%      1.000000e+01\n",
       "max      1.000000e+01\n",
       "Name: pred_len, dtype: float64"
      ]
     },
     "execution_count": 100,
     "metadata": {},
     "output_type": "execute_result"
    }
   ],
   "source": [
    "train_df['pred_len'].describe()"
   ]
  },
  {
   "cell_type": "code",
   "execution_count": 33,
   "metadata": {},
   "outputs": [
    {
     "data": {
      "text/plain": [
       "              count      mean       std  min  25%  50%  75%  max\n",
       "pred_len                                                        \n",
       "1           20639.0  0.408547  0.491577  0.0  0.0  0.0  1.0  1.0\n",
       "2           14593.0  0.416433  0.492984  0.0  0.0  0.0  1.0  1.0\n",
       "3           11998.0  0.403067  0.490534  0.0  0.0  0.0  1.0  1.0\n",
       "4           11814.0  0.404605  0.490836  0.0  0.0  0.0  1.0  1.0\n",
       "5           13207.0  0.407663  0.491418  0.0  0.0  0.0  1.0  1.0\n",
       "6           12399.0  0.388660  0.487466  0.0  0.0  0.0  1.0  1.0\n",
       "7           14982.0  0.408824  0.491633  0.0  0.0  0.0  1.0  1.0\n",
       "8          128500.0  0.375058  0.484140  0.0  0.0  0.0  1.0  1.0\n",
       "9          299634.0  0.375024  0.484130  0.0  0.0  0.0  1.0  1.0\n",
       "10        1472234.0  0.368947  0.482520  0.0  0.0  0.0  1.0  1.0"
      ]
     },
     "execution_count": 33,
     "metadata": {},
     "output_type": "execute_result"
    }
   ],
   "source": [
    "train_df[['pred_len','label']].groupby(['pred_len'])['label'].describe()"
   ]
  },
  {
   "cell_type": "code",
   "execution_count": 34,
   "metadata": {},
   "outputs": [
    {
     "data": {
      "text/plain": [
       "74419.5"
      ]
     },
     "execution_count": 34,
     "metadata": {},
     "output_type": "execute_result"
    }
   ],
   "source": [
    "# 平均每个pred_len的点击次数\n",
    "a = train_df['label'].sum()/train_df['pred_len'].nunique()\n",
    "a"
   ]
  },
  {
   "cell_type": "code",
   "execution_count": 35,
   "metadata": {},
   "outputs": [
    {
     "data": {
      "text/plain": [
       "200000.0"
      ]
     },
     "execution_count": 35,
     "metadata": {},
     "output_type": "execute_result"
    }
   ],
   "source": [
    "# 平均每个pred_len的搜索次数\n",
    "b = train_df['label'].count()/train_df['pred_len'].nunique()\n",
    "b"
   ]
  },
  {
   "cell_type": "code",
   "execution_count": 36,
   "metadata": {},
   "outputs": [],
   "source": [
    "# prefix的点击次数和搜索次数\n",
    "temp = train_df[['pred_len','label']].groupby('pred_len', as_index = False)['label'].agg({'predlen_click':'sum', 'predlen_count':'count'})"
   ]
  },
  {
   "cell_type": "code",
   "execution_count": 37,
   "metadata": {},
   "outputs": [
    {
     "data": {
      "text/plain": [
       "count        10.000000\n",
       "mean      74419.500000\n",
       "std      168276.359382\n",
       "min        4780.000000\n",
       "25%        4973.000000\n",
       "50%        6101.000000\n",
       "75%       38254.250000\n",
       "max      543177.000000\n",
       "Name: predlen_click, dtype: float64"
      ]
     },
     "execution_count": 37,
     "metadata": {},
     "output_type": "execute_result"
    }
   ],
   "source": [
    "temp['predlen_click'].describe()"
   ]
  },
  {
   "cell_type": "code",
   "execution_count": 38,
   "metadata": {},
   "outputs": [
    {
     "data": {
      "text/plain": [
       "count    1.000000e+01\n",
       "mean     2.000000e+05\n",
       "std      4.564648e+05\n",
       "min      1.181400e+04\n",
       "25%      1.260100e+04\n",
       "50%      1.478750e+04\n",
       "75%      1.015348e+05\n",
       "max      1.472234e+06\n",
       "Name: predlen_count, dtype: float64"
      ]
     },
     "execution_count": 38,
     "metadata": {},
     "output_type": "execute_result"
    }
   ],
   "source": [
    "temp['predlen_count'].describe()"
   ]
  },
  {
   "cell_type": "code",
   "execution_count": 44,
   "metadata": {},
   "outputs": [],
   "source": [
    "temp['predlen_click_smooth'] = temp['predlen_click']+a\n",
    "temp['predlen_count_smooth'] = temp['predlen_count']+b"
   ]
  },
  {
   "cell_type": "code",
   "execution_count": 39,
   "metadata": {},
   "outputs": [],
   "source": [
    "temp['predlen_click_log'] = np.log1p(temp['predlen_click'])\n",
    "temp['predlen_count_log'] = np.log1p(temp['predlen_count'])"
   ]
  },
  {
   "cell_type": "code",
   "execution_count": 40,
   "metadata": {},
   "outputs": [
    {
     "data": {
      "text/plain": [
       "count    10.000000\n",
       "mean      9.611878\n",
       "std       1.672570\n",
       "min       8.472405\n",
       "25%       8.510881\n",
       "50%       8.716364\n",
       "75%      10.347250\n",
       "max      13.205192\n",
       "Name: predlen_click_log, dtype: float64"
      ]
     },
     "execution_count": 40,
     "metadata": {},
     "output_type": "execute_result"
    }
   ],
   "source": [
    "temp['predlen_click_log'].describe()"
   ]
  },
  {
   "cell_type": "code",
   "execution_count": 41,
   "metadata": {},
   "outputs": [
    {
     "data": {
      "text/plain": [
       "count    10.000000\n",
       "mean     10.539806\n",
       "std       1.710766\n",
       "min       9.377125\n",
       "25%       9.441233\n",
       "50%       9.601519\n",
       "75%      11.306516\n",
       "max      14.202292\n",
       "Name: predlen_count_log, dtype: float64"
      ]
     },
     "execution_count": 41,
     "metadata": {},
     "output_type": "execute_result"
    }
   ],
   "source": [
    "temp['predlen_count_log'].describe()"
   ]
  },
  {
   "cell_type": "code",
   "execution_count": 42,
   "metadata": {},
   "outputs": [],
   "source": [
    "# prefixlen的点击数差值与搜索数差值\n",
    "temp['predlen_click_diff'] = temp['predlen_click'] - temp['predlen_click'].mean()\n",
    "temp['predlen_count_diff'] = temp['predlen_count'] - temp['predlen_count'].mean()"
   ]
  },
  {
   "cell_type": "code",
   "execution_count": 43,
   "metadata": {},
   "outputs": [
    {
     "data": {
      "text/plain": [
       "count        10.000000\n",
       "mean          0.000000\n",
       "std      168276.359382\n",
       "min      -69639.500000\n",
       "25%      -69446.500000\n",
       "50%      -68318.500000\n",
       "75%      -36165.250000\n",
       "max      468757.500000\n",
       "Name: predlen_click_diff, dtype: float64"
      ]
     },
     "execution_count": 43,
     "metadata": {},
     "output_type": "execute_result"
    }
   ],
   "source": [
    "temp['predlen_click_diff'].describe()"
   ]
  },
  {
   "cell_type": "code",
   "execution_count": 114,
   "metadata": {},
   "outputs": [
    {
     "data": {
      "text/plain": [
       "count    1.000000e+01\n",
       "mean     0.000000e+00\n",
       "std      4.564648e+05\n",
       "min     -1.881860e+05\n",
       "25%     -1.873990e+05\n",
       "50%     -1.852125e+05\n",
       "75%     -9.846525e+04\n",
       "max      1.272234e+06\n",
       "Name: predlen_count_diff, dtype: float64"
      ]
     },
     "execution_count": 114,
     "metadata": {},
     "output_type": "execute_result"
    }
   ],
   "source": [
    "temp['predlen_count_diff'].describe()"
   ]
  },
  {
   "cell_type": "code",
   "execution_count": 45,
   "metadata": {},
   "outputs": [],
   "source": [
    "# pred的点击数占比与搜索数占比\n",
    "temp['predlen_click_ratio'] = temp['predlen_click']/temp['predlen_click'].sum()\n",
    "temp['predlen_count_ratio'] = temp['predlen_count']/temp['predlen_count'].sum()"
   ]
  },
  {
   "cell_type": "code",
   "execution_count": 116,
   "metadata": {},
   "outputs": [
    {
     "data": {
      "text/plain": [
       "count    10.000000\n",
       "mean      0.100000\n",
       "std       0.226119\n",
       "min       0.006423\n",
       "25%       0.006682\n",
       "50%       0.008198\n",
       "75%       0.051404\n",
       "max       0.729885\n",
       "Name: predlen_click_ratio, dtype: float64"
      ]
     },
     "execution_count": 116,
     "metadata": {},
     "output_type": "execute_result"
    }
   ],
   "source": [
    "temp['predlen_click_ratio'].describe()"
   ]
  },
  {
   "cell_type": "code",
   "execution_count": 117,
   "metadata": {},
   "outputs": [
    {
     "data": {
      "text/plain": [
       "count    10.000000\n",
       "mean      0.100000\n",
       "std       0.228232\n",
       "min       0.005907\n",
       "25%       0.006301\n",
       "50%       0.007394\n",
       "75%       0.050767\n",
       "max       0.736117\n",
       "Name: predlen_count_ratio, dtype: float64"
      ]
     },
     "execution_count": 117,
     "metadata": {},
     "output_type": "execute_result"
    }
   ],
   "source": [
    "temp['predlen_count_ratio'].describe()"
   ]
  },
  {
   "cell_type": "code",
   "execution_count": 46,
   "metadata": {},
   "outputs": [
    {
     "data": {
      "text/plain": [
       "count    10.000000\n",
       "mean      0.395683\n",
       "std       0.017200\n",
       "min       0.368947\n",
       "25%       0.378459\n",
       "50%       0.403836\n",
       "75%       0.408326\n",
       "max       0.416433\n",
       "Name: predlen_ctr_abs, dtype: float64"
      ]
     },
     "execution_count": 46,
     "metadata": {},
     "output_type": "execute_result"
    }
   ],
   "source": [
    "# pred的绝对转化率\n",
    "temp['predlen_ctr_abs'] = temp['predlen_click']/(temp['predlen_count'])\n",
    "temp['predlen_ctr_abs'].describe()"
   ]
  },
  {
   "cell_type": "code",
   "execution_count": 47,
   "metadata": {},
   "outputs": [
    {
     "data": {
      "text/plain": [
       "count    10.000000\n",
       "mean      0.373683\n",
       "std       0.001712\n",
       "min       0.369324\n",
       "25%       0.373404\n",
       "50%       0.373882\n",
       "75%       0.374568\n",
       "max       0.375507\n",
       "Name: predlen_ctr_smooth, dtype: float64"
      ]
     },
     "execution_count": 47,
     "metadata": {},
     "output_type": "execute_result"
    }
   ],
   "source": [
    "# pred的贝叶斯平滑转换率\n",
    "temp['predlen_ctr_smooth'] = (temp['predlen_click']+a)/(temp['predlen_count']+b)\n",
    "temp['predlen_ctr_smooth'].describe()"
   ]
  },
  {
   "cell_type": "code",
   "execution_count": 48,
   "metadata": {},
   "outputs": [
    {
     "data": {
      "text/plain": [
       "count    1.000000e+01\n",
       "mean     6.106227e-17\n",
       "std      1.720016e-02\n",
       "min     -2.673536e-02\n",
       "25%     -1.722396e-02\n",
       "50%      8.153115e-03\n",
       "75%      1.264302e-02\n",
       "max      2.074971e-02\n",
       "Name: predlen_ctr_diff, dtype: float64"
      ]
     },
     "execution_count": 48,
     "metadata": {},
     "output_type": "execute_result"
    }
   ],
   "source": [
    "# pred的绝对转化率差值\n",
    "temp['predlen_ctr_diff'] = temp['predlen_ctr_abs'] - temp['predlen_ctr_abs'].mean()\n",
    "temp['predlen_ctr_diff'].describe()"
   ]
  },
  {
   "cell_type": "code",
   "execution_count": 49,
   "metadata": {},
   "outputs": [
    {
     "data": {
      "text/plain": [
       "count    1.000000e+01\n",
       "mean     1.540434e-16\n",
       "std      4.346956e-02\n",
       "min     -6.756766e-02\n",
       "25%     -4.352971e-02\n",
       "50%      2.060518e-02\n",
       "75%      3.195240e-02\n",
       "max      5.244026e-02\n",
       "Name: predlen_ctr_rela, dtype: float64"
      ]
     },
     "execution_count": 49,
     "metadata": {},
     "output_type": "execute_result"
    }
   ],
   "source": [
    "# pred的相对转化率\n",
    "temp['predlen_ctr_rela'] = temp['predlen_ctr_diff']/(temp['predlen_ctr_abs'].mean())\n",
    "temp['predlen_ctr_rela'].describe()"
   ]
  },
  {
   "cell_type": "code",
   "execution_count": 50,
   "metadata": {},
   "outputs": [],
   "source": [
    "train_df = pd.merge(train_df, temp, on='pred_len', how='left')\n",
    "valid_df = pd.merge(valid_df, temp, on='pred_len', how='left')\n",
    "test_data = pd.merge(test_data, temp, on='pred_len', how='left')\n",
    "temp.to_csv('d:/oppo/input/predlen_feature.txt',sep='\\t',index=False)\n",
    "del temp"
   ]
  },
  {
   "cell_type": "markdown",
   "metadata": {},
   "source": [
    "### 2.1.4.title特征"
   ]
  },
  {
   "cell_type": "code",
   "execution_count": 51,
   "metadata": {},
   "outputs": [
    {
     "data": {
      "text/plain": [
       "251166"
      ]
     },
     "execution_count": 51,
     "metadata": {},
     "output_type": "execute_result"
    }
   ],
   "source": [
    "train_df['title'].nunique()"
   ]
  },
  {
   "cell_type": "code",
   "execution_count": 52,
   "metadata": {},
   "outputs": [
    {
     "data": {
      "text/plain": [
       "2.9629607510570697"
      ]
     },
     "execution_count": 52,
     "metadata": {},
     "output_type": "execute_result"
    }
   ],
   "source": [
    "a = train_df['label'].sum()/(train_df['title'].nunique())\n",
    "a"
   ]
  },
  {
   "cell_type": "code",
   "execution_count": 53,
   "metadata": {},
   "outputs": [
    {
     "data": {
      "text/plain": [
       "7.962861215291879"
      ]
     },
     "execution_count": 53,
     "metadata": {},
     "output_type": "execute_result"
    }
   ],
   "source": [
    "b = train_df['label'].count()/(train_df['title'].nunique())\n",
    "b"
   ]
  },
  {
   "cell_type": "code",
   "execution_count": 54,
   "metadata": {},
   "outputs": [],
   "source": [
    "# title的点击次数和搜索次数\n",
    "temp = train_df[['title','label']].groupby('title', as_index = False)['label'].agg({'title_click':'sum', 'title_count':'count'})"
   ]
  },
  {
   "cell_type": "code",
   "execution_count": 128,
   "metadata": {
    "collapsed": true
   },
   "outputs": [
    {
     "data": {
      "text/plain": [
       "count    251166.000000\n",
       "mean          2.962961\n",
       "std          39.522565\n",
       "min           0.000000\n",
       "25%           0.000000\n",
       "50%           1.000000\n",
       "75%           1.000000\n",
       "max       12825.000000\n",
       "Name: title_click, dtype: float64"
      ]
     },
     "execution_count": 128,
     "metadata": {},
     "output_type": "execute_result"
    }
   ],
   "source": [
    "temp['title_click'].describe()"
   ]
  },
  {
   "cell_type": "code",
   "execution_count": 129,
   "metadata": {
    "collapsed": true
   },
   "outputs": [
    {
     "data": {
      "text/plain": [
       "count    251166.000000\n",
       "mean          7.962861\n",
       "std          97.359365\n",
       "min           1.000000\n",
       "25%           1.000000\n",
       "50%           1.000000\n",
       "75%           4.000000\n",
       "max       34857.000000\n",
       "Name: title_count, dtype: float64"
      ]
     },
     "execution_count": 129,
     "metadata": {},
     "output_type": "execute_result"
    }
   ],
   "source": [
    "temp['title_count'].describe()"
   ]
  },
  {
   "cell_type": "code",
   "execution_count": 57,
   "metadata": {},
   "outputs": [],
   "source": [
    "temp['title_click_smooth'] = (temp['title_click']+a)/2\n",
    "temp['title_count_smooth'] = (temp['title_count']+b)/2"
   ]
  },
  {
   "cell_type": "code",
   "execution_count": 55,
   "metadata": {},
   "outputs": [],
   "source": [
    "# title点击数和搜索数的log变换\n",
    "temp['title_click_log'] = np.log1p(temp['title_click'])\n",
    "temp['title_count_log'] = np.log1p(temp['title_count'])"
   ]
  },
  {
   "cell_type": "code",
   "execution_count": 131,
   "metadata": {
    "collapsed": true
   },
   "outputs": [
    {
     "data": {
      "text/plain": [
       "count    251166.000000\n",
       "mean          0.604468\n",
       "std           0.810529\n",
       "min           0.000000\n",
       "25%           0.000000\n",
       "50%           0.693147\n",
       "75%           0.693147\n",
       "max           9.459230\n",
       "Name: title_click_log, dtype: float64"
      ]
     },
     "execution_count": 131,
     "metadata": {},
     "output_type": "execute_result"
    }
   ],
   "source": [
    "temp['title_click_log'].describe()"
   ]
  },
  {
   "cell_type": "code",
   "execution_count": 132,
   "metadata": {
    "collapsed": true
   },
   "outputs": [
    {
     "data": {
      "text/plain": [
       "count    251166.000000\n",
       "mean          1.264763\n",
       "std           0.879139\n",
       "min           0.693147\n",
       "25%           0.693147\n",
       "50%           0.693147\n",
       "75%           1.609438\n",
       "max          10.459038\n",
       "Name: title_count_log, dtype: float64"
      ]
     },
     "execution_count": 132,
     "metadata": {},
     "output_type": "execute_result"
    }
   ],
   "source": [
    "temp['title_count_log'].describe()"
   ]
  },
  {
   "cell_type": "code",
   "execution_count": 56,
   "metadata": {},
   "outputs": [],
   "source": [
    "# 对prefix点击数和搜索数的log变换再做一次log变换\n",
    "temp['title_click_log2'] = np.log1p(temp['title_click_log'])\n",
    "temp['title_count_log2'] = np.log1p(temp['title_count_log'])"
   ]
  },
  {
   "cell_type": "code",
   "execution_count": 134,
   "metadata": {
    "collapsed": true
   },
   "outputs": [
    {
     "data": {
      "text/plain": [
       "count    251166.000000\n",
       "mean          0.376324\n",
       "std           0.416624\n",
       "min           0.000000\n",
       "25%           0.000000\n",
       "50%           0.526589\n",
       "75%           0.526589\n",
       "max           2.347485\n",
       "Name: title_click_log2, dtype: float64"
      ]
     },
     "execution_count": 134,
     "metadata": {},
     "output_type": "execute_result"
    }
   ],
   "source": [
    "temp['title_click_log2'].describe()"
   ]
  },
  {
   "cell_type": "code",
   "execution_count": 135,
   "metadata": {
    "collapsed": true
   },
   "outputs": [
    {
     "data": {
      "text/plain": [
       "count    251166.000000\n",
       "mean          0.762258\n",
       "std           0.310182\n",
       "min           0.526589\n",
       "25%           0.526589\n",
       "50%           0.526589\n",
       "75%           0.959135\n",
       "max           2.438779\n",
       "Name: title_count_log2, dtype: float64"
      ]
     },
     "execution_count": 135,
     "metadata": {},
     "output_type": "execute_result"
    }
   ],
   "source": [
    "temp['title_count_log2'].describe()"
   ]
  },
  {
   "cell_type": "code",
   "execution_count": 58,
   "metadata": {},
   "outputs": [],
   "source": [
    "# prefix的点击数差值与搜索数差值\n",
    "temp['title_click_diff'] = temp['title_click'] - temp['title_click'].mean()\n",
    "temp['title_count_diff'] = temp['title_count'] - temp['title_count'].mean()"
   ]
  },
  {
   "cell_type": "code",
   "execution_count": 137,
   "metadata": {
    "collapsed": true
   },
   "outputs": [
    {
     "data": {
      "text/plain": [
       "count    2.511660e+05\n",
       "mean    -3.129602e-13\n",
       "std      3.952257e+01\n",
       "min     -2.962961e+00\n",
       "25%     -2.962961e+00\n",
       "50%     -1.962961e+00\n",
       "75%     -1.962961e+00\n",
       "max      1.282204e+04\n",
       "Name: title_click_diff, dtype: float64"
      ]
     },
     "execution_count": 137,
     "metadata": {},
     "output_type": "execute_result"
    }
   ],
   "source": [
    "temp['title_click_diff'].describe()"
   ]
  },
  {
   "cell_type": "code",
   "execution_count": 138,
   "metadata": {
    "collapsed": true
   },
   "outputs": [
    {
     "data": {
      "text/plain": [
       "count    2.511660e+05\n",
       "mean     6.917984e-13\n",
       "std      9.735936e+01\n",
       "min     -6.962861e+00\n",
       "25%     -6.962861e+00\n",
       "50%     -6.962861e+00\n",
       "75%     -3.962861e+00\n",
       "max      3.484904e+04\n",
       "Name: title_count_diff, dtype: float64"
      ]
     },
     "execution_count": 138,
     "metadata": {},
     "output_type": "execute_result"
    }
   ],
   "source": [
    "temp['title_count_diff'].describe()"
   ]
  },
  {
   "cell_type": "code",
   "execution_count": 59,
   "metadata": {},
   "outputs": [],
   "source": [
    "# prefix的点击数占比与搜索数占比\n",
    "temp['title_click_ratio'] = temp['title_click']/temp['title_click'].sum()\n",
    "temp['title_count_ratio'] = temp['title_count']/temp['title_count'].sum()"
   ]
  },
  {
   "cell_type": "code",
   "execution_count": 140,
   "metadata": {
    "collapsed": true
   },
   "outputs": [
    {
     "data": {
      "text/plain": [
       "count    251166.000000\n",
       "mean          0.000004\n",
       "std           0.000053\n",
       "min           0.000000\n",
       "25%           0.000000\n",
       "50%           0.000001\n",
       "75%           0.000001\n",
       "max           0.017233\n",
       "Name: title_click_ratio, dtype: float64"
      ]
     },
     "execution_count": 140,
     "metadata": {},
     "output_type": "execute_result"
    }
   ],
   "source": [
    "temp['title_click_ratio'].describe()"
   ]
  },
  {
   "cell_type": "code",
   "execution_count": 141,
   "metadata": {
    "collapsed": true
   },
   "outputs": [
    {
     "data": {
      "text/plain": [
       "count    2.511660e+05\n",
       "mean     3.981431e-06\n",
       "std      4.867968e-05\n",
       "min      5.000000e-07\n",
       "25%      5.000000e-07\n",
       "50%      5.000000e-07\n",
       "75%      2.000000e-06\n",
       "max      1.742850e-02\n",
       "Name: title_count_ratio, dtype: float64"
      ]
     },
     "execution_count": 141,
     "metadata": {},
     "output_type": "execute_result"
    }
   ],
   "source": [
    "temp['title_count_ratio'].describe()"
   ]
  },
  {
   "cell_type": "code",
   "execution_count": 60,
   "metadata": {},
   "outputs": [],
   "source": [
    "# prefix的点击数log占比与搜索数log占比\n",
    "temp['title_click_ratio_log'] = np.log1p(temp['title_click'])-np.log1p(temp['title_click'].sum())\n",
    "temp['title_count_ratio_log'] = np.log1p(temp['title_count'])-np.log1p(temp['title_count'].sum())"
   ]
  },
  {
   "cell_type": "code",
   "execution_count": 143,
   "metadata": {
    "collapsed": true
   },
   "outputs": [
    {
     "data": {
      "text/plain": [
       "count    251166.000000\n",
       "mean        -12.915592\n",
       "std           0.810529\n",
       "min         -13.520060\n",
       "25%         -13.520060\n",
       "50%         -12.826913\n",
       "75%         -12.826913\n",
       "max          -4.060830\n",
       "Name: title_click_ratio_log, dtype: float64"
      ]
     },
     "execution_count": 143,
     "metadata": {},
     "output_type": "execute_result"
    }
   ],
   "source": [
    "temp['title_click_ratio_log'].describe()"
   ]
  },
  {
   "cell_type": "code",
   "execution_count": 144,
   "metadata": {
    "collapsed": true
   },
   "outputs": [
    {
     "data": {
      "text/plain": [
       "count    251166.000000\n",
       "mean        -13.243895\n",
       "std           0.879139\n",
       "min         -13.815511\n",
       "25%         -13.815511\n",
       "50%         -13.815511\n",
       "75%         -12.899220\n",
       "max          -4.049620\n",
       "Name: title_count_ratio_log, dtype: float64"
      ]
     },
     "execution_count": 144,
     "metadata": {},
     "output_type": "execute_result"
    }
   ],
   "source": [
    "temp['title_count_ratio_log'].describe()"
   ]
  },
  {
   "cell_type": "code",
   "execution_count": 61,
   "metadata": {
    "collapsed": true
   },
   "outputs": [
    {
     "data": {
      "text/plain": [
       "count    251166.000000\n",
       "mean          0.375549\n",
       "std           0.428661\n",
       "min           0.000000\n",
       "25%           0.000000\n",
       "50%           0.111111\n",
       "75%           1.000000\n",
       "max           1.000000\n",
       "Name: title_ctr_abs, dtype: float64"
      ]
     },
     "execution_count": 61,
     "metadata": {},
     "output_type": "execute_result"
    }
   ],
   "source": [
    "# prefix的绝对转化率\n",
    "temp['title_ctr_abs'] = temp['title_click']/(temp['title_count'])\n",
    "temp['title_ctr_abs'].describe()"
   ]
  },
  {
   "cell_type": "code",
   "execution_count": 62,
   "metadata": {},
   "outputs": [
    {
     "data": {
      "text/plain": [
       "count    251166.000000\n",
       "mean          0.372424\n",
       "std           0.106192\n",
       "min           0.004082\n",
       "25%           0.330582\n",
       "50%           0.330582\n",
       "75%           0.442154\n",
       "max           0.992731\n",
       "Name: title_ctr_smooth, dtype: float64"
      ]
     },
     "execution_count": 62,
     "metadata": {},
     "output_type": "execute_result"
    }
   ],
   "source": [
    "# prefix的贝叶斯平滑转换率\n",
    "temp['title_ctr_smooth'] = (temp['title_click']+a)/(temp['title_count']+b)\n",
    "temp['title_ctr_smooth'].describe()"
   ]
  },
  {
   "cell_type": "code",
   "execution_count": 63,
   "metadata": {},
   "outputs": [
    {
     "data": {
      "text/plain": [
       "count    2.511660e+05\n",
       "mean     2.383512e-14\n",
       "std      4.286608e-01\n",
       "min     -3.755487e-01\n",
       "25%     -3.755487e-01\n",
       "50%     -2.644376e-01\n",
       "75%      6.244513e-01\n",
       "max      6.244513e-01\n",
       "Name: title_ctr_diff, dtype: float64"
      ]
     },
     "execution_count": 63,
     "metadata": {},
     "output_type": "execute_result"
    }
   ],
   "source": [
    "# prefix的绝对转化率差值\n",
    "temp['title_ctr_diff'] = temp['title_ctr_abs'] - temp['title_ctr_abs'].mean()\n",
    "temp['title_ctr_diff'].describe()"
   ]
  },
  {
   "cell_type": "code",
   "execution_count": 64,
   "metadata": {},
   "outputs": [
    {
     "data": {
      "text/plain": [
       "count    2.511660e+05\n",
       "mean     3.654296e-14\n",
       "std      1.141425e+00\n",
       "min     -1.000000e+00\n",
       "25%     -1.000000e+00\n",
       "50%     -7.041366e-01\n",
       "75%      1.662770e+00\n",
       "max      1.662770e+00\n",
       "Name: title_ctr_rela, dtype: float64"
      ]
     },
     "execution_count": 64,
     "metadata": {},
     "output_type": "execute_result"
    }
   ],
   "source": [
    "# prefix的相对转化率\n",
    "temp['title_ctr_rela'] = temp['title_ctr_diff']/(temp['title_ctr_abs'].mean())\n",
    "temp['title_ctr_rela'].describe()"
   ]
  },
  {
   "cell_type": "code",
   "execution_count": 65,
   "metadata": {},
   "outputs": [],
   "source": [
    "# prefix的log绝对转换率\n",
    "temp['title_ctr_log_abs'] = temp['title_click_log']-(temp['title_count_log'])\n",
    "# prefix的log贝叶斯平滑转换率\n",
    "temp['title_ctr_log_smooth'] = (temp['title_click_log']+np.log1p(a))/(temp['title_count_log']+np.log1p(b))\n",
    "# prefix的log绝对转化率差值\n",
    "temp['title_ctr_log_diff'] = temp['title_ctr_log_abs'] - temp['title_ctr_log_abs'].mean()\n",
    "# prefix的log相对转化率\n",
    "temp['title_ctr_log_rela'] = temp['title_ctr_log_diff']/(temp['title_ctr_log_abs'].mean())"
   ]
  },
  {
   "cell_type": "code",
   "execution_count": 66,
   "metadata": {},
   "outputs": [
    {
     "ename": "SyntaxError",
     "evalue": "invalid syntax (<ipython-input-66-321fff33a850>, line 4)",
     "output_type": "error",
     "traceback": [
      "\u001b[1;36m  File \u001b[1;32m\"<ipython-input-66-321fff33a850>\"\u001b[1;36m, line \u001b[1;32m4\u001b[0m\n\u001b[1;33m    temp.to_csv('d:/oppo/input/title_feature.txt',sep'\\t',index=False)\u001b[0m\n\u001b[1;37m                                                        ^\u001b[0m\n\u001b[1;31mSyntaxError\u001b[0m\u001b[1;31m:\u001b[0m invalid syntax\n"
     ]
    }
   ],
   "source": [
    "train_df = pd.merge(train_df, temp, on='title', how='left')\n",
    "valid_df = pd.merge(valid_df, temp, on='title', how='left')\n",
    "test_data = pd.merge(test_data, temp, on='title', how='left')\n",
    "temp.to_csv('d:/oppo/input/title_feature.txt',sep='\\t',index=False)\n",
    "del temp"
   ]
  },
  {
   "cell_type": "code",
   "execution_count": null,
   "metadata": {},
   "outputs": [],
   "source": [
    "# 对于valid和test数据集中新出现的数值型特征，所有的缺失值用均值代替\n",
    "for col in valid_df.columns[train_df.dtypes == 'float64']:\n",
    "    valid_df.fillna(valid_df[col].mean())\n",
    "for col in test_data.columns[test_data.dtypes == 'float64']:\n",
    "    test_data.fillna(test_data[col].mean())"
   ]
  },
  {
   "cell_type": "code",
   "execution_count": null,
   "metadata": {},
   "outputs": [],
   "source": [
    "# prefix的点击次数和搜索次数\n",
    "temp = train_df[['prefix','label']].groupby('prefix', as_index = False)['label'].agg({'prefix_click':'sum', 'prefix_count':'count'})\n",
    "# prefix点击数和搜索数的log变换\n",
    "temp['prefix_click_log'] = np.log1p(temp['prefix_click'])\n",
    "temp['prefix_count_log'] = np.log1p(temp['prefix_count'])\n",
    "# 对prefix点击数和搜索数的log变换再做一次log变换\n",
    "temp['prefix_click_log2'] = np.log1p(temp['prefix_click_log'])\n",
    "temp['prefix_count_log2'] = np.log1p(temp['prefix_count_log'])\n",
    "\n",
    "# prefix的点击数差值与搜索数差值\n",
    "temp['prefix_click_diff'] = temp['prefix_click'] - temp['prefix_click'].mean()\n",
    "temp['prefix_count_diff'] = temp['prefix_count'] - temp['prefix_count'].mean()\n",
    "\n",
    "# prefix的点击数占比与搜索数占比\n",
    "temp['prefix_click_ratio'] = temp['prefix_click']/temp['prefix_click'].sum()\n",
    "temp['prefix_count_ratio'] = temp['prefix_count']/temp['prefix_count'].sum()\n",
    "# prefix的点击数log占比与搜索数log占比\n",
    "temp['prefix_click_ratio_log'] = np.log1p(temp['prefix_click'])-np.log1p(temp['prefix_click'].sum())\n",
    "temp['prefix_count_ratio_log'] = np.log1p(temp['prefix_count'])-np.log1p(temp['prefix_count'].sum())\n",
    "\n",
    "# prefix的绝对转化率\n",
    "temp['prefix_ctr_abs'] = temp['prefix_click']/(temp['prefix_count'])\n",
    "# prefix的贝叶斯平滑转换率\n",
    "temp['prefix_ctr_smooth'] = (temp['prefix_click']+a)/(temp['prefix_count']+b)\n",
    "# prefix的绝对转化率差值\n",
    "temp['prefix_ctr_diff'] = temp['prefix_ctr_abs'] - temp['prefix_ctr_abs'].mean()\n",
    "# prefix的相对转化率\n",
    "temp['prefix_ctr_rela'] = temp['prefix_ctr_diff']/(temp['prefix_ctr_abs'].mean())\n",
    "\n",
    "# prefix的log绝对转换率\n",
    "temp['prefix_ctr_log_abs'] = temp['prefix_click_log']-(temp['prefix_count_log'])\n",
    "# prefix的log贝叶斯平滑转换率\n",
    "temp['prefix_ctr_log_smooth'] = (temp['prefix_click_log']+np.log1p(a))/(temp['prefix_count_log']+np.log1p(b))\n",
    "# prefix的log绝对转化率差值\n",
    "temp['prefix_ctr_log_diff'] = temp['prefix_ctr_log_abs'] - temp['prefix_ctr_log_abs'].mean()\n",
    "# prefix的log相对转化率\n",
    "temp['prefix_ctr_log_rela'] = temp['prefix_ctr_log_diff']/(temp['prefix_ctr_log_abs'].mean())\n",
    "\n",
    "\n",
    "train_df = pd.merge(train_df, temp, on='prefix', how='left')\n",
    "valid_df = pd.merge(valid_df, temp, on='prefix', how='left')\n",
    "test_data = pd.merge(test_data, temp, on='prefix', how='left')\n"
   ]
  },
  {
   "cell_type": "markdown",
   "metadata": {},
   "source": [
    "### 2.1.5.title length特征"
   ]
  },
  {
   "cell_type": "code",
   "execution_count": 68,
   "metadata": {},
   "outputs": [],
   "source": [
    "# title长度特征\n",
    "train_df['title_len'] = train_df['title'].apply(len)\n",
    "valid_df['title_len'] = valid_df['title'].apply(len)\n",
    "test_data['title_len'] = test_data['title'].apply(len)"
   ]
  },
  {
   "cell_type": "code",
   "execution_count": 69,
   "metadata": {},
   "outputs": [
    {
     "data": {
      "text/plain": [
       "count    2.000000e+06\n",
       "mean     6.305289e+00\n",
       "std      4.162102e+00\n",
       "min      1.000000e+00\n",
       "25%      4.000000e+00\n",
       "50%      5.000000e+00\n",
       "75%      8.000000e+00\n",
       "max      1.370000e+02\n",
       "Name: title_len, dtype: float64"
      ]
     },
     "execution_count": 69,
     "metadata": {},
     "output_type": "execute_result"
    }
   ],
   "source": [
    "train_df['title_len'].describe()"
   ]
  },
  {
   "cell_type": "code",
   "execution_count": 70,
   "metadata": {},
   "outputs": [
    {
     "data": {
      "text/plain": [
       "count    50000.000000\n",
       "mean         6.313600\n",
       "std          4.116362\n",
       "min          1.000000\n",
       "25%          4.000000\n",
       "50%          5.000000\n",
       "75%          8.000000\n",
       "max         64.000000\n",
       "Name: title_len, dtype: float64"
      ]
     },
     "execution_count": 70,
     "metadata": {},
     "output_type": "execute_result"
    }
   ],
   "source": [
    "test_data['title_len'].describe()"
   ]
  },
  {
   "cell_type": "code",
   "execution_count": 159,
   "metadata": {
    "scrolled": true
   },
   "outputs": [
    {
     "data": {
      "text/plain": [
       "              count      mean       std  min  25%  50%  75%  max\n",
       "title_len                                                       \n",
       "1            6904.0  0.584154  0.492903  0.0  0.0  1.0  1.0  1.0\n",
       "2          174275.0  0.398009  0.489489  0.0  0.0  0.0  1.0  1.0\n",
       "3          275613.0  0.406178  0.491119  0.0  0.0  0.0  1.0  1.0\n",
       "4          406876.0  0.383114  0.486146  0.0  0.0  0.0  1.0  1.0\n",
       "5          210185.0  0.338830  0.473313  0.0  0.0  0.0  1.0  1.0\n",
       "6          195636.0  0.406127  0.491110  0.0  0.0  0.0  1.0  1.0\n",
       "7          161806.0  0.394361  0.488715  0.0  0.0  0.0  1.0  1.0\n",
       "8          130986.0  0.381392  0.485730  0.0  0.0  0.0  1.0  1.0\n",
       "9          106951.0  0.383465  0.486232  0.0  0.0  0.0  1.0  1.0\n",
       "10          90719.0  0.353708  0.478122  0.0  0.0  0.0  1.0  1.0\n",
       "11          62422.0  0.348275  0.476427  0.0  0.0  0.0  1.0  1.0\n",
       "12          42591.0  0.301730  0.459014  0.0  0.0  0.0  1.0  1.0\n",
       "13          28032.0  0.282499  0.450223  0.0  0.0  0.0  1.0  1.0\n",
       "14          23272.0  0.257778  0.437420  0.0  0.0  0.0  1.0  1.0\n",
       "15          15761.0  0.229427  0.420478  0.0  0.0  0.0  0.0  1.0\n",
       "16          12682.0  0.213373  0.409705  0.0  0.0  0.0  0.0  1.0\n",
       "17          11206.0  0.190166  0.392450  0.0  0.0  0.0  0.0  1.0\n",
       "18           9376.0  0.221096  0.415007  0.0  0.0  0.0  0.0  1.0\n",
       "19           7229.0  0.194909  0.396158  0.0  0.0  0.0  0.0  1.0\n",
       "20           5827.0  0.181912  0.385805  0.0  0.0  0.0  0.0  1.0\n",
       "21           3022.0  0.200860  0.400710  0.0  0.0  0.0  0.0  1.0\n",
       "22           3858.0  0.223173  0.416427  0.0  0.0  0.0  0.0  1.0\n",
       "23           2844.0  0.184599  0.388040  0.0  0.0  0.0  0.0  1.0\n",
       "24           1782.0  0.157688  0.364550  0.0  0.0  0.0  0.0  1.0\n",
       "25           1629.0  0.182934  0.386731  0.0  0.0  0.0  0.0  1.0\n",
       "...             ...       ...       ...  ...  ...  ...  ...  ...\n",
       "65              4.0  0.000000  0.000000  0.0  0.0  0.0  0.0  0.0\n",
       "66              6.0  0.000000  0.000000  0.0  0.0  0.0  0.0  0.0\n",
       "67              5.0  0.000000  0.000000  0.0  0.0  0.0  0.0  0.0\n",
       "68              1.0  0.000000       NaN  0.0  0.0  0.0  0.0  0.0\n",
       "69              3.0  0.000000  0.000000  0.0  0.0  0.0  0.0  0.0\n",
       "70              5.0  0.000000  0.000000  0.0  0.0  0.0  0.0  0.0\n",
       "73              4.0  0.000000  0.000000  0.0  0.0  0.0  0.0  0.0\n",
       "77              1.0  1.000000       NaN  1.0  1.0  1.0  1.0  1.0\n",
       "79              3.0  0.000000  0.000000  0.0  0.0  0.0  0.0  0.0\n",
       "81              2.0  0.000000  0.000000  0.0  0.0  0.0  0.0  0.0\n",
       "83              1.0  0.000000       NaN  0.0  0.0  0.0  0.0  0.0\n",
       "84              2.0  0.000000  0.000000  0.0  0.0  0.0  0.0  0.0\n",
       "85              2.0  0.000000  0.000000  0.0  0.0  0.0  0.0  0.0\n",
       "86              3.0  0.000000  0.000000  0.0  0.0  0.0  0.0  0.0\n",
       "87              1.0  0.000000       NaN  0.0  0.0  0.0  0.0  0.0\n",
       "89              1.0  0.000000       NaN  0.0  0.0  0.0  0.0  0.0\n",
       "90              1.0  0.000000       NaN  0.0  0.0  0.0  0.0  0.0\n",
       "92              1.0  0.000000       NaN  0.0  0.0  0.0  0.0  0.0\n",
       "94              3.0  0.000000  0.000000  0.0  0.0  0.0  0.0  0.0\n",
       "96              3.0  0.000000  0.000000  0.0  0.0  0.0  0.0  0.0\n",
       "97              1.0  1.000000       NaN  1.0  1.0  1.0  1.0  1.0\n",
       "109             1.0  0.000000       NaN  0.0  0.0  0.0  0.0  0.0\n",
       "117             3.0  0.333333  0.577350  0.0  0.0  0.0  0.5  1.0\n",
       "127             1.0  0.000000       NaN  0.0  0.0  0.0  0.0  0.0\n",
       "137             1.0  0.000000       NaN  0.0  0.0  0.0  0.0  0.0\n",
       "\n",
       "[88 rows x 8 columns]"
      ]
     },
     "execution_count": 159,
     "metadata": {},
     "output_type": "execute_result"
    }
   ],
   "source": [
    "train_df[['title_len','label']].groupby(['title_len'])['label'].describe()"
   ]
  },
  {
   "cell_type": "code",
   "execution_count": 71,
   "metadata": {},
   "outputs": [],
   "source": [
    "train_df['title_len'] = train_df['title_len'].map(lambda x: 18 if x>18 else x)\n",
    "valid_df['title_len'] = valid_df['title_len'].map(lambda x: 18 if x>18 else x)\n",
    "test_data['title_len'] = test_data['title_len'].map(lambda x: 18 if x>18 else x)"
   ]
  },
  {
   "cell_type": "code",
   "execution_count": 160,
   "metadata": {},
   "outputs": [
    {
     "data": {
      "text/plain": [
       "              count      mean       std  min  25%  50%  75%  max\n",
       "title_len                                                       \n",
       "1            6904.0  0.584154  0.492903  0.0  0.0  1.0  1.0  1.0\n",
       "2          174275.0  0.398009  0.489489  0.0  0.0  0.0  1.0  1.0\n",
       "3          275613.0  0.406178  0.491119  0.0  0.0  0.0  1.0  1.0\n",
       "4          406876.0  0.383114  0.486146  0.0  0.0  0.0  1.0  1.0\n",
       "5          210185.0  0.338830  0.473313  0.0  0.0  0.0  1.0  1.0\n",
       "6          195636.0  0.406127  0.491110  0.0  0.0  0.0  1.0  1.0\n",
       "7          161806.0  0.394361  0.488715  0.0  0.0  0.0  1.0  1.0\n",
       "8          130986.0  0.381392  0.485730  0.0  0.0  0.0  1.0  1.0\n",
       "9          106951.0  0.383465  0.486232  0.0  0.0  0.0  1.0  1.0\n",
       "10          90719.0  0.353708  0.478122  0.0  0.0  0.0  1.0  1.0\n",
       "11          62422.0  0.348275  0.476427  0.0  0.0  0.0  1.0  1.0\n",
       "12          42591.0  0.301730  0.459014  0.0  0.0  0.0  1.0  1.0\n",
       "13          28032.0  0.282499  0.450223  0.0  0.0  0.0  1.0  1.0\n",
       "14          23272.0  0.257778  0.437420  0.0  0.0  0.0  1.0  1.0\n",
       "15          15761.0  0.229427  0.420478  0.0  0.0  0.0  0.0  1.0\n",
       "16          12682.0  0.213373  0.409705  0.0  0.0  0.0  0.0  1.0\n",
       "17          11206.0  0.190166  0.392450  0.0  0.0  0.0  0.0  1.0\n",
       "18          44083.0  0.192183  0.394021  0.0  0.0  0.0  0.0  1.0"
      ]
     },
     "execution_count": 160,
     "metadata": {},
     "output_type": "execute_result"
    }
   ],
   "source": [
    "\n",
    "train_df[['title_len','label']].groupby(['title_len'])['label'].describe()"
   ]
  },
  {
   "cell_type": "code",
   "execution_count": 72,
   "metadata": {},
   "outputs": [
    {
     "data": {
      "text/plain": [
       "41344.166666666664"
      ]
     },
     "execution_count": 72,
     "metadata": {},
     "output_type": "execute_result"
    }
   ],
   "source": [
    "# 平均每个title_len的点击次数\n",
    "a = train_df['label'].sum()/train_df['title_len'].nunique()\n",
    "a"
   ]
  },
  {
   "cell_type": "code",
   "execution_count": 73,
   "metadata": {},
   "outputs": [
    {
     "data": {
      "text/plain": [
       "111111.11111111111"
      ]
     },
     "execution_count": 73,
     "metadata": {},
     "output_type": "execute_result"
    }
   ],
   "source": [
    "# 平均每个title_len的搜索次数\n",
    "b = train_df['label'].count()/train_df['title_len'].nunique()\n",
    "b"
   ]
  },
  {
   "cell_type": "code",
   "execution_count": 74,
   "metadata": {},
   "outputs": [],
   "source": [
    "# title_len的点击次数和搜索次数\n",
    "temp = train_df[['title_len','label']].groupby('title_len', as_index = False)['label'].agg({'titlelen_click':'sum', 'titlelen_count':'count'})"
   ]
  },
  {
   "cell_type": "code",
   "execution_count": 75,
   "metadata": {
    "collapsed": true
   },
   "outputs": [
    {
     "data": {
      "text/plain": [
       "count        18.000000\n",
       "mean      41344.166667\n",
       "std       43647.766727\n",
       "min        2131.000000\n",
       "25%        6479.000000\n",
       "50%       26914.000000\n",
       "75%       67974.750000\n",
       "max      155880.000000\n",
       "Name: titlelen_click, dtype: float64"
      ]
     },
     "execution_count": 75,
     "metadata": {},
     "output_type": "execute_result"
    }
   ],
   "source": [
    "temp['titlelen_click'].describe()"
   ]
  },
  {
   "cell_type": "code",
   "execution_count": 76,
   "metadata": {
    "collapsed": true
   },
   "outputs": [
    {
     "data": {
      "text/plain": [
       "count        18.000000\n",
       "mean     111111.111111\n",
       "std      109727.463349\n",
       "min        6904.000000\n",
       "25%       24462.000000\n",
       "50%       76570.500000\n",
       "75%      171157.750000\n",
       "max      406876.000000\n",
       "Name: titlelen_count, dtype: float64"
      ]
     },
     "execution_count": 76,
     "metadata": {},
     "output_type": "execute_result"
    }
   ],
   "source": [
    "temp['titlelen_count'].describe()"
   ]
  },
  {
   "cell_type": "code",
   "execution_count": 77,
   "metadata": {},
   "outputs": [],
   "source": [
    "temp['titlelen_click_smooth'] = temp['titlelen_click']+a\n",
    "temp['titlelen_count_smooth'] = temp['titlelen_count']+b"
   ]
  },
  {
   "cell_type": "code",
   "execution_count": 78,
   "metadata": {},
   "outputs": [],
   "source": [
    "temp['titlelen_click_log'] = np.log1p(temp['titlelen_click'])\n",
    "temp['titlelen_count_log'] = np.log1p(temp['titlelen_count'])"
   ]
  },
  {
   "cell_type": "code",
   "execution_count": 167,
   "metadata": {
    "collapsed": true
   },
   "outputs": [
    {
     "data": {
      "text/plain": [
       "count    18.000000\n",
       "mean      9.905587\n",
       "std       1.391464\n",
       "min       7.664816\n",
       "25%       8.768923\n",
       "50%      10.181612\n",
       "75%      11.126263\n",
       "max      11.956848\n",
       "Name: titlelen_click_log, dtype: float64"
      ]
     },
     "execution_count": 167,
     "metadata": {},
     "output_type": "execute_result"
    }
   ],
   "source": [
    "temp['titlelen_click_log'].describe()"
   ]
  },
  {
   "cell_type": "code",
   "execution_count": 168,
   "metadata": {
    "collapsed": true
   },
   "outputs": [
    {
     "data": {
      "text/plain": [
       "count    18.000000\n",
       "mean     11.038482\n",
       "std       1.225966\n",
       "min       8.840001\n",
       "25%      10.101571\n",
       "50%      11.228611\n",
       "75%      12.049837\n",
       "max      12.916266\n",
       "Name: titlelen_count_log, dtype: float64"
      ]
     },
     "execution_count": 168,
     "metadata": {},
     "output_type": "execute_result"
    }
   ],
   "source": [
    "temp['titlelen_count_log'].describe()"
   ]
  },
  {
   "cell_type": "code",
   "execution_count": 79,
   "metadata": {},
   "outputs": [],
   "source": [
    "# prefixlen的点击数差值与搜索数差值\n",
    "temp['titlelen_click_diff'] = temp['titlelen_click'] - temp['titlelen_click'].mean()\n",
    "temp['titlelen_count_diff'] = temp['titlelen_count'] - temp['titlelen_count'].mean()"
   ]
  },
  {
   "cell_type": "code",
   "execution_count": 170,
   "metadata": {
    "collapsed": true
   },
   "outputs": [
    {
     "data": {
      "text/plain": [
       "count    1.800000e+01\n",
       "mean     2.425319e-12\n",
       "std      4.364777e+04\n",
       "min     -3.921317e+04\n",
       "25%     -3.486517e+04\n",
       "50%     -1.443017e+04\n",
       "75%      2.663058e+04\n",
       "max      1.145358e+05\n",
       "Name: titlelen_click_diff, dtype: float64"
      ]
     },
     "execution_count": 170,
     "metadata": {},
     "output_type": "execute_result"
    }
   ],
   "source": [
    "temp['titlelen_click_diff'].describe()"
   ]
  },
  {
   "cell_type": "code",
   "execution_count": 171,
   "metadata": {
    "collapsed": true
   },
   "outputs": [
    {
     "data": {
      "text/plain": [
       "count    1.800000e+01\n",
       "mean    -1.131816e-11\n",
       "std      1.097275e+05\n",
       "min     -1.042071e+05\n",
       "25%     -8.664911e+04\n",
       "50%     -3.454061e+04\n",
       "75%      6.004664e+04\n",
       "max      2.957649e+05\n",
       "Name: titlelen_count_diff, dtype: float64"
      ]
     },
     "execution_count": 171,
     "metadata": {},
     "output_type": "execute_result"
    }
   ],
   "source": [
    "temp['titlelen_count_diff'].describe()"
   ]
  },
  {
   "cell_type": "code",
   "execution_count": 80,
   "metadata": {},
   "outputs": [],
   "source": [
    "# prefix的点击数占比与搜索数占比\n",
    "temp['titlelen_click_ratio'] = temp['titlelen_click']/temp['titlelen_click'].sum()\n",
    "temp['titlelen_count_ratio'] = temp['titlelen_count']/temp['titlelen_count'].sum()"
   ]
  },
  {
   "cell_type": "code",
   "execution_count": 173,
   "metadata": {
    "collapsed": true
   },
   "outputs": [
    {
     "data": {
      "text/plain": [
       "count    18.000000\n",
       "mean      0.055556\n",
       "std       0.058651\n",
       "min       0.002863\n",
       "25%       0.008706\n",
       "50%       0.036165\n",
       "75%       0.091340\n",
       "max       0.209461\n",
       "Name: titlelen_click_ratio, dtype: float64"
      ]
     },
     "execution_count": 173,
     "metadata": {},
     "output_type": "execute_result"
    }
   ],
   "source": [
    "temp['titlelen_click_ratio'].describe()"
   ]
  },
  {
   "cell_type": "code",
   "execution_count": 174,
   "metadata": {
    "collapsed": true
   },
   "outputs": [
    {
     "data": {
      "text/plain": [
       "count    18.000000\n",
       "mean      0.055556\n",
       "std       0.054864\n",
       "min       0.003452\n",
       "25%       0.012231\n",
       "50%       0.038285\n",
       "75%       0.085579\n",
       "max       0.203438\n",
       "Name: titlelen_count_ratio, dtype: float64"
      ]
     },
     "execution_count": 174,
     "metadata": {},
     "output_type": "execute_result"
    }
   ],
   "source": [
    "temp['titlelen_count_ratio'].describe()"
   ]
  },
  {
   "cell_type": "code",
   "execution_count": 81,
   "metadata": {},
   "outputs": [
    {
     "data": {
      "text/plain": [
       "count    18.000000\n",
       "mean      0.335820\n",
       "std       0.098274\n",
       "min       0.190166\n",
       "25%       0.263958\n",
       "50%       0.350991\n",
       "75%       0.391637\n",
       "max       0.584154\n",
       "Name: titlelen_ctr_abs, dtype: float64"
      ]
     },
     "execution_count": 81,
     "metadata": {},
     "output_type": "execute_result"
    }
   ],
   "source": [
    "# prefix的绝对转化率\n",
    "temp['titlelen_ctr_abs'] = temp['titlelen_click']/(temp['titlelen_count'])\n",
    "temp['titlelen_ctr_abs'].describe()"
   ]
  },
  {
   "cell_type": "code",
   "execution_count": 82,
   "metadata": {},
   "outputs": [
    {
     "data": {
      "text/plain": [
       "count    18.000000\n",
       "mean      0.367041\n",
       "std       0.019542\n",
       "min       0.320993\n",
       "25%       0.354129\n",
       "50%       0.363680\n",
       "75%       0.383565\n",
       "max       0.396386\n",
       "Name: titlelen_ctr_smooth, dtype: float64"
      ]
     },
     "execution_count": 82,
     "metadata": {},
     "output_type": "execute_result"
    }
   ],
   "source": [
    "# prefix的贝叶斯平滑转换率\n",
    "temp['titlelen_ctr_smooth'] = (temp['titlelen_click']+a)/(temp['titlelen_count']+b)\n",
    "temp['titlelen_ctr_smooth'].describe()"
   ]
  },
  {
   "cell_type": "code",
   "execution_count": 83,
   "metadata": {},
   "outputs": [],
   "source": [
    "# prefix的绝对转化率差值\n",
    "temp['titlelen_ctr_diff'] = temp['titlelen_ctr_abs'] - temp['titlelen_ctr_abs'].mean()\n",
    "# prefix的相对转化率\n",
    "temp['titlelen_ctr_rela'] = temp['titlelen_ctr_diff']/(temp['titlelen_ctr_abs'].mean())"
   ]
  },
  {
   "cell_type": "code",
   "execution_count": 84,
   "metadata": {},
   "outputs": [],
   "source": [
    "train_df = pd.merge(train_df, temp, on='title_len', how='left')\n",
    "valid_df = pd.merge(valid_df, temp, on='title_len', how='left')\n",
    "test_data = pd.merge(test_data, temp, on='title_len', how='left')\n",
    "temp.to_csv('d:/oppo/input/titlelen_feature.txt',sep='\\t',index=False)\n",
    "del temp"
   ]
  },
  {
   "cell_type": "code",
   "execution_count": null,
   "metadata": {},
   "outputs": [],
   "source": [
    "# prefix长度特征\n",
    "train_df['prefix_len'] = train_df['prefix'].apply(len)\n",
    "valid_df['prefix_len'] = valid_df['prefix'].apply(len)\n",
    "test_data['prefix_len'] = test_data['prefix'].apply(len)\n",
    "\n",
    "train_df[['prefix_len','label']].groupby(['prefix_len'])['label'].describe()\n",
    "\n",
    "train_df['prefix_len'] = train_df['prefix_len'].map(lambda x: 8 if x>8 else x)\n",
    "valid_df['prefix_len'] = valid_df['prefix_len'].map(lambda x: 8 if x>8 else x)\n",
    "test_data['prefix_len'] = test_data['prefix_len'].map(lambda x: 8 if x>8 else x)\n",
    "train_df[['prefix_len','label']].groupby(['prefix_len'])['label'].describe()\n",
    "\n",
    "# 平均每个prefix_len的点击次数\n",
    "a = train_df['label'].sum()/train_df['prefix_len'].nunique()\n",
    "a\n",
    "\n",
    "# 平均每个prefix_len的搜索次数\n",
    "b = train_df['label'].count()/train_df['prefix_len'].nunique()\n",
    "b\n",
    "\n",
    "# prefix的点击次数和搜索次数\n",
    "temp = train_df[['prefix_len','label']].groupby('prefix_len', as_index = False)['label'].agg({'prefixlen_click':'sum', 'prefixlen_count':'count'})\n",
    "\n",
    "temp['prefixlen_click_log'] = np.log1p(temp['prefixlen_click'])\n",
    "temp['prefixlen_count_log'] = np.log1p(temp['prefixlen_count'])\n",
    "\n",
    "# prefixlen的点击数差值与搜索数差值\n",
    "temp['prefixlen_click_diff'] = temp['prefixlen_click'] - temp['prefixlen_click'].mean()\n",
    "temp['prefixlen_count_diff'] = temp['prefixlen_count'] - temp['prefixlen_count'].mean()\n",
    "\n",
    "# prefix的点击数占比与搜索数占比\n",
    "temp['prefixlen_click_ratio'] = temp['prefixlen_click']/temp['prefixlen_click'].sum()\n",
    "temp['prefixlen_count_ratio'] = temp['prefixlen_count']/temp['prefixlen_count'].sum()\n",
    "\n",
    "# prefix的绝对转化率\n",
    "temp['prefixlen_ctr_abs'] = temp['prefixlen_click']/(temp['prefixlen_count'])\n",
    "# prefix的贝叶斯平滑转换率\n",
    "temp['prefixlen_ctr_smooth'] = (temp['prefixlen_click']+a)/(temp['prefixlen_count']+b)\n",
    "# prefix的绝对转化率差值\n",
    "temp['prefixlen_ctr_diff'] = temp['prefixlen_ctr_abs'] - temp['prefixlen_ctr_abs'].mean()\n",
    "# prefix的相对转化率\n",
    "temp['prefixlen_ctr_rela'] = temp['prefixlen_ctr_diff']/(temp['prefixlen_ctr_abs'].mean())\n",
    "\n",
    "train_df = pd.merge(train_df, temp, on='prefix_len', how='left')\n",
    "valid_df = pd.merge(valid_df, temp, on='prefix_len', how='left')\n",
    "test_data = pd.merge(test_data, temp, on='prefix_len', how='left')\n",
    "del temp"
   ]
  },
  {
   "cell_type": "markdown",
   "metadata": {},
   "source": [
    "### 2.1.6.tag特征"
   ]
  },
  {
   "cell_type": "code",
   "execution_count": 179,
   "metadata": {},
   "outputs": [
    {
     "data": {
      "text/plain": [
       "        count      mean       std  min  25%  50%  75%  max\n",
       "tag                                                       \n",
       "健康   139704.0  0.297379  0.457106  0.0  0.0  0.0  1.0  1.0\n",
       "商品     4581.0  0.147348  0.354491  0.0  0.0  0.0  0.0  1.0\n",
       "应用   330763.0  0.353873  0.478171  0.0  0.0  0.0  1.0  1.0\n",
       "影视    27854.0  0.341926  0.474363  0.0  0.0  0.0  1.0  1.0\n",
       "快应用   27157.0  0.242810  0.428789  0.0  0.0  0.0  0.0  1.0\n",
       "推广        4.0  0.000000  0.000000  0.0  0.0  0.0  0.0  0.0\n",
       "旅游    18295.0  0.149221  0.356316  0.0  0.0  0.0  0.0  1.0\n",
       "景点     9127.0  0.389942  0.487764  0.0  0.0  0.0  1.0  1.0\n",
       "歌手    14893.0  0.096287  0.294994  0.0  0.0  0.0  0.0  1.0\n",
       "汽车    25723.0  0.542627  0.498189  0.0  0.0  1.0  1.0  1.0\n",
       "游戏    13771.0  0.459952  0.498412  0.0  0.0  0.0  1.0  1.0\n",
       "火车     1171.0  0.684885  0.464760  0.0  0.0  1.0  1.0  1.0\n",
       "百科   722096.0  0.396154  0.489097  0.0  0.0  0.0  1.0  1.0\n",
       "知道   131692.0  0.247889  0.431789  0.0  0.0  0.0  0.0  1.0\n",
       "经验   125807.0  0.478082  0.499521  0.0  0.0  0.0  1.0  1.0\n",
       "网站   152726.0  0.519309  0.499629  0.0  0.0  1.0  1.0  1.0\n",
       "网页     1550.0  0.150968  0.358133  0.0  0.0  0.0  0.0  1.0\n",
       "航班      917.0  0.276990  0.447756  0.0  0.0  0.0  1.0  1.0\n",
       "菜谱    95444.0  0.413918  0.492537  0.0  0.0  0.0  1.0  1.0\n",
       "酒店     1064.0  0.217105  0.412469  0.0  0.0  0.0  0.0  1.0\n",
       "阅读    78409.0  0.263159  0.440351  0.0  0.0  0.0  1.0  1.0\n",
       "音乐    77252.0  0.271436  0.444704  0.0  0.0  0.0  1.0  1.0"
      ]
     },
     "execution_count": 179,
     "metadata": {},
     "output_type": "execute_result"
    }
   ],
   "source": [
    "train_df[['tag','label']].groupby(['tag'])['label'].describe()"
   ]
  },
  {
   "cell_type": "code",
   "execution_count": 86,
   "metadata": {},
   "outputs": [],
   "source": [
    "# prefix的点击次数和搜索次数\n",
    "temp = train_df[['tag','label']].groupby('tag', as_index = False)['label'].agg({'tag_click':'sum', 'tag_count':'count'})"
   ]
  },
  {
   "cell_type": "code",
   "execution_count": 87,
   "metadata": {},
   "outputs": [
    {
     "data": {
      "text/plain": [
       "count        22.000000\n",
       "mean      33827.045455\n",
       "std       63947.744488\n",
       "min           0.000000\n",
       "25%         960.000000\n",
       "50%        8059.000000\n",
       "75%       37790.750000\n",
       "max      286061.000000\n",
       "Name: tag_click, dtype: float64"
      ]
     },
     "execution_count": 87,
     "metadata": {},
     "output_type": "execute_result"
    }
   ],
   "source": [
    "temp['tag_click'].describe()"
   ]
  },
  {
   "cell_type": "code",
   "execution_count": 182,
   "metadata": {},
   "outputs": [
    {
     "data": {
      "text/plain": [
       "count        22.000000\n",
       "mean      90909.090909\n",
       "std      161728.437929\n",
       "min           4.000000\n",
       "25%        5717.500000\n",
       "50%       26440.000000\n",
       "75%      118216.250000\n",
       "max      722096.000000\n",
       "Name: tag_count, dtype: float64"
      ]
     },
     "execution_count": 182,
     "metadata": {},
     "output_type": "execute_result"
    }
   ],
   "source": [
    "temp['tag_count'].describe()"
   ]
  },
  {
   "cell_type": "code",
   "execution_count": 88,
   "metadata": {},
   "outputs": [],
   "source": [
    "# tag点击数和搜索数的log变换\n",
    "temp['tag_click_log'] = np.log1p(temp['tag_click'])\n",
    "temp['tag_count_log'] = np.log1p(temp['tag_count'])"
   ]
  },
  {
   "cell_type": "code",
   "execution_count": 184,
   "metadata": {},
   "outputs": [
    {
     "data": {
      "text/plain": [
       "count    22.000000\n",
       "mean      8.512833\n",
       "std       2.825491\n",
       "min       0.000000\n",
       "25%       6.833496\n",
       "50%       8.977871\n",
       "75%      10.536544\n",
       "max      12.563964\n",
       "Name: tag_click_log, dtype: float64"
      ]
     },
     "execution_count": 184,
     "metadata": {},
     "output_type": "execute_result"
    }
   ],
   "source": [
    "temp['tag_click_log'].describe()"
   ]
  },
  {
   "cell_type": "code",
   "execution_count": 185,
   "metadata": {},
   "outputs": [
    {
     "data": {
      "text/plain": [
       "count    22.000000\n",
       "mean      9.746444\n",
       "std       2.636126\n",
       "min       1.609438\n",
       "25%       8.602194\n",
       "50%      10.182303\n",
       "75%      11.673461\n",
       "max      13.489915\n",
       "Name: tag_count_log, dtype: float64"
      ]
     },
     "execution_count": 185,
     "metadata": {},
     "output_type": "execute_result"
    }
   ],
   "source": [
    "temp['tag_count_log'].describe()"
   ]
  },
  {
   "cell_type": "code",
   "execution_count": 89,
   "metadata": {},
   "outputs": [],
   "source": [
    "# tag的点击数差值与搜索数差值\n",
    "temp['tag_click_diff'] = temp['tag_click'] - temp['tag_click'].mean()\n",
    "temp['tag_count_diff'] = temp['tag_count'] - temp['tag_count'].mean()"
   ]
  },
  {
   "cell_type": "code",
   "execution_count": 187,
   "metadata": {},
   "outputs": [
    {
     "data": {
      "text/plain": [
       "count    2.200000e+01\n",
       "mean    -1.984352e-12\n",
       "std      6.394774e+04\n",
       "min     -3.382705e+04\n",
       "25%     -3.286705e+04\n",
       "50%     -2.576805e+04\n",
       "75%      3.963705e+03\n",
       "max      2.522340e+05\n",
       "Name: tag_click_diff, dtype: float64"
      ]
     },
     "execution_count": 187,
     "metadata": {},
     "output_type": "execute_result"
    }
   ],
   "source": [
    "temp['tag_click_diff'].describe()"
   ]
  },
  {
   "cell_type": "code",
   "execution_count": 188,
   "metadata": {},
   "outputs": [
    {
     "data": {
      "text/plain": [
       "count    2.200000e+01\n",
       "mean    -2.645803e-12\n",
       "std      1.617284e+05\n",
       "min     -9.090509e+04\n",
       "25%     -8.519159e+04\n",
       "50%     -6.446909e+04\n",
       "75%      2.730716e+04\n",
       "max      6.311869e+05\n",
       "Name: tag_count_diff, dtype: float64"
      ]
     },
     "execution_count": 188,
     "metadata": {},
     "output_type": "execute_result"
    }
   ],
   "source": [
    "temp['tag_count_diff'].describe()"
   ]
  },
  {
   "cell_type": "code",
   "execution_count": 90,
   "metadata": {},
   "outputs": [],
   "source": [
    "# tag的点击数占比与搜索数占比\n",
    "temp['tag_click_ratio'] = temp['tag_click']/temp['tag_click'].sum()\n",
    "temp['tag_count_ratio'] = temp['tag_count']/temp['tag_count'].sum()"
   ]
  },
  {
   "cell_type": "code",
   "execution_count": 190,
   "metadata": {},
   "outputs": [
    {
     "data": {
      "text/plain": [
       "count    22.000000\n",
       "mean      0.045455\n",
       "std       0.085929\n",
       "min       0.000000\n",
       "25%       0.001290\n",
       "50%       0.010829\n",
       "75%       0.050781\n",
       "max       0.384390\n",
       "Name: tag_click_ratio, dtype: float64"
      ]
     },
     "execution_count": 190,
     "metadata": {},
     "output_type": "execute_result"
    }
   ],
   "source": [
    "temp['tag_click_ratio'].describe()"
   ]
  },
  {
   "cell_type": "code",
   "execution_count": 191,
   "metadata": {},
   "outputs": [
    {
     "data": {
      "text/plain": [
       "count    22.000000\n",
       "mean      0.045455\n",
       "std       0.080864\n",
       "min       0.000002\n",
       "25%       0.002859\n",
       "50%       0.013220\n",
       "75%       0.059108\n",
       "max       0.361048\n",
       "Name: tag_count_ratio, dtype: float64"
      ]
     },
     "execution_count": 191,
     "metadata": {},
     "output_type": "execute_result"
    }
   ],
   "source": [
    "temp['tag_count_ratio'].describe()"
   ]
  },
  {
   "cell_type": "code",
   "execution_count": 91,
   "metadata": {},
   "outputs": [],
   "source": [
    "# prefix的点击数log占比与搜索数log占比\n",
    "temp['title_click_ratio_log'] = np.log1p(temp['tag_click_ratio'])\n",
    "temp['title_count_ratio_log'] = np.log1p(temp['tag_count_ratio'])"
   ]
  },
  {
   "cell_type": "code",
   "execution_count": 92,
   "metadata": {},
   "outputs": [
    {
     "data": {
      "text/plain": [
       "count    22.000000\n",
       "mean      0.315512\n",
       "std       0.162919\n",
       "min       0.000000\n",
       "25%       0.223532\n",
       "50%       0.287184\n",
       "75%       0.409477\n",
       "max       0.684885\n",
       "Name: tag_ctr_abs, dtype: float64"
      ]
     },
     "execution_count": 92,
     "metadata": {},
     "output_type": "execute_result"
    }
   ],
   "source": [
    "# prefix的绝对转化率\n",
    "temp['tag_ctr_abs'] = temp['tag_click']/(temp['tag_count'])\n",
    "temp['tag_ctr_abs'].describe()"
   ]
  },
  {
   "cell_type": "code",
   "execution_count": 93,
   "metadata": {},
   "outputs": [
    {
     "data": {
      "text/plain": [
       "count    22.000000\n",
       "mean      0.367974\n",
       "std       0.034515\n",
       "min       0.304729\n",
       "25%       0.342117\n",
       "50%       0.369841\n",
       "75%       0.380179\n",
       "max       0.457313\n",
       "Name: tag_ctr_smooth, dtype: float64"
      ]
     },
     "execution_count": 93,
     "metadata": {},
     "output_type": "execute_result"
    }
   ],
   "source": [
    "# prefix的贝叶斯平滑转换率\n",
    "temp['tag_ctr_smooth'] = (temp['tag_click']+a)/(temp['tag_count']+b)\n",
    "temp['tag_ctr_smooth'].describe()"
   ]
  },
  {
   "cell_type": "code",
   "execution_count": 94,
   "metadata": {},
   "outputs": [],
   "source": [
    "# prefix的绝对转化率差值\n",
    "temp['tag_ctr_diff'] = temp['tag_ctr_abs'] - temp['tag_ctr_abs'].mean()\n",
    "# prefix的相对转化率\n",
    "temp['tag_ctr_rela'] = temp['tag_ctr_diff']/(temp['tag_ctr_abs'].mean())"
   ]
  },
  {
   "cell_type": "code",
   "execution_count": 95,
   "metadata": {},
   "outputs": [],
   "source": [
    "# prefix的log绝对转换率\n",
    "temp['tag_ctr_log_abs'] = temp['tag_click_log']-(temp['tag_count_log'])\n",
    "# prefix的log贝叶斯平滑转换率\n",
    "temp['tag_ctr_log_smooth'] = (temp['tag_click_log']+np.log1p(a))/(temp['tag_count_log']+np.log1p(b))\n",
    "# prefix的log绝对转化率差值\n",
    "temp['tag_ctr_log_diff'] = temp['tag_ctr_log_abs'] - temp['tag_ctr_log_abs'].mean()\n",
    "# prefix的log相对转化率\n",
    "temp['tag_ctr_log_rela'] = temp['tag_ctr_log_diff']/(temp['tag_ctr_log_abs'].mean())"
   ]
  },
  {
   "cell_type": "code",
   "execution_count": 96,
   "metadata": {},
   "outputs": [],
   "source": [
    "train_df = pd.merge(train_df, temp, on='tag', how='left')\n",
    "valid_df = pd.merge(valid_df, temp, on='tag', how='left')\n",
    "test_data = pd.merge(test_data, temp, on='tag', how='left')\n",
    "temp.to_csv('d:/oppo/input/tag_feature.txt',sep='\\t',index=False)\n",
    "del temp"
   ]
  },
  {
   "cell_type": "code",
   "execution_count": null,
   "metadata": {},
   "outputs": [],
   "source": [
    "# prefix的点击次数和搜索次数\n",
    "temp = train_df[['prefix','label']].groupby('prefix', as_index = False)['label'].agg({'prefix_click':'sum', 'prefix_count':'count'})\n",
    "# prefix点击数和搜索数的log变换\n",
    "temp['prefix_click_log'] = np.log1p(temp['prefix_click'])\n",
    "temp['prefix_count_log'] = np.log1p(temp['prefix_count'])\n",
    "\n",
    "# prefix的点击数差值与搜索数差值\n",
    "temp['prefix_click_diff'] = temp['prefix_click'] - temp['prefix_click'].mean()\n",
    "temp['prefix_count_diff'] = temp['prefix_count'] - temp['prefix_count'].mean()\n",
    "\n",
    "# prefix的点击数占比与搜索数占比\n",
    "temp['prefix_click_ratio'] = temp['prefix_click']/temp['prefix_click'].sum()\n",
    "temp['prefix_count_ratio'] = temp['prefix_count']/temp['prefix_count'].sum()\n",
    "\n",
    "# prefix的点击数log占比与搜索数log占比\n",
    "temp['prefix_click_ratio_log'] = np.log1p(temp['prefix_click'])-np.log1p(temp['prefix_click'].sum())\n",
    "temp['prefix_count_ratio_log'] = np.log1p(temp['prefix_count'])-np.log1p(temp['prefix_count'].sum())\n",
    "\n",
    "# prefix的绝对转化率\n",
    "temp['prefix_ctr_abs'] = temp['prefix_click']/(temp['prefix_count'])\n",
    "# prefix的贝叶斯平滑转换率\n",
    "temp['prefix_ctr_smooth'] = (temp['prefix_click']+a)/(temp['prefix_count']+b)\n",
    "# prefix的绝对转化率差值\n",
    "temp['prefix_ctr_diff'] = temp['prefix_ctr_abs'] - temp['prefix_ctr_abs'].mean()\n",
    "# prefix的相对转化率\n",
    "temp['prefix_ctr_rela'] = temp['prefix_ctr_diff']/(temp['prefix_ctr_abs'].mean())\n",
    "\n",
    "# prefix的log绝对转换率\n",
    "temp['prefix_ctr_log_abs'] = temp['prefix_click_log']-(temp['prefix_count_log'])\n",
    "# prefix的log贝叶斯平滑转换率\n",
    "temp['prefix_ctr_log_smooth'] = (temp['prefix_click_log']+np.log1p(a))/(temp['prefix_count_log']+np.log1p(b))\n",
    "# prefix的log绝对转化率差值\n",
    "temp['prefix_ctr_log_diff'] = temp['prefix_ctr_log_abs'] - temp['prefix_ctr_log_abs'].mean()\n",
    "# prefix的log相对转化率\n",
    "temp['prefix_ctr_log_rela'] = temp['prefix_ctr_log_diff']/(temp['prefix_ctr_log_abs'].mean())\n",
    "\n",
    "\n",
    "train_df = pd.merge(train_df, temp, on='prefix', how='left')\n",
    "valid_df = pd.merge(valid_df, temp, on='prefix', how='left')\n",
    "test_data = pd.merge(test_data, temp, on='prefix', how='left')\n",
    "del temp\n",
    "# 对于valid和test数据集中新出现的数值型特征，所有的缺失值用均值代替\n",
    "for col in valid_df.columns[train_df.dtypes == 'float64']:\n",
    "    valid_df.fillna(valid_df[col].mean())\n",
    "for col in test_data.columns[test_data.dtypes == 'float64']:\n",
    "    test_data.fillna(test_data[col].mean())"
   ]
  },
  {
   "cell_type": "markdown",
   "metadata": {},
   "source": [
    "### 2.2.组合特征"
   ]
  },
  {
   "cell_type": "code",
   "execution_count": null,
   "metadata": {},
   "outputs": [],
   "source": []
  },
  {
   "cell_type": "code",
   "execution_count": 98,
   "metadata": {},
   "outputs": [
    {
     "ename": "MemoryError",
     "evalue": "",
     "output_type": "error",
     "traceback": [
      "\u001b[1;31m---------------------------------------------------------------------------\u001b[0m",
      "\u001b[1;31mMemoryError\u001b[0m                               Traceback (most recent call last)",
      "\u001b[1;32m<ipython-input-98-5124085f3056>\u001b[0m in \u001b[0;36m<module>\u001b[1;34m()\u001b[0m\n\u001b[0;32m      5\u001b[0m     \u001b[1;32mfor\u001b[0m \u001b[0mj\u001b[0m \u001b[1;32min\u001b[0m \u001b[0mrange\u001b[0m\u001b[1;33m(\u001b[0m\u001b[0mi\u001b[0m\u001b[1;33m+\u001b[0m\u001b[1;36m1\u001b[0m\u001b[1;33m,\u001b[0m \u001b[0mlen\u001b[0m\u001b[1;33m(\u001b[0m\u001b[0mitems\u001b[0m\u001b[1;33m)\u001b[0m\u001b[1;33m)\u001b[0m\u001b[1;33m:\u001b[0m\u001b[1;33m\u001b[0m\u001b[0m\n\u001b[0;32m      6\u001b[0m         \u001b[0mitem_g\u001b[0m \u001b[1;33m=\u001b[0m \u001b[1;33m[\u001b[0m\u001b[0mitems\u001b[0m\u001b[1;33m[\u001b[0m\u001b[0mi\u001b[0m\u001b[1;33m]\u001b[0m\u001b[1;33m,\u001b[0m \u001b[0mitems\u001b[0m\u001b[1;33m[\u001b[0m\u001b[0mj\u001b[0m\u001b[1;33m]\u001b[0m\u001b[1;33m]\u001b[0m\u001b[1;33m\u001b[0m\u001b[0m\n\u001b[1;32m----> 7\u001b[1;33m         \u001b[0ma\u001b[0m \u001b[1;33m=\u001b[0m \u001b[0mtrain_df\u001b[0m\u001b[1;33m[\u001b[0m\u001b[1;34m'label'\u001b[0m\u001b[1;33m]\u001b[0m\u001b[1;33m.\u001b[0m\u001b[0msum\u001b[0m\u001b[1;33m(\u001b[0m\u001b[1;33m)\u001b[0m\u001b[1;33m/\u001b[0m\u001b[0mtrain_df\u001b[0m\u001b[1;33m[\u001b[0m\u001b[0mitem_g\u001b[0m\u001b[1;33m]\u001b[0m\u001b[1;33m.\u001b[0m\u001b[0mnunique\u001b[0m\u001b[1;33m(\u001b[0m\u001b[1;33m)\u001b[0m\u001b[1;33m\u001b[0m\u001b[0m\n\u001b[0m\u001b[0;32m      8\u001b[0m         \u001b[0mb\u001b[0m \u001b[1;33m=\u001b[0m \u001b[0mtrain_df\u001b[0m\u001b[1;33m[\u001b[0m\u001b[1;34m'label'\u001b[0m\u001b[1;33m]\u001b[0m\u001b[1;33m.\u001b[0m\u001b[0mcount\u001b[0m\u001b[1;33m(\u001b[0m\u001b[1;33m)\u001b[0m\u001b[1;33m/\u001b[0m\u001b[0mtrain_df\u001b[0m\u001b[1;33m[\u001b[0m\u001b[0mitem_g\u001b[0m\u001b[1;33m]\u001b[0m\u001b[1;33m.\u001b[0m\u001b[0mnunique\u001b[0m\u001b[1;33m(\u001b[0m\u001b[1;33m)\u001b[0m\u001b[1;33m\u001b[0m\u001b[0m\n\u001b[0;32m      9\u001b[0m         \u001b[0mtemp\u001b[0m \u001b[1;33m=\u001b[0m \u001b[0mtrain_df\u001b[0m\u001b[1;33m.\u001b[0m\u001b[0mgroupby\u001b[0m\u001b[1;33m(\u001b[0m\u001b[0mitem_g\u001b[0m\u001b[1;33m,\u001b[0m \u001b[0mas_index\u001b[0m\u001b[1;33m=\u001b[0m\u001b[1;32mFalse\u001b[0m\u001b[1;33m)\u001b[0m\u001b[1;33m[\u001b[0m\u001b[1;34m'label'\u001b[0m\u001b[1;33m]\u001b[0m\u001b[1;33m.\u001b[0m\u001b[0magg\u001b[0m\u001b[1;33m(\u001b[0m\u001b[1;33m{\u001b[0m\u001b[1;34m'_'\u001b[0m\u001b[1;33m.\u001b[0m\u001b[0mjoin\u001b[0m\u001b[1;33m(\u001b[0m\u001b[0mitem_g\u001b[0m\u001b[1;33m)\u001b[0m\u001b[1;33m+\u001b[0m\u001b[1;34m'_click'\u001b[0m\u001b[1;33m:\u001b[0m \u001b[1;34m'sum'\u001b[0m\u001b[1;33m,\u001b[0m\u001b[1;34m'_'\u001b[0m\u001b[1;33m.\u001b[0m\u001b[0mjoin\u001b[0m\u001b[1;33m(\u001b[0m\u001b[0mitem_g\u001b[0m\u001b[1;33m)\u001b[0m\u001b[1;33m+\u001b[0m\u001b[1;34m'_count'\u001b[0m\u001b[1;33m:\u001b[0m\u001b[1;34m'count'\u001b[0m\u001b[1;33m}\u001b[0m\u001b[1;33m)\u001b[0m\u001b[1;33m\u001b[0m\u001b[0m\n",
      "\u001b[1;32m~\\AppData\\Roaming\\Python\\Python36\\site-packages\\pandas\\core\\frame.py\u001b[0m in \u001b[0;36m__getitem__\u001b[1;34m(self, key)\u001b[0m\n\u001b[0;32m   2131\u001b[0m         \u001b[1;32mif\u001b[0m \u001b[0misinstance\u001b[0m\u001b[1;33m(\u001b[0m\u001b[0mkey\u001b[0m\u001b[1;33m,\u001b[0m \u001b[1;33m(\u001b[0m\u001b[0mSeries\u001b[0m\u001b[1;33m,\u001b[0m \u001b[0mnp\u001b[0m\u001b[1;33m.\u001b[0m\u001b[0mndarray\u001b[0m\u001b[1;33m,\u001b[0m \u001b[0mIndex\u001b[0m\u001b[1;33m,\u001b[0m \u001b[0mlist\u001b[0m\u001b[1;33m)\u001b[0m\u001b[1;33m)\u001b[0m\u001b[1;33m:\u001b[0m\u001b[1;33m\u001b[0m\u001b[0m\n\u001b[0;32m   2132\u001b[0m             \u001b[1;31m# either boolean or fancy integer index\u001b[0m\u001b[1;33m\u001b[0m\u001b[1;33m\u001b[0m\u001b[0m\n\u001b[1;32m-> 2133\u001b[1;33m             \u001b[1;32mreturn\u001b[0m \u001b[0mself\u001b[0m\u001b[1;33m.\u001b[0m\u001b[0m_getitem_array\u001b[0m\u001b[1;33m(\u001b[0m\u001b[0mkey\u001b[0m\u001b[1;33m)\u001b[0m\u001b[1;33m\u001b[0m\u001b[0m\n\u001b[0m\u001b[0;32m   2134\u001b[0m         \u001b[1;32melif\u001b[0m \u001b[0misinstance\u001b[0m\u001b[1;33m(\u001b[0m\u001b[0mkey\u001b[0m\u001b[1;33m,\u001b[0m \u001b[0mDataFrame\u001b[0m\u001b[1;33m)\u001b[0m\u001b[1;33m:\u001b[0m\u001b[1;33m\u001b[0m\u001b[0m\n\u001b[0;32m   2135\u001b[0m             \u001b[1;32mreturn\u001b[0m \u001b[0mself\u001b[0m\u001b[1;33m.\u001b[0m\u001b[0m_getitem_frame\u001b[0m\u001b[1;33m(\u001b[0m\u001b[0mkey\u001b[0m\u001b[1;33m)\u001b[0m\u001b[1;33m\u001b[0m\u001b[0m\n",
      "\u001b[1;32m~\\AppData\\Roaming\\Python\\Python36\\site-packages\\pandas\\core\\frame.py\u001b[0m in \u001b[0;36m_getitem_array\u001b[1;34m(self, key)\u001b[0m\n\u001b[0;32m   2176\u001b[0m         \u001b[1;32melse\u001b[0m\u001b[1;33m:\u001b[0m\u001b[1;33m\u001b[0m\u001b[0m\n\u001b[0;32m   2177\u001b[0m             \u001b[0mindexer\u001b[0m \u001b[1;33m=\u001b[0m \u001b[0mself\u001b[0m\u001b[1;33m.\u001b[0m\u001b[0mloc\u001b[0m\u001b[1;33m.\u001b[0m\u001b[0m_convert_to_indexer\u001b[0m\u001b[1;33m(\u001b[0m\u001b[0mkey\u001b[0m\u001b[1;33m,\u001b[0m \u001b[0maxis\u001b[0m\u001b[1;33m=\u001b[0m\u001b[1;36m1\u001b[0m\u001b[1;33m)\u001b[0m\u001b[1;33m\u001b[0m\u001b[0m\n\u001b[1;32m-> 2178\u001b[1;33m             \u001b[1;32mreturn\u001b[0m \u001b[0mself\u001b[0m\u001b[1;33m.\u001b[0m\u001b[0m_take\u001b[0m\u001b[1;33m(\u001b[0m\u001b[0mindexer\u001b[0m\u001b[1;33m,\u001b[0m \u001b[0maxis\u001b[0m\u001b[1;33m=\u001b[0m\u001b[1;36m1\u001b[0m\u001b[1;33m,\u001b[0m \u001b[0mconvert\u001b[0m\u001b[1;33m=\u001b[0m\u001b[1;32mTrue\u001b[0m\u001b[1;33m)\u001b[0m\u001b[1;33m\u001b[0m\u001b[0m\n\u001b[0m\u001b[0;32m   2179\u001b[0m \u001b[1;33m\u001b[0m\u001b[0m\n\u001b[0;32m   2180\u001b[0m     \u001b[1;32mdef\u001b[0m \u001b[0m_getitem_multilevel\u001b[0m\u001b[1;33m(\u001b[0m\u001b[0mself\u001b[0m\u001b[1;33m,\u001b[0m \u001b[0mkey\u001b[0m\u001b[1;33m)\u001b[0m\u001b[1;33m:\u001b[0m\u001b[1;33m\u001b[0m\u001b[0m\n",
      "\u001b[1;32m~\\AppData\\Roaming\\Python\\Python36\\site-packages\\pandas\\core\\generic.py\u001b[0m in \u001b[0;36m_take\u001b[1;34m(self, indices, axis, convert, is_copy)\u001b[0m\n\u001b[0;32m   2141\u001b[0m     \u001b[1;33m@\u001b[0m\u001b[0mAppender\u001b[0m\u001b[1;33m(\u001b[0m\u001b[0m_shared_docs\u001b[0m\u001b[1;33m[\u001b[0m\u001b[1;34m'_take'\u001b[0m\u001b[1;33m]\u001b[0m\u001b[1;33m)\u001b[0m\u001b[1;33m\u001b[0m\u001b[0m\n\u001b[0;32m   2142\u001b[0m     \u001b[1;32mdef\u001b[0m \u001b[0m_take\u001b[0m\u001b[1;33m(\u001b[0m\u001b[0mself\u001b[0m\u001b[1;33m,\u001b[0m \u001b[0mindices\u001b[0m\u001b[1;33m,\u001b[0m \u001b[0maxis\u001b[0m\u001b[1;33m=\u001b[0m\u001b[1;36m0\u001b[0m\u001b[1;33m,\u001b[0m \u001b[0mconvert\u001b[0m\u001b[1;33m=\u001b[0m\u001b[1;32mTrue\u001b[0m\u001b[1;33m,\u001b[0m \u001b[0mis_copy\u001b[0m\u001b[1;33m=\u001b[0m\u001b[1;32mTrue\u001b[0m\u001b[1;33m)\u001b[0m\u001b[1;33m:\u001b[0m\u001b[1;33m\u001b[0m\u001b[0m\n\u001b[1;32m-> 2143\u001b[1;33m         \u001b[0mself\u001b[0m\u001b[1;33m.\u001b[0m\u001b[0m_consolidate_inplace\u001b[0m\u001b[1;33m(\u001b[0m\u001b[1;33m)\u001b[0m\u001b[1;33m\u001b[0m\u001b[0m\n\u001b[0m\u001b[0;32m   2144\u001b[0m \u001b[1;33m\u001b[0m\u001b[0m\n\u001b[0;32m   2145\u001b[0m         \u001b[1;32mif\u001b[0m \u001b[0mconvert\u001b[0m\u001b[1;33m:\u001b[0m\u001b[1;33m\u001b[0m\u001b[0m\n",
      "\u001b[1;32m~\\AppData\\Roaming\\Python\\Python36\\site-packages\\pandas\\core\\generic.py\u001b[0m in \u001b[0;36m_consolidate_inplace\u001b[1;34m(self)\u001b[0m\n\u001b[0;32m   3675\u001b[0m             \u001b[0mself\u001b[0m\u001b[1;33m.\u001b[0m\u001b[0m_data\u001b[0m \u001b[1;33m=\u001b[0m \u001b[0mself\u001b[0m\u001b[1;33m.\u001b[0m\u001b[0m_data\u001b[0m\u001b[1;33m.\u001b[0m\u001b[0mconsolidate\u001b[0m\u001b[1;33m(\u001b[0m\u001b[1;33m)\u001b[0m\u001b[1;33m\u001b[0m\u001b[0m\n\u001b[0;32m   3676\u001b[0m \u001b[1;33m\u001b[0m\u001b[0m\n\u001b[1;32m-> 3677\u001b[1;33m         \u001b[0mself\u001b[0m\u001b[1;33m.\u001b[0m\u001b[0m_protect_consolidate\u001b[0m\u001b[1;33m(\u001b[0m\u001b[0mf\u001b[0m\u001b[1;33m)\u001b[0m\u001b[1;33m\u001b[0m\u001b[0m\n\u001b[0m\u001b[0;32m   3678\u001b[0m \u001b[1;33m\u001b[0m\u001b[0m\n\u001b[0;32m   3679\u001b[0m     \u001b[1;32mdef\u001b[0m \u001b[0m_consolidate\u001b[0m\u001b[1;33m(\u001b[0m\u001b[0mself\u001b[0m\u001b[1;33m,\u001b[0m \u001b[0minplace\u001b[0m\u001b[1;33m=\u001b[0m\u001b[1;32mFalse\u001b[0m\u001b[1;33m)\u001b[0m\u001b[1;33m:\u001b[0m\u001b[1;33m\u001b[0m\u001b[0m\n",
      "\u001b[1;32m~\\AppData\\Roaming\\Python\\Python36\\site-packages\\pandas\\core\\generic.py\u001b[0m in \u001b[0;36m_protect_consolidate\u001b[1;34m(self, f)\u001b[0m\n\u001b[0;32m   3664\u001b[0m         \"\"\"\n\u001b[0;32m   3665\u001b[0m         \u001b[0mblocks_before\u001b[0m \u001b[1;33m=\u001b[0m \u001b[0mlen\u001b[0m\u001b[1;33m(\u001b[0m\u001b[0mself\u001b[0m\u001b[1;33m.\u001b[0m\u001b[0m_data\u001b[0m\u001b[1;33m.\u001b[0m\u001b[0mblocks\u001b[0m\u001b[1;33m)\u001b[0m\u001b[1;33m\u001b[0m\u001b[0m\n\u001b[1;32m-> 3666\u001b[1;33m         \u001b[0mresult\u001b[0m \u001b[1;33m=\u001b[0m \u001b[0mf\u001b[0m\u001b[1;33m(\u001b[0m\u001b[1;33m)\u001b[0m\u001b[1;33m\u001b[0m\u001b[0m\n\u001b[0m\u001b[0;32m   3667\u001b[0m         \u001b[1;32mif\u001b[0m \u001b[0mlen\u001b[0m\u001b[1;33m(\u001b[0m\u001b[0mself\u001b[0m\u001b[1;33m.\u001b[0m\u001b[0m_data\u001b[0m\u001b[1;33m.\u001b[0m\u001b[0mblocks\u001b[0m\u001b[1;33m)\u001b[0m \u001b[1;33m!=\u001b[0m \u001b[0mblocks_before\u001b[0m\u001b[1;33m:\u001b[0m\u001b[1;33m\u001b[0m\u001b[0m\n\u001b[0;32m   3668\u001b[0m             \u001b[0mself\u001b[0m\u001b[1;33m.\u001b[0m\u001b[0m_clear_item_cache\u001b[0m\u001b[1;33m(\u001b[0m\u001b[1;33m)\u001b[0m\u001b[1;33m\u001b[0m\u001b[0m\n",
      "\u001b[1;32m~\\AppData\\Roaming\\Python\\Python36\\site-packages\\pandas\\core\\generic.py\u001b[0m in \u001b[0;36mf\u001b[1;34m()\u001b[0m\n\u001b[0;32m   3673\u001b[0m \u001b[1;33m\u001b[0m\u001b[0m\n\u001b[0;32m   3674\u001b[0m         \u001b[1;32mdef\u001b[0m \u001b[0mf\u001b[0m\u001b[1;33m(\u001b[0m\u001b[1;33m)\u001b[0m\u001b[1;33m:\u001b[0m\u001b[1;33m\u001b[0m\u001b[0m\n\u001b[1;32m-> 3675\u001b[1;33m             \u001b[0mself\u001b[0m\u001b[1;33m.\u001b[0m\u001b[0m_data\u001b[0m \u001b[1;33m=\u001b[0m \u001b[0mself\u001b[0m\u001b[1;33m.\u001b[0m\u001b[0m_data\u001b[0m\u001b[1;33m.\u001b[0m\u001b[0mconsolidate\u001b[0m\u001b[1;33m(\u001b[0m\u001b[1;33m)\u001b[0m\u001b[1;33m\u001b[0m\u001b[0m\n\u001b[0m\u001b[0;32m   3676\u001b[0m \u001b[1;33m\u001b[0m\u001b[0m\n\u001b[0;32m   3677\u001b[0m         \u001b[0mself\u001b[0m\u001b[1;33m.\u001b[0m\u001b[0m_protect_consolidate\u001b[0m\u001b[1;33m(\u001b[0m\u001b[0mf\u001b[0m\u001b[1;33m)\u001b[0m\u001b[1;33m\u001b[0m\u001b[0m\n",
      "\u001b[1;32m~\\AppData\\Roaming\\Python\\Python36\\site-packages\\pandas\\core\\internals.py\u001b[0m in \u001b[0;36mconsolidate\u001b[1;34m(self)\u001b[0m\n\u001b[0;32m   3824\u001b[0m         \u001b[0mbm\u001b[0m \u001b[1;33m=\u001b[0m \u001b[0mself\u001b[0m\u001b[1;33m.\u001b[0m\u001b[0m__class__\u001b[0m\u001b[1;33m(\u001b[0m\u001b[0mself\u001b[0m\u001b[1;33m.\u001b[0m\u001b[0mblocks\u001b[0m\u001b[1;33m,\u001b[0m \u001b[0mself\u001b[0m\u001b[1;33m.\u001b[0m\u001b[0maxes\u001b[0m\u001b[1;33m)\u001b[0m\u001b[1;33m\u001b[0m\u001b[0m\n\u001b[0;32m   3825\u001b[0m         \u001b[0mbm\u001b[0m\u001b[1;33m.\u001b[0m\u001b[0m_is_consolidated\u001b[0m \u001b[1;33m=\u001b[0m \u001b[1;32mFalse\u001b[0m\u001b[1;33m\u001b[0m\u001b[0m\n\u001b[1;32m-> 3826\u001b[1;33m         \u001b[0mbm\u001b[0m\u001b[1;33m.\u001b[0m\u001b[0m_consolidate_inplace\u001b[0m\u001b[1;33m(\u001b[0m\u001b[1;33m)\u001b[0m\u001b[1;33m\u001b[0m\u001b[0m\n\u001b[0m\u001b[0;32m   3827\u001b[0m         \u001b[1;32mreturn\u001b[0m \u001b[0mbm\u001b[0m\u001b[1;33m\u001b[0m\u001b[0m\n\u001b[0;32m   3828\u001b[0m \u001b[1;33m\u001b[0m\u001b[0m\n",
      "\u001b[1;32m~\\AppData\\Roaming\\Python\\Python36\\site-packages\\pandas\\core\\internals.py\u001b[0m in \u001b[0;36m_consolidate_inplace\u001b[1;34m(self)\u001b[0m\n\u001b[0;32m   3829\u001b[0m     \u001b[1;32mdef\u001b[0m \u001b[0m_consolidate_inplace\u001b[0m\u001b[1;33m(\u001b[0m\u001b[0mself\u001b[0m\u001b[1;33m)\u001b[0m\u001b[1;33m:\u001b[0m\u001b[1;33m\u001b[0m\u001b[0m\n\u001b[0;32m   3830\u001b[0m         \u001b[1;32mif\u001b[0m \u001b[1;32mnot\u001b[0m \u001b[0mself\u001b[0m\u001b[1;33m.\u001b[0m\u001b[0mis_consolidated\u001b[0m\u001b[1;33m(\u001b[0m\u001b[1;33m)\u001b[0m\u001b[1;33m:\u001b[0m\u001b[1;33m\u001b[0m\u001b[0m\n\u001b[1;32m-> 3831\u001b[1;33m             \u001b[0mself\u001b[0m\u001b[1;33m.\u001b[0m\u001b[0mblocks\u001b[0m \u001b[1;33m=\u001b[0m \u001b[0mtuple\u001b[0m\u001b[1;33m(\u001b[0m\u001b[0m_consolidate\u001b[0m\u001b[1;33m(\u001b[0m\u001b[0mself\u001b[0m\u001b[1;33m.\u001b[0m\u001b[0mblocks\u001b[0m\u001b[1;33m)\u001b[0m\u001b[1;33m)\u001b[0m\u001b[1;33m\u001b[0m\u001b[0m\n\u001b[0m\u001b[0;32m   3832\u001b[0m             \u001b[0mself\u001b[0m\u001b[1;33m.\u001b[0m\u001b[0m_is_consolidated\u001b[0m \u001b[1;33m=\u001b[0m \u001b[1;32mTrue\u001b[0m\u001b[1;33m\u001b[0m\u001b[0m\n\u001b[0;32m   3833\u001b[0m             \u001b[0mself\u001b[0m\u001b[1;33m.\u001b[0m\u001b[0m_known_consolidated\u001b[0m \u001b[1;33m=\u001b[0m \u001b[1;32mTrue\u001b[0m\u001b[1;33m\u001b[0m\u001b[0m\n",
      "\u001b[1;32m~\\AppData\\Roaming\\Python\\Python36\\site-packages\\pandas\\core\\internals.py\u001b[0m in \u001b[0;36m_consolidate\u001b[1;34m(blocks)\u001b[0m\n\u001b[0;32m   4851\u001b[0m     \u001b[1;32mfor\u001b[0m \u001b[1;33m(\u001b[0m\u001b[0m_can_consolidate\u001b[0m\u001b[1;33m,\u001b[0m \u001b[0mdtype\u001b[0m\u001b[1;33m)\u001b[0m\u001b[1;33m,\u001b[0m \u001b[0mgroup_blocks\u001b[0m \u001b[1;32min\u001b[0m \u001b[0mgrouper\u001b[0m\u001b[1;33m:\u001b[0m\u001b[1;33m\u001b[0m\u001b[0m\n\u001b[0;32m   4852\u001b[0m         merged_blocks = _merge_blocks(list(group_blocks), dtype=dtype,\n\u001b[1;32m-> 4853\u001b[1;33m                                       _can_consolidate=_can_consolidate)\n\u001b[0m\u001b[0;32m   4854\u001b[0m         \u001b[0mnew_blocks\u001b[0m \u001b[1;33m=\u001b[0m \u001b[0m_extend_blocks\u001b[0m\u001b[1;33m(\u001b[0m\u001b[0mmerged_blocks\u001b[0m\u001b[1;33m,\u001b[0m \u001b[0mnew_blocks\u001b[0m\u001b[1;33m)\u001b[0m\u001b[1;33m\u001b[0m\u001b[0m\n\u001b[0;32m   4855\u001b[0m     \u001b[1;32mreturn\u001b[0m \u001b[0mnew_blocks\u001b[0m\u001b[1;33m\u001b[0m\u001b[0m\n",
      "\u001b[1;32m~\\AppData\\Roaming\\Python\\Python36\\site-packages\\pandas\\core\\internals.py\u001b[0m in \u001b[0;36m_merge_blocks\u001b[1;34m(blocks, dtype, _can_consolidate)\u001b[0m\n\u001b[0;32m   4874\u001b[0m \u001b[1;33m\u001b[0m\u001b[0m\n\u001b[0;32m   4875\u001b[0m         \u001b[0margsort\u001b[0m \u001b[1;33m=\u001b[0m \u001b[0mnp\u001b[0m\u001b[1;33m.\u001b[0m\u001b[0margsort\u001b[0m\u001b[1;33m(\u001b[0m\u001b[0mnew_mgr_locs\u001b[0m\u001b[1;33m)\u001b[0m\u001b[1;33m\u001b[0m\u001b[0m\n\u001b[1;32m-> 4876\u001b[1;33m         \u001b[0mnew_values\u001b[0m \u001b[1;33m=\u001b[0m \u001b[0mnew_values\u001b[0m\u001b[1;33m[\u001b[0m\u001b[0margsort\u001b[0m\u001b[1;33m]\u001b[0m\u001b[1;33m\u001b[0m\u001b[0m\n\u001b[0m\u001b[0;32m   4877\u001b[0m         \u001b[0mnew_mgr_locs\u001b[0m \u001b[1;33m=\u001b[0m \u001b[0mnew_mgr_locs\u001b[0m\u001b[1;33m[\u001b[0m\u001b[0margsort\u001b[0m\u001b[1;33m]\u001b[0m\u001b[1;33m\u001b[0m\u001b[0m\n\u001b[0;32m   4878\u001b[0m \u001b[1;33m\u001b[0m\u001b[0m\n",
      "\u001b[1;31mMemoryError\u001b[0m: "
     ]
    }
   ],
   "source": [
    "# prefix&prefix_len, prefix_prediction_len, prefix&title, prefix&tag, prefix_len&prediction_len, prefix_len&title, prefix_len&tag, \n",
    "# prediction_len&title, prediction_len&tag, title&tag\n",
    "items = ['prefix', 'prefix_len', 'pred_len', 'title','title_len', 'tag']\n",
    "for i in range(len(items)):\n",
    "    for j in range(i+1, len(items)):\n",
    "        item_g = [items[i], items[j]]\n",
    "        a = train_df['label'].sum()/train_df[item_g].nunique()\n",
    "        b = train_df['label'].count()/train_df[item_g].nunique()\n",
    "        temp = train_df.groupby(item_g, as_index=False)['label'].agg({'_'.join(item_g)+'_click': 'sum','_'.join(item_g)+'_count':'count'})\n",
    "        # 平滑点击数与搜索数\n",
    "        temp['_'.join(item_g)+'_click_smooth'] = temp['_'.join(item_g)+'_click']+a\n",
    "        temp['_'.join(item_g)+'_count_smooth'] = temp['_'.join(item_g)+'_count']+b\n",
    "        # 点击数和搜索数的log变换\n",
    "        temp['_'.join(item_g)+'_click_log'] = np.log1p(temp['_'.join(item_g)+'_click'])\n",
    "        temp['_'.join(item_g)+'_count_log'] = np.log1p(temp['_'.join(item_g)+'_count'])\n",
    "        \n",
    "        # 点击数和搜索数与均值的差值\n",
    "        temp['_'.join(item_g)+'_click_diff'] = temp['_'.join(item_g)+'_click'] - temp['_'.join(item_g)+'_click'].mean()\n",
    "        temp['_'.join(item_g)+'_count_diff'] = temp['_'.join(item_g)+'_count'] - temp['_'.join(item_g)+'_count'].mean()\n",
    "        \n",
    "        # 点击数占比与搜索数占比\n",
    "        temp['_'.join(item_g)+'_click_ratio'] = temp['_'.join(item_g)+'_click']/temp['_'.join(item_g)+'_click'].sum()\n",
    "        temp['_'.join(item_g)+'_count_ratio'] = temp['_'.join(item_g)+'_count']/temp['_'.join(item_g)+'_count'].sum()\n",
    "        # 平滑点击数占比与搜索数占比\n",
    "        temp['_'.join(item_g)+'_click_ratio_smooth'] = (temp['_'.join(item_g)+'_click']+a)/(2*temp['_'.join(item_g)+'_click'].sum())\n",
    "        temp['_'.join(item_g)+'_count_ratio_smooth'] = (temp['_'.join(item_g)+'_count']+b)/(2*temp['_'.join(item_g)+'_count'].sum())\n",
    "        # 点击数log占比与搜索数log占比\n",
    "        temp['_'.join(item_g)+'_click_ratio_log'] = np.log1p(temp['_'.join(item_g)+'_click_ratio'])\n",
    "        temp['_'.join(item_g)+'_count_ratio_log'] = np.log1p(temp['_'.join(item_g)+'_count_ratio'])\n",
    "        \n",
    "        # 绝对转化率\n",
    "        temp['_'.join(item_g)+'_ctr_abs'] = temp['_'.join(item_g)+'_click']/(temp['_'.join(item_g)+'_count'])\n",
    "        # 贝叶斯平滑转换率\n",
    "        temp['_'.join(item_g)+'_ctr_smooth'] = (temp['_'.join(item_g)+'_click']+a)/(temp['_'.join(item_g)+'_count']+b)\n",
    "        # 绝对转化率差值\n",
    "        temp['_'.join(item_g)+'_ctr_diff'] = temp['_'.join(item_g)+'_ctr_abs'] - temp['_'.join(item_g)+'_ctr_abs'].mean()\n",
    "        # 相对转化率\n",
    "        temp['_'.join(item_g)+'_ctr_rela'] = temp['_'.join(item_g)+'_ctr_diff']/(temp['_'.join(item_g)+'_ctr_abs'].mean())\n",
    "        \n",
    "        # prefix的log绝对转换率\n",
    "        temp['_'.join(item_g)+'_ctr_log_abs'] = temp['_'.join(item_g)+'_click_log']-(temp['_'.join(item_g)+'_count_log'])\n",
    "        # prefix的log贝叶斯平滑转换率\n",
    "        temp['_'.join(item_g)+'_ctr_log_smooth'] = (temp['_'.join(item_g)+'_click_log']+np.log1p(a))/(temp['_'.join(item_g)+'_count_log']+np.log1p(b))\n",
    "        # prefix的log绝对转化率差值\n",
    "        temp['_'.join(item_g)+'_ctr_log_diff'] = temp['_'.join(item_g)+'_ctr_log_abs'] - temp['_'.join(item_g)+'_ctr_log_abs'].mean()\n",
    "        # prefix的log相对转化率\n",
    "        temp['_'.join(item_g)+'_ctr_log_rela'] = temp['_'.join(item_g)+'_ctr_log_diff']/(temp['_'.join(item_g)+'_ctr_log_abs'].mean())\n",
    "        \n",
    "        train_df = pd.merge(train_df, temp, on=item_g, how='left')\n",
    "        valid_df = pd.merge(valid_df, temp, on=item_g, how='left')\n",
    "        test_data = pd.merge(test_data, temp, on=item_g, how='left')\n",
    "        temp.to_csv('d:/oppo/input/'+items[i]+items[j]+'.txt',sep='\\t',index=False)\n",
    "        del temp"
   ]
  },
  {
   "cell_type": "code",
   "execution_count": 9,
   "metadata": {},
   "outputs": [],
   "source": [
    "train_data = train_data[['prefix', 'prefix_len',  'pred_len',  'title','title_len', 'tag', 'label']]\n",
    "test_data = test_data[['prefix', 'prefix_len', 'pred_len',  'title','title_len', 'tag', 'label']]"
   ]
  },
  {
   "cell_type": "code",
   "execution_count": 10,
   "metadata": {
    "collapsed": true
   },
   "outputs": [
    {
     "data": {
      "image/png": "[encoded data removed]",
      "text/plain": [
       "<Figure size 432x288 with 9 Axes>"
      ]
     },
     "metadata": {},
     "output_type": "display_data"
    },
    {
     "data": {
      "image/png": "[encoded data removed]",
      "text/plain": [
       "<Figure size 432x288 with 12 Axes>"
      ]
     },
     "metadata": {},
     "output_type": "display_data"
    },
    {
     "data": {
      "image/png": "[encoded data removed]",
      "text/plain": [
       "<Figure size 432x288 with 12 Axes>"
      ]
     },
     "metadata": {},
     "output_type": "display_data"
    },
    {
     "data": {
      "image/png": "[encoded data removed]",
      "text/plain": [
       "<Figure size 432x288 with 9 Axes>"
      ]
     },
     "metadata": {},
     "output_type": "display_data"
    },
    {
     "data": {
      "image/png": "[encoded data removed]",
      "text/plain": [
       "<Figure size 432x288 with 9 Axes>"
      ]
     },
     "metadata": {},
     "output_type": "display_data"
    }
   ],
   "source": [
    "# 计算prefix、title、tag的数量，点击数，点击率及其loglp值\n",
    "items = ['prefix', 'prefix_len', 'pred_len', 'title', 'tag']\n",
    "for item in items:\n",
    "    temp = train_data.groupby(item, as_index = False)['label'].agg({item+'_click':'sum', item+'_count':'count'})\n",
    "    temp[item+'_click_diff'] = temp[item+'_click'] - temp[item+'_click'].mean()\n",
    "    temp[item+'_count_diff'] = temp[item+'_count'] - temp[item+'_count'].mean()\n",
    "    temp[item+'_click_log'] = np.log1p(temp[item+'_click'])\n",
    "    temp[item+'_count_log'] = np.log1p(temp[item+'_count'])\n",
    "    temp[item+'_ctr'] = temp[item+'_click']/(temp[item+'_count'])\n",
    "    temp[item+'_ctr_diff'] = temp[item+'_ctr'] - temp[item+'_ctr'].mean()\n",
    "    temp[item+'_ctr_log'] = np.log1p(temp[item+'_click']) - np.log1p(temp[item+'_count'])\n",
    "    # temp[item+'_ctr_log'] = temp[item+'_click_log'] - temp[item+'_count_log']\n",
    "    temp.hist()\n",
    "    train_data = pd.merge(train_data, temp, on=item, how='left')\n",
    "    test_data = pd.merge(test_data, temp, on=item, how='left')"
   ]
  },
  {
   "cell_type": "code",
   "execution_count": 14,
   "metadata": {
    "collapsed": true
   },
   "outputs": [
    {
     "ename": "ValueError",
     "evalue": "cannot insert pred_len, already exists",
     "output_type": "error",
     "traceback": [
      "\u001b[1;31m---------------------------------------------------------------------------\u001b[0m",
      "\u001b[1;31mValueError\u001b[0m                                Traceback (most recent call last)",
      "\u001b[1;32m<ipython-input-14-aba61f1eee24>\u001b[0m in \u001b[0;36m<module>\u001b[1;34m()\u001b[0m\n\u001b[0;32m      4\u001b[0m         \u001b[1;32mfor\u001b[0m \u001b[0mk\u001b[0m \u001b[1;32min\u001b[0m \u001b[0mrange\u001b[0m\u001b[1;33m(\u001b[0m\u001b[0mi\u001b[0m\u001b[1;33m+\u001b[0m\u001b[1;36m2\u001b[0m\u001b[1;33m,\u001b[0m \u001b[0mlen\u001b[0m\u001b[1;33m(\u001b[0m\u001b[0mitems\u001b[0m\u001b[1;33m)\u001b[0m\u001b[1;33m)\u001b[0m\u001b[1;33m:\u001b[0m\u001b[1;33m\u001b[0m\u001b[0m\n\u001b[0;32m      5\u001b[0m             \u001b[0mitem_g\u001b[0m \u001b[1;33m=\u001b[0m \u001b[1;33m[\u001b[0m\u001b[0mitems\u001b[0m\u001b[1;33m[\u001b[0m\u001b[0mi\u001b[0m\u001b[1;33m]\u001b[0m\u001b[1;33m,\u001b[0m \u001b[0mitems\u001b[0m\u001b[1;33m[\u001b[0m\u001b[0mj\u001b[0m\u001b[1;33m]\u001b[0m\u001b[1;33m,\u001b[0m \u001b[0mitems\u001b[0m\u001b[1;33m[\u001b[0m\u001b[0mk\u001b[0m\u001b[1;33m]\u001b[0m\u001b[1;33m]\u001b[0m\u001b[1;33m\u001b[0m\u001b[0m\n\u001b[1;32m----> 6\u001b[1;33m             \u001b[0mtemp\u001b[0m \u001b[1;33m=\u001b[0m \u001b[0mtrain_data\u001b[0m\u001b[1;33m.\u001b[0m\u001b[0mgroupby\u001b[0m\u001b[1;33m(\u001b[0m\u001b[0mitem_g\u001b[0m\u001b[1;33m,\u001b[0m \u001b[0mas_index\u001b[0m\u001b[1;33m=\u001b[0m\u001b[1;32mFalse\u001b[0m\u001b[1;33m)\u001b[0m\u001b[1;33m[\u001b[0m\u001b[1;34m'label'\u001b[0m\u001b[1;33m]\u001b[0m\u001b[1;33m.\u001b[0m\u001b[0magg\u001b[0m\u001b[1;33m(\u001b[0m\u001b[1;33m{\u001b[0m\u001b[1;34m'_'\u001b[0m\u001b[1;33m.\u001b[0m\u001b[0mjoin\u001b[0m\u001b[1;33m(\u001b[0m\u001b[0mitem_g\u001b[0m\u001b[1;33m)\u001b[0m\u001b[1;33m+\u001b[0m\u001b[1;34m'_click'\u001b[0m\u001b[1;33m:\u001b[0m \u001b[1;34m'sum'\u001b[0m\u001b[1;33m,\u001b[0m\u001b[1;34m'_'\u001b[0m\u001b[1;33m.\u001b[0m\u001b[0mjoin\u001b[0m\u001b[1;33m(\u001b[0m\u001b[0mitem_g\u001b[0m\u001b[1;33m)\u001b[0m\u001b[1;33m+\u001b[0m\u001b[1;34m'_count'\u001b[0m\u001b[1;33m:\u001b[0m\u001b[1;34m'count'\u001b[0m\u001b[1;33m}\u001b[0m\u001b[1;33m)\u001b[0m\u001b[1;33m\u001b[0m\u001b[0m\n\u001b[0m\u001b[0;32m      7\u001b[0m \u001b[1;33m\u001b[0m\u001b[0m\n\u001b[0;32m      8\u001b[0m             \u001b[0mtemp\u001b[0m\u001b[1;33m[\u001b[0m\u001b[1;34m'_'\u001b[0m\u001b[1;33m.\u001b[0m\u001b[0mjoin\u001b[0m\u001b[1;33m(\u001b[0m\u001b[0mitem_g\u001b[0m\u001b[1;33m)\u001b[0m\u001b[1;33m+\u001b[0m\u001b[1;34m'_click_diff'\u001b[0m\u001b[1;33m]\u001b[0m \u001b[1;33m=\u001b[0m \u001b[0mtemp\u001b[0m\u001b[1;33m[\u001b[0m\u001b[1;34m'_'\u001b[0m\u001b[1;33m.\u001b[0m\u001b[0mjoin\u001b[0m\u001b[1;33m(\u001b[0m\u001b[0mitem_g\u001b[0m\u001b[1;33m)\u001b[0m\u001b[1;33m+\u001b[0m\u001b[1;34m'_click'\u001b[0m\u001b[1;33m]\u001b[0m \u001b[1;33m-\u001b[0m \u001b[0mtemp\u001b[0m\u001b[1;33m[\u001b[0m\u001b[1;34m'_'\u001b[0m\u001b[1;33m.\u001b[0m\u001b[0mjoin\u001b[0m\u001b[1;33m(\u001b[0m\u001b[0mitem_g\u001b[0m\u001b[1;33m)\u001b[0m\u001b[1;33m+\u001b[0m\u001b[1;34m'_click'\u001b[0m\u001b[1;33m]\u001b[0m\u001b[1;33m.\u001b[0m\u001b[0mmean\u001b[0m\u001b[1;33m(\u001b[0m\u001b[1;33m)\u001b[0m\u001b[1;33m\u001b[0m\u001b[0m\n",
      "\u001b[1;32m~\\AppData\\Roaming\\Python\\Python36\\site-packages\\pandas\\core\\groupby.py\u001b[0m in \u001b[0;36maggregate\u001b[1;34m(self, arg, *args, **kwargs)\u001b[0m\n\u001b[0;32m   4289\u001b[0m         versionadded=''))\n\u001b[0;32m   4290\u001b[0m     \u001b[1;32mdef\u001b[0m \u001b[0maggregate\u001b[0m\u001b[1;33m(\u001b[0m\u001b[0mself\u001b[0m\u001b[1;33m,\u001b[0m \u001b[0marg\u001b[0m\u001b[1;33m,\u001b[0m \u001b[1;33m*\u001b[0m\u001b[0margs\u001b[0m\u001b[1;33m,\u001b[0m \u001b[1;33m**\u001b[0m\u001b[0mkwargs\u001b[0m\u001b[1;33m)\u001b[0m\u001b[1;33m:\u001b[0m\u001b[1;33m\u001b[0m\u001b[0m\n\u001b[1;32m-> 4291\u001b[1;33m         \u001b[1;32mreturn\u001b[0m \u001b[0msuper\u001b[0m\u001b[1;33m(\u001b[0m\u001b[0mDataFrameGroupBy\u001b[0m\u001b[1;33m,\u001b[0m \u001b[0mself\u001b[0m\u001b[1;33m)\u001b[0m\u001b[1;33m.\u001b[0m\u001b[0maggregate\u001b[0m\u001b[1;33m(\u001b[0m\u001b[0marg\u001b[0m\u001b[1;33m,\u001b[0m \u001b[1;33m*\u001b[0m\u001b[0margs\u001b[0m\u001b[1;33m,\u001b[0m \u001b[1;33m**\u001b[0m\u001b[0mkwargs\u001b[0m\u001b[1;33m)\u001b[0m\u001b[1;33m\u001b[0m\u001b[0m\n\u001b[0m\u001b[0;32m   4292\u001b[0m \u001b[1;33m\u001b[0m\u001b[0m\n\u001b[0;32m   4293\u001b[0m     \u001b[0magg\u001b[0m \u001b[1;33m=\u001b[0m \u001b[0maggregate\u001b[0m\u001b[1;33m\u001b[0m\u001b[0m\n",
      "\u001b[1;32m~\\AppData\\Roaming\\Python\\Python36\\site-packages\\pandas\\core\\groupby.py\u001b[0m in \u001b[0;36maggregate\u001b[1;34m(self, arg, *args, **kwargs)\u001b[0m\n\u001b[0;32m   3745\u001b[0m \u001b[1;33m\u001b[0m\u001b[0m\n\u001b[0;32m   3746\u001b[0m         \u001b[1;32mif\u001b[0m \u001b[1;32mnot\u001b[0m \u001b[0mself\u001b[0m\u001b[1;33m.\u001b[0m\u001b[0mas_index\u001b[0m\u001b[1;33m:\u001b[0m\u001b[1;33m\u001b[0m\u001b[0m\n\u001b[1;32m-> 3747\u001b[1;33m             \u001b[0mself\u001b[0m\u001b[1;33m.\u001b[0m\u001b[0m_insert_inaxis_grouper_inplace\u001b[0m\u001b[1;33m(\u001b[0m\u001b[0mresult\u001b[0m\u001b[1;33m)\u001b[0m\u001b[1;33m\u001b[0m\u001b[0m\n\u001b[0m\u001b[0;32m   3748\u001b[0m             \u001b[0mresult\u001b[0m\u001b[1;33m.\u001b[0m\u001b[0mindex\u001b[0m \u001b[1;33m=\u001b[0m \u001b[0mnp\u001b[0m\u001b[1;33m.\u001b[0m\u001b[0marange\u001b[0m\u001b[1;33m(\u001b[0m\u001b[0mlen\u001b[0m\u001b[1;33m(\u001b[0m\u001b[0mresult\u001b[0m\u001b[1;33m)\u001b[0m\u001b[1;33m)\u001b[0m\u001b[1;33m\u001b[0m\u001b[0m\n\u001b[0;32m   3749\u001b[0m \u001b[1;33m\u001b[0m\u001b[0m\n",
      "\u001b[1;32m~\\AppData\\Roaming\\Python\\Python36\\site-packages\\pandas\\core\\groupby.py\u001b[0m in \u001b[0;36m_insert_inaxis_grouper_inplace\u001b[1;34m(self, result)\u001b[0m\n\u001b[0;32m   4348\u001b[0m         \u001b[1;32mfor\u001b[0m \u001b[0mname\u001b[0m\u001b[1;33m,\u001b[0m \u001b[0mlev\u001b[0m\u001b[1;33m,\u001b[0m \u001b[0min_axis\u001b[0m \u001b[1;32min\u001b[0m \u001b[0mizip\u001b[0m\u001b[1;33m:\u001b[0m\u001b[1;33m\u001b[0m\u001b[0m\n\u001b[0;32m   4349\u001b[0m             \u001b[1;32mif\u001b[0m \u001b[0min_axis\u001b[0m\u001b[1;33m:\u001b[0m\u001b[1;33m\u001b[0m\u001b[0m\n\u001b[1;32m-> 4350\u001b[1;33m                 \u001b[0mresult\u001b[0m\u001b[1;33m.\u001b[0m\u001b[0minsert\u001b[0m\u001b[1;33m(\u001b[0m\u001b[1;36m0\u001b[0m\u001b[1;33m,\u001b[0m \u001b[0mname\u001b[0m\u001b[1;33m,\u001b[0m \u001b[0mlev\u001b[0m\u001b[1;33m)\u001b[0m\u001b[1;33m\u001b[0m\u001b[0m\n\u001b[0m\u001b[0;32m   4351\u001b[0m \u001b[1;33m\u001b[0m\u001b[0m\n\u001b[0;32m   4352\u001b[0m     \u001b[1;32mdef\u001b[0m \u001b[0m_wrap_aggregated_output\u001b[0m\u001b[1;33m(\u001b[0m\u001b[0mself\u001b[0m\u001b[1;33m,\u001b[0m \u001b[0moutput\u001b[0m\u001b[1;33m,\u001b[0m \u001b[0mnames\u001b[0m\u001b[1;33m=\u001b[0m\u001b[1;32mNone\u001b[0m\u001b[1;33m)\u001b[0m\u001b[1;33m:\u001b[0m\u001b[1;33m\u001b[0m\u001b[0m\n",
      "\u001b[1;32m~\\AppData\\Roaming\\Python\\Python36\\site-packages\\pandas\\core\\frame.py\u001b[0m in \u001b[0;36minsert\u001b[1;34m(self, loc, column, value, allow_duplicates)\u001b[0m\n\u001b[0;32m   2611\u001b[0m         \u001b[0mvalue\u001b[0m \u001b[1;33m=\u001b[0m \u001b[0mself\u001b[0m\u001b[1;33m.\u001b[0m\u001b[0m_sanitize_column\u001b[0m\u001b[1;33m(\u001b[0m\u001b[0mcolumn\u001b[0m\u001b[1;33m,\u001b[0m \u001b[0mvalue\u001b[0m\u001b[1;33m,\u001b[0m \u001b[0mbroadcast\u001b[0m\u001b[1;33m=\u001b[0m\u001b[1;32mFalse\u001b[0m\u001b[1;33m)\u001b[0m\u001b[1;33m\u001b[0m\u001b[0m\n\u001b[0;32m   2612\u001b[0m         self._data.insert(loc, column, value,\n\u001b[1;32m-> 2613\u001b[1;33m                           allow_duplicates=allow_duplicates)\n\u001b[0m\u001b[0;32m   2614\u001b[0m \u001b[1;33m\u001b[0m\u001b[0m\n\u001b[0;32m   2615\u001b[0m     \u001b[1;32mdef\u001b[0m \u001b[0massign\u001b[0m\u001b[1;33m(\u001b[0m\u001b[0mself\u001b[0m\u001b[1;33m,\u001b[0m \u001b[1;33m**\u001b[0m\u001b[0mkwargs\u001b[0m\u001b[1;33m)\u001b[0m\u001b[1;33m:\u001b[0m\u001b[1;33m\u001b[0m\u001b[0m\n",
      "\u001b[1;32m~\\AppData\\Roaming\\Python\\Python36\\site-packages\\pandas\\core\\internals.py\u001b[0m in \u001b[0;36minsert\u001b[1;34m(self, loc, item, value, allow_duplicates)\u001b[0m\n\u001b[0;32m   4061\u001b[0m         \u001b[1;32mif\u001b[0m \u001b[1;32mnot\u001b[0m \u001b[0mallow_duplicates\u001b[0m \u001b[1;32mand\u001b[0m \u001b[0mitem\u001b[0m \u001b[1;32min\u001b[0m \u001b[0mself\u001b[0m\u001b[1;33m.\u001b[0m\u001b[0mitems\u001b[0m\u001b[1;33m:\u001b[0m\u001b[1;33m\u001b[0m\u001b[0m\n\u001b[0;32m   4062\u001b[0m             \u001b[1;31m# Should this be a different kind of error??\u001b[0m\u001b[1;33m\u001b[0m\u001b[1;33m\u001b[0m\u001b[0m\n\u001b[1;32m-> 4063\u001b[1;33m             \u001b[1;32mraise\u001b[0m \u001b[0mValueError\u001b[0m\u001b[1;33m(\u001b[0m\u001b[1;34m'cannot insert {}, already exists'\u001b[0m\u001b[1;33m.\u001b[0m\u001b[0mformat\u001b[0m\u001b[1;33m(\u001b[0m\u001b[0mitem\u001b[0m\u001b[1;33m)\u001b[0m\u001b[1;33m)\u001b[0m\u001b[1;33m\u001b[0m\u001b[0m\n\u001b[0m\u001b[0;32m   4064\u001b[0m \u001b[1;33m\u001b[0m\u001b[0m\n\u001b[0;32m   4065\u001b[0m         \u001b[1;32mif\u001b[0m \u001b[1;32mnot\u001b[0m \u001b[0misinstance\u001b[0m\u001b[1;33m(\u001b[0m\u001b[0mloc\u001b[0m\u001b[1;33m,\u001b[0m \u001b[0mint\u001b[0m\u001b[1;33m)\u001b[0m\u001b[1;33m:\u001b[0m\u001b[1;33m\u001b[0m\u001b[0m\n",
      "\u001b[1;31mValueError\u001b[0m: cannot insert pred_len, already exists"
     ]
    },
    {
     "data": {
      "image/png": "[encoded data removed]",
      "text/plain": [
       "<Figure size 432x288 with 12 Axes>"
      ]
     },
     "metadata": {},
     "output_type": "display_data"
    },
    {
     "data": {
      "image/png": "[encoded data removed]",
      "text/plain": [
       "<Figure size 432x288 with 12 Axes>"
      ]
     },
     "metadata": {},
     "output_type": "display_data"
    },
    {
     "data": {
      "image/png": "[encoded data removed]",
      "text/plain": [
       "<Figure size 432x288 with 12 Axes>"
      ]
     },
     "metadata": {},
     "output_type": "display_data"
    }
   ],
   "source": [
    "# prefix&title,prefix&tag, title&tag\n",
    "for i in range(len(items)):\n",
    "    for j in range(i+1, len(items)):\n",
    "        for k in range(i+2, len(items)):\n",
    "            item_g = [items[i], items[j], items[k]]\n",
    "            temp = train_data.groupby(item_g, as_index=False)['label'].agg({'_'.join(item_g)+'_click': 'sum','_'.join(item_g)+'_count':'count'})\n",
    "\n",
    "            temp['_'.join(item_g)+'_click_diff'] = temp['_'.join(item_g)+'_click'] - temp['_'.join(item_g)+'_click'].mean()\n",
    "            temp['_'.join(item_g)+'_count_diff'] = temp['_'.join(item_g)+'_count'] - temp['_'.join(item_g)+'_count'].mean()\n",
    "\n",
    "            temp['_'.join(item_g)+'_click_log'] = np.log1p(temp['_'.join(item_g)+'_click'])\n",
    "            temp['_'.join(item_g)+'_count_log'] = np.log1p(temp['_'.join(item_g)+'_count'])\n",
    "\n",
    "            temp['_'.join(item_g)+'_ctr'] = temp['_'.join(item_g)+'_click']/(temp['_'.join(item_g)+'_count']+3)\n",
    "            temp['_'.join(item_g)+'_ctr_diff'] = temp['_'.join(item_g)+'_ctr'] - temp['_'.join(item_g)+'_ctr'].mean()\n",
    "            temp['_'.join(item_g)+'_ctr_log'] = np.log1p(temp['_'.join(item_g)+'_click']) - np.log1p(temp['_'.join(item_g)+'_count'])\n",
    "            # temp[item+'_ctr_log'] = temp[item+'_click_log'] - temp[item+'_count_log']\n",
    "            temp.hist()\n",
    "            train_data = pd.merge(train_data, temp, on=item_g, how='left')\n",
    "            test_data = pd.merge(test_data, temp, on=item_g, how='left')"
   ]
  },
  {
   "cell_type": "code",
   "execution_count": null,
   "metadata": {},
   "outputs": [],
   "source": []
  },
  {
   "cell_type": "code",
   "execution_count": null,
   "metadata": {},
   "outputs": [],
   "source": [
    "train_df.columns[train_df.dtypes=='object']"
   ]
  },
  {
   "cell_type": "code",
   "execution_count": 199,
   "metadata": {},
   "outputs": [
    {
     "name": "stdout",
     "output_type": "stream",
     "text": [
      "<class 'pandas.core.frame.DataFrame'>\n",
      "Int64Index: 2000000 entries, 0 to 1999999\n",
      "Columns: 103 entries, prefix to tag_ctr_log_rela\n",
      "dtypes: float64(82), int64(16), object(5)\n",
      "memory usage: 1.5+ GB\n"
     ]
    }
   ],
   "source": [
    "train_df.info()"
   ]
  },
  {
   "cell_type": "code",
   "execution_count": 202,
   "metadata": {},
   "outputs": [
    {
     "data": {
      "text/plain": [
       "Index(['prefix', 'query_prediction', 'title', 'tag', 'pred_list'], dtype='object')"
      ]
     },
     "execution_count": 202,
     "metadata": {},
     "output_type": "execute_result"
    }
   ],
   "source": [
    "obj_cols = train_df.columns[train_df.dtypes=='object']\n",
    "obj_cols"
   ]
  },
  {
   "cell_type": "code",
   "execution_count": null,
   "metadata": {},
   "outputs": [],
   "source": [
    "train_df = train_df.drop(['pred_list'],axis=1)\n",
    "valid_df = valid_df.drop(['pred_list'],axis=1)\n",
    "test_data = test_data.drop(['pred_list'],axis=1)"
   ]
  },
  {
   "cell_type": "code",
   "execution_count": 203,
   "metadata": {},
   "outputs": [
    {
     "data": {
      "text/plain": [
       "Index(['label', 'prefix_click', 'prefix_count', 'prefix_len',\n",
       "       'prefixlen_click', 'prefixlen_count', 'pred_len', 'predlen_click',\n",
       "       'predlen_count', 'title_click', 'title_count', 'title_len',\n",
       "       'titlelen_click', 'titlelen_count', 'tag_click', 'tag_count'],\n",
       "      dtype='object')"
      ]
     },
     "execution_count": 203,
     "metadata": {},
     "output_type": "execute_result"
    }
   ],
   "source": [
    "int_cols = train_df.columns[train_df.dtypes=='int64']\n",
    "int_cols"
   ]
  },
  {
   "cell_type": "code",
   "execution_count": 212,
   "metadata": {},
   "outputs": [],
   "source": [
    "# 对数据按照格式进行压缩重新存储\n",
    "def compressData(inputData):\n",
    "    '''\n",
    "    :parameters: inputData: pd.Dataframe\n",
    "    :return: inputData: pd.Dataframe\n",
    "    :Purpose: \n",
    "    压缩csv中的数据，通过改变扫描每列的dtype，转换成适合的大小\n",
    "    例如: int64, 检查最小值是否存在负数，是则声明signed，否则声明unsigned，并转换更小的int size\n",
    "    对于object类型，则会转换成category类型，占用内存率小\n",
    "    参考来自：https://www.jiqizhixin.com/articles/2018-03-07-3\n",
    "    '''\n",
    "    for eachType in set(inputData.dtypes.values):\n",
    "        ##检查属于什么类型\n",
    "        if 'int' in str(eachType):\n",
    "            ## 对每列进行转换\n",
    "            for i in inputData.select_dtypes(eachType).columns.values:\n",
    "                if inputData[i].min() < 0:\n",
    "                    inputData[i] = pd.to_numeric(inputData[i],downcast='signed')\n",
    "                else:\n",
    "                    inputData[i] = pd.to_numeric(inputData[i],downcast='unsigned')      \n",
    "        elif 'float' in str(eachType):\n",
    "            for i in inputData.select_dtypes(eachType).columns.values:   \n",
    "                inputData[i] = pd.to_numeric(inputData[i],downcast='float')\n",
    "        elif 'object' in str(eachType):\n",
    "            for i in inputData.select_dtypes(eachType).columns.values: \n",
    "                inputData[i] = inputData[i].astype('category')\n",
    "    return inputData"
   ]
  },
  {
   "cell_type": "code",
   "execution_count": 213,
   "metadata": {},
   "outputs": [
    {
     "name": "stdout",
     "output_type": "stream",
     "text": [
      "<class 'pandas.core.frame.DataFrame'>\n",
      "Int64Index: 2000000 entries, 0 to 1999999\n",
      "Columns: 102 entries, prefix to tag_ctr_log_rela\n",
      "dtypes: category(4), float32(82), uint16(4), uint32(8), uint8(4)\n",
      "memory usage: 773.9 MB\n",
      "After compressed:\n",
      " None\n",
      "<class 'pandas.core.frame.DataFrame'>\n",
      "Int64Index: 50000 entries, 0 to 49999\n",
      "Columns: 102 entries, prefix to tag_ctr_log_rela\n",
      "dtypes: category(4), float32(86), uint32(8), uint8(4)\n",
      "memory usage: 21.9 MB\n",
      "After compressed:\n",
      " None\n",
      "<class 'pandas.core.frame.DataFrame'>\n",
      "Int64Index: 50000 entries, 0 to 49999\n",
      "Columns: 102 entries, prefix to tag_ctr_log_rela\n",
      "dtypes: category(4), float32(86), int8(1), uint32(8), uint8(3)\n",
      "memory usage: 21.9 MB\n",
      "After compressed:\n",
      " None\n"
     ]
    }
   ],
   "source": [
    "# userInfo = pd.read_csv('d:/JulyCompetition/input/user_log_format1.csv')\n",
    "# print('Before compressed:\\n',userInfo.info())\n",
    "train_df = compressData(train_df)\n",
    "print('After compressed:\\n',train_df.info())\n",
    "valid_df = compressData(valid_df)\n",
    "print('After compressed:\\n',valid_df.info())\n",
    "test_data = compressData(test_data)\n",
    "print('After compressed:\\n',test_data.info())"
   ]
  },
  {
   "cell_type": "code",
   "execution_count": 217,
   "metadata": {
    "collapsed": true
   },
   "outputs": [
    {
     "ename": "ValueError",
     "evalue": "fill value must be in categories",
     "output_type": "error",
     "traceback": [
      "\u001b[1;31m---------------------------------------------------------------------------\u001b[0m",
      "\u001b[1;31mValueError\u001b[0m                                Traceback (most recent call last)",
      "\u001b[1;32m<ipython-input-217-146ac05306c4>\u001b[0m in \u001b[0;36m<module>\u001b[1;34m()\u001b[0m\n\u001b[0;32m      1\u001b[0m \u001b[1;31m# 对于valid和test数据集中新出现的数值型特征，所有的缺失值用均值代替\u001b[0m\u001b[1;33m\u001b[0m\u001b[1;33m\u001b[0m\u001b[0m\n\u001b[0;32m      2\u001b[0m \u001b[1;32mfor\u001b[0m \u001b[0mcol\u001b[0m \u001b[1;32min\u001b[0m \u001b[0mvalid_df\u001b[0m\u001b[1;33m.\u001b[0m\u001b[0mcolumns\u001b[0m\u001b[1;33m[\u001b[0m\u001b[0mtrain_df\u001b[0m\u001b[1;33m.\u001b[0m\u001b[0mdtypes\u001b[0m \u001b[1;33m!=\u001b[0m \u001b[1;34m'category'\u001b[0m\u001b[1;33m]\u001b[0m\u001b[1;33m:\u001b[0m\u001b[1;33m\u001b[0m\u001b[0m\n\u001b[1;32m----> 3\u001b[1;33m     \u001b[0mvalid_df\u001b[0m\u001b[1;33m.\u001b[0m\u001b[0mfillna\u001b[0m\u001b[1;33m(\u001b[0m\u001b[0mvalid_df\u001b[0m\u001b[1;33m[\u001b[0m\u001b[0mcol\u001b[0m\u001b[1;33m]\u001b[0m\u001b[1;33m.\u001b[0m\u001b[0mmean\u001b[0m\u001b[1;33m(\u001b[0m\u001b[1;33m)\u001b[0m\u001b[1;33m)\u001b[0m\u001b[1;33m\u001b[0m\u001b[0m\n\u001b[0m\u001b[0;32m      4\u001b[0m \u001b[1;32mfor\u001b[0m \u001b[0mcol\u001b[0m \u001b[1;32min\u001b[0m \u001b[0mtest_data\u001b[0m\u001b[1;33m.\u001b[0m\u001b[0mcolumns\u001b[0m\u001b[1;33m[\u001b[0m\u001b[0mtest_data\u001b[0m\u001b[1;33m.\u001b[0m\u001b[0mdtypes\u001b[0m \u001b[1;33m!=\u001b[0m \u001b[1;34m'category'\u001b[0m\u001b[1;33m]\u001b[0m\u001b[1;33m:\u001b[0m\u001b[1;33m\u001b[0m\u001b[0m\n\u001b[0;32m      5\u001b[0m     \u001b[0mtest_data\u001b[0m\u001b[1;33m.\u001b[0m\u001b[0mfillna\u001b[0m\u001b[1;33m(\u001b[0m\u001b[0mtest_data\u001b[0m\u001b[1;33m[\u001b[0m\u001b[0mcol\u001b[0m\u001b[1;33m]\u001b[0m\u001b[1;33m.\u001b[0m\u001b[0mmean\u001b[0m\u001b[1;33m(\u001b[0m\u001b[1;33m)\u001b[0m\u001b[1;33m)\u001b[0m\u001b[1;33m\u001b[0m\u001b[0m\n",
      "\u001b[1;32m~\\AppData\\Roaming\\Python\\Python36\\site-packages\\pandas\\core\\frame.py\u001b[0m in \u001b[0;36mfillna\u001b[1;34m(self, value, method, axis, inplace, limit, downcast, **kwargs)\u001b[0m\n\u001b[0;32m   3033\u001b[0m                      \u001b[0mself\u001b[0m\u001b[1;33m)\u001b[0m\u001b[1;33m.\u001b[0m\u001b[0mfillna\u001b[0m\u001b[1;33m(\u001b[0m\u001b[0mvalue\u001b[0m\u001b[1;33m=\u001b[0m\u001b[0mvalue\u001b[0m\u001b[1;33m,\u001b[0m \u001b[0mmethod\u001b[0m\u001b[1;33m=\u001b[0m\u001b[0mmethod\u001b[0m\u001b[1;33m,\u001b[0m \u001b[0maxis\u001b[0m\u001b[1;33m=\u001b[0m\u001b[0maxis\u001b[0m\u001b[1;33m,\u001b[0m\u001b[1;33m\u001b[0m\u001b[0m\n\u001b[0;32m   3034\u001b[0m                                   \u001b[0minplace\u001b[0m\u001b[1;33m=\u001b[0m\u001b[0minplace\u001b[0m\u001b[1;33m,\u001b[0m \u001b[0mlimit\u001b[0m\u001b[1;33m=\u001b[0m\u001b[0mlimit\u001b[0m\u001b[1;33m,\u001b[0m\u001b[1;33m\u001b[0m\u001b[0m\n\u001b[1;32m-> 3035\u001b[1;33m                                   downcast=downcast, **kwargs)\n\u001b[0m\u001b[0;32m   3036\u001b[0m \u001b[1;33m\u001b[0m\u001b[0m\n\u001b[0;32m   3037\u001b[0m     \u001b[1;33m@\u001b[0m\u001b[0mAppender\u001b[0m\u001b[1;33m(\u001b[0m\u001b[0m_shared_docs\u001b[0m\u001b[1;33m[\u001b[0m\u001b[1;34m'shift'\u001b[0m\u001b[1;33m]\u001b[0m \u001b[1;33m%\u001b[0m \u001b[0m_shared_doc_kwargs\u001b[0m\u001b[1;33m)\u001b[0m\u001b[1;33m\u001b[0m\u001b[0m\n",
      "\u001b[1;32m~\\AppData\\Roaming\\Python\\Python36\\site-packages\\pandas\\core\\generic.py\u001b[0m in \u001b[0;36mfillna\u001b[1;34m(self, value, method, axis, inplace, limit, downcast)\u001b[0m\n\u001b[0;32m   4346\u001b[0m                 new_data = self._data.fillna(value=value, limit=limit,\n\u001b[0;32m   4347\u001b[0m                                              \u001b[0minplace\u001b[0m\u001b[1;33m=\u001b[0m\u001b[0minplace\u001b[0m\u001b[1;33m,\u001b[0m\u001b[1;33m\u001b[0m\u001b[0m\n\u001b[1;32m-> 4348\u001b[1;33m                                              downcast=downcast)\n\u001b[0m\u001b[0;32m   4349\u001b[0m             \u001b[1;32melif\u001b[0m \u001b[0misinstance\u001b[0m\u001b[1;33m(\u001b[0m\u001b[0mvalue\u001b[0m\u001b[1;33m,\u001b[0m \u001b[0mDataFrame\u001b[0m\u001b[1;33m)\u001b[0m \u001b[1;32mand\u001b[0m \u001b[0mself\u001b[0m\u001b[1;33m.\u001b[0m\u001b[0mndim\u001b[0m \u001b[1;33m==\u001b[0m \u001b[1;36m2\u001b[0m\u001b[1;33m:\u001b[0m\u001b[1;33m\u001b[0m\u001b[0m\n\u001b[0;32m   4350\u001b[0m                 \u001b[0mnew_data\u001b[0m \u001b[1;33m=\u001b[0m \u001b[0mself\u001b[0m\u001b[1;33m.\u001b[0m\u001b[0mwhere\u001b[0m\u001b[1;33m(\u001b[0m\u001b[0mself\u001b[0m\u001b[1;33m.\u001b[0m\u001b[0mnotna\u001b[0m\u001b[1;33m(\u001b[0m\u001b[1;33m)\u001b[0m\u001b[1;33m,\u001b[0m \u001b[0mvalue\u001b[0m\u001b[1;33m)\u001b[0m\u001b[1;33m\u001b[0m\u001b[0m\n",
      "\u001b[1;32m~\\AppData\\Roaming\\Python\\Python36\\site-packages\\pandas\\core\\internals.py\u001b[0m in \u001b[0;36mfillna\u001b[1;34m(self, **kwargs)\u001b[0m\n\u001b[0;32m   3454\u001b[0m \u001b[1;33m\u001b[0m\u001b[0m\n\u001b[0;32m   3455\u001b[0m     \u001b[1;32mdef\u001b[0m \u001b[0mfillna\u001b[0m\u001b[1;33m(\u001b[0m\u001b[0mself\u001b[0m\u001b[1;33m,\u001b[0m \u001b[1;33m**\u001b[0m\u001b[0mkwargs\u001b[0m\u001b[1;33m)\u001b[0m\u001b[1;33m:\u001b[0m\u001b[1;33m\u001b[0m\u001b[0m\n\u001b[1;32m-> 3456\u001b[1;33m         \u001b[1;32mreturn\u001b[0m \u001b[0mself\u001b[0m\u001b[1;33m.\u001b[0m\u001b[0mapply\u001b[0m\u001b[1;33m(\u001b[0m\u001b[1;34m'fillna'\u001b[0m\u001b[1;33m,\u001b[0m \u001b[1;33m**\u001b[0m\u001b[0mkwargs\u001b[0m\u001b[1;33m)\u001b[0m\u001b[1;33m\u001b[0m\u001b[0m\n\u001b[0m\u001b[0;32m   3457\u001b[0m \u001b[1;33m\u001b[0m\u001b[0m\n\u001b[0;32m   3458\u001b[0m     \u001b[1;32mdef\u001b[0m \u001b[0mdowncast\u001b[0m\u001b[1;33m(\u001b[0m\u001b[0mself\u001b[0m\u001b[1;33m,\u001b[0m \u001b[1;33m**\u001b[0m\u001b[0mkwargs\u001b[0m\u001b[1;33m)\u001b[0m\u001b[1;33m:\u001b[0m\u001b[1;33m\u001b[0m\u001b[0m\n",
      "\u001b[1;32m~\\AppData\\Roaming\\Python\\Python36\\site-packages\\pandas\\core\\internals.py\u001b[0m in \u001b[0;36mapply\u001b[1;34m(self, f, axes, filter, do_integrity_check, consolidate, **kwargs)\u001b[0m\n\u001b[0;32m   3327\u001b[0m \u001b[1;33m\u001b[0m\u001b[0m\n\u001b[0;32m   3328\u001b[0m             \u001b[0mkwargs\u001b[0m\u001b[1;33m[\u001b[0m\u001b[1;34m'mgr'\u001b[0m\u001b[1;33m]\u001b[0m \u001b[1;33m=\u001b[0m \u001b[0mself\u001b[0m\u001b[1;33m\u001b[0m\u001b[0m\n\u001b[1;32m-> 3329\u001b[1;33m             \u001b[0mapplied\u001b[0m \u001b[1;33m=\u001b[0m \u001b[0mgetattr\u001b[0m\u001b[1;33m(\u001b[0m\u001b[0mb\u001b[0m\u001b[1;33m,\u001b[0m \u001b[0mf\u001b[0m\u001b[1;33m)\u001b[0m\u001b[1;33m(\u001b[0m\u001b[1;33m**\u001b[0m\u001b[0mkwargs\u001b[0m\u001b[1;33m)\u001b[0m\u001b[1;33m\u001b[0m\u001b[0m\n\u001b[0m\u001b[0;32m   3330\u001b[0m             \u001b[0mresult_blocks\u001b[0m \u001b[1;33m=\u001b[0m \u001b[0m_extend_blocks\u001b[0m\u001b[1;33m(\u001b[0m\u001b[0mapplied\u001b[0m\u001b[1;33m,\u001b[0m \u001b[0mresult_blocks\u001b[0m\u001b[1;33m)\u001b[0m\u001b[1;33m\u001b[0m\u001b[0m\n\u001b[0;32m   3331\u001b[0m \u001b[1;33m\u001b[0m\u001b[0m\n",
      "\u001b[1;32m~\\AppData\\Roaming\\Python\\Python36\\site-packages\\pandas\\core\\internals.py\u001b[0m in \u001b[0;36mfillna\u001b[1;34m(self, value, limit, inplace, downcast, mgr)\u001b[0m\n\u001b[0;32m   2379\u001b[0m         \u001b[0mvalues\u001b[0m \u001b[1;33m=\u001b[0m \u001b[0mself\u001b[0m\u001b[1;33m.\u001b[0m\u001b[0mvalues\u001b[0m \u001b[1;32mif\u001b[0m \u001b[0minplace\u001b[0m \u001b[1;32melse\u001b[0m \u001b[0mself\u001b[0m\u001b[1;33m.\u001b[0m\u001b[0mvalues\u001b[0m\u001b[1;33m.\u001b[0m\u001b[0mcopy\u001b[0m\u001b[1;33m(\u001b[0m\u001b[1;33m)\u001b[0m\u001b[1;33m\u001b[0m\u001b[0m\n\u001b[0;32m   2380\u001b[0m         values = self._try_coerce_result(values.fillna(value=value,\n\u001b[1;32m-> 2381\u001b[1;33m                                                        limit=limit))\n\u001b[0m\u001b[0;32m   2382\u001b[0m         \u001b[1;32mreturn\u001b[0m \u001b[1;33m[\u001b[0m\u001b[0mself\u001b[0m\u001b[1;33m.\u001b[0m\u001b[0mmake_block\u001b[0m\u001b[1;33m(\u001b[0m\u001b[0mvalues\u001b[0m\u001b[1;33m=\u001b[0m\u001b[0mvalues\u001b[0m\u001b[1;33m)\u001b[0m\u001b[1;33m]\u001b[0m\u001b[1;33m\u001b[0m\u001b[0m\n\u001b[0;32m   2383\u001b[0m \u001b[1;33m\u001b[0m\u001b[0m\n",
      "\u001b[1;32m~\\AppData\\Roaming\\Python\\Python36\\site-packages\\pandas\\util\\_decorators.py\u001b[0m in \u001b[0;36mwrapper\u001b[1;34m(*args, **kwargs)\u001b[0m\n\u001b[0;32m    116\u001b[0m                 \u001b[1;32melse\u001b[0m\u001b[1;33m:\u001b[0m\u001b[1;33m\u001b[0m\u001b[0m\n\u001b[0;32m    117\u001b[0m                     \u001b[0mkwargs\u001b[0m\u001b[1;33m[\u001b[0m\u001b[0mnew_arg_name\u001b[0m\u001b[1;33m]\u001b[0m \u001b[1;33m=\u001b[0m \u001b[0mnew_arg_value\u001b[0m\u001b[1;33m\u001b[0m\u001b[0m\n\u001b[1;32m--> 118\u001b[1;33m             \u001b[1;32mreturn\u001b[0m \u001b[0mfunc\u001b[0m\u001b[1;33m(\u001b[0m\u001b[1;33m*\u001b[0m\u001b[0margs\u001b[0m\u001b[1;33m,\u001b[0m \u001b[1;33m**\u001b[0m\u001b[0mkwargs\u001b[0m\u001b[1;33m)\u001b[0m\u001b[1;33m\u001b[0m\u001b[0m\n\u001b[0m\u001b[0;32m    119\u001b[0m         \u001b[1;32mreturn\u001b[0m \u001b[0mwrapper\u001b[0m\u001b[1;33m\u001b[0m\u001b[0m\n\u001b[0;32m    120\u001b[0m     \u001b[1;32mreturn\u001b[0m \u001b[0m_deprecate_kwarg\u001b[0m\u001b[1;33m\u001b[0m\u001b[0m\n",
      "\u001b[1;32m~\\AppData\\Roaming\\Python\\Python36\\site-packages\\pandas\\core\\categorical.py\u001b[0m in \u001b[0;36mfillna\u001b[1;34m(self, value, method, limit)\u001b[0m\n\u001b[0;32m   1680\u001b[0m \u001b[1;33m\u001b[0m\u001b[0m\n\u001b[0;32m   1681\u001b[0m             \u001b[1;32mif\u001b[0m \u001b[1;32mnot\u001b[0m \u001b[0misna\u001b[0m\u001b[1;33m(\u001b[0m\u001b[0mvalue\u001b[0m\u001b[1;33m)\u001b[0m \u001b[1;32mand\u001b[0m \u001b[0mvalue\u001b[0m \u001b[1;32mnot\u001b[0m \u001b[1;32min\u001b[0m \u001b[0mself\u001b[0m\u001b[1;33m.\u001b[0m\u001b[0mcategories\u001b[0m\u001b[1;33m:\u001b[0m\u001b[1;33m\u001b[0m\u001b[0m\n\u001b[1;32m-> 1682\u001b[1;33m                 \u001b[1;32mraise\u001b[0m \u001b[0mValueError\u001b[0m\u001b[1;33m(\u001b[0m\u001b[1;34m\"fill value must be in categories\"\u001b[0m\u001b[1;33m)\u001b[0m\u001b[1;33m\u001b[0m\u001b[0m\n\u001b[0m\u001b[0;32m   1683\u001b[0m \u001b[1;33m\u001b[0m\u001b[0m\n\u001b[0;32m   1684\u001b[0m             \u001b[0mmask\u001b[0m \u001b[1;33m=\u001b[0m \u001b[0mvalues\u001b[0m \u001b[1;33m==\u001b[0m \u001b[1;33m-\u001b[0m\u001b[1;36m1\u001b[0m\u001b[1;33m\u001b[0m\u001b[0m\n",
      "\u001b[1;31mValueError\u001b[0m: fill value must be in categories"
     ]
    }
   ],
   "source": [
    "# 对于valid和test数据集中新出现的数值型特征，所有的缺失值用均值代替\n",
    "for col in valid_df.columns[train_df.dtypes != 'category']:\n",
    "    valid_df.fillna(valid_df[col].mean())\n",
    "for col in test_data.columns[test_data.dtypes != 'category']:\n",
    "    test_data.fillna(test_data[col].mean())"
   ]
  },
  {
   "cell_type": "code",
   "execution_count": null,
   "metadata": {},
   "outputs": [],
   "source": [
    "# 对数值型特征手动标准化\n",
    "numeric_cols = totalActions.columns[totalActions.dtypes == 'float64']\n",
    "numeric_cols\n",
    "numeric_col_means = totalActions.loc[:, numeric_cols].mean()\n",
    "numeric_col_std = totalActions.loc[:, numeric_cols].std()\n",
    "totalActions.loc[:, numeric_cols] = (totalActions.loc[:, numeric_cols] - numeric_col_means) / numeric_col_std"
   ]
  },
  {
   "cell_type": "code",
   "execution_count": 221,
   "metadata": {},
   "outputs": [],
   "source": [
    "# dump feature\n",
    "train_df.to_csv('d:/oppo/input/train_data_feature20181013.csv',sep='\\t',index=False)\n",
    "valid_df.to_csv('d:/oppo/input/valid_data_feature20181013.csv',sep='\\t',index=False)\n",
    "test_data.to_csv('d:/oppo/input/test_data_feature20181013.csv',sep='\\t',index=False)\n",
    "# pickle.dump(train_data,open('d:/oppo/input/train_data_feature','wb'))\n",
    "# pickle.dump(test_data,open('d:/oppo/input/test_data_feature','wb'))"
   ]
  },
  {
   "cell_type": "code",
   "execution_count": 250,
   "metadata": {},
   "outputs": [
    {
     "ename": "NameError",
     "evalue": "name 'pe' is not defined",
     "output_type": "error",
     "traceback": [
      "\u001b[1;31m---------------------------------------------------------------------------\u001b[0m",
      "\u001b[1;31mNameError\u001b[0m                                 Traceback (most recent call last)",
      "\u001b[1;32m<ipython-input-250-d6d241f33c66>\u001b[0m in \u001b[0;36m<module>\u001b[1;34m()\u001b[0m\n\u001b[0;32m      3\u001b[0m \u001b[1;31m# test_data = pickle.load(open('d:/oppo/input/test_data_feature','rb'))\u001b[0m\u001b[1;33m\u001b[0m\u001b[1;33m\u001b[0m\u001b[0m\n\u001b[0;32m      4\u001b[0m \u001b[0mtrain_df\u001b[0m \u001b[1;33m=\u001b[0m \u001b[0mpd\u001b[0m\u001b[1;33m.\u001b[0m\u001b[0mread_csv\u001b[0m\u001b[1;33m(\u001b[0m\u001b[1;34m'd:/oppo/input/train_data_feature20181013.csv'\u001b[0m\u001b[1;33m,\u001b[0m \u001b[0msep\u001b[0m\u001b[1;33m=\u001b[0m\u001b[1;34m'\\t'\u001b[0m\u001b[1;33m)\u001b[0m\u001b[1;33m\u001b[0m\u001b[0m\n\u001b[1;32m----> 5\u001b[1;33m \u001b[0mvalid_df\u001b[0m \u001b[1;33m=\u001b[0m \u001b[0mpe\u001b[0m\u001b[1;33m.\u001b[0m\u001b[0mread_csv\u001b[0m\u001b[1;33m(\u001b[0m\u001b[1;34m'd:/oppo/input/valid_data_feature20181013.csv'\u001b[0m\u001b[1;33m,\u001b[0m\u001b[0msep\u001b[0m\u001b[1;33m=\u001b[0m\u001b[1;34m'\\t'\u001b[0m\u001b[1;33m)\u001b[0m\u001b[1;33m\u001b[0m\u001b[0m\n\u001b[0m\u001b[0;32m      6\u001b[0m \u001b[0mtest_data\u001b[0m \u001b[1;33m=\u001b[0m \u001b[0mpd\u001b[0m\u001b[1;33m.\u001b[0m\u001b[0mread_csv\u001b[0m\u001b[1;33m(\u001b[0m\u001b[1;34m'd:/oppo/input/test_data_feature20181013.csv'\u001b[0m\u001b[1;33m,\u001b[0m \u001b[0msep\u001b[0m\u001b[1;33m=\u001b[0m\u001b[1;34m'\\t'\u001b[0m\u001b[1;33m)\u001b[0m\u001b[1;33m\u001b[0m\u001b[0m\n",
      "\u001b[1;31mNameError\u001b[0m: name 'pe' is not defined"
     ]
    }
   ],
   "source": [
    "# load feature\n",
    "# train_data = pickle.load(open('d:/oppo/input/train_data_feature','rb'))\n",
    "# test_data = pickle.load(open('d:/oppo/input/test_data_feature','rb'))\n",
    "train_df = pd.read_csv('d:/oppo/input/train_data_feature20181013.csv', sep='\\t')\n",
    "valid_df = pe.read_csv('d:/oppo/input/valid_data_feature20181013.csv',sep='\\t')\n",
    "test_data = pd.read_csv('d:/oppo/input/test_data_feature20181013.csv', sep='\\t')"
   ]
  },
  {
   "cell_type": "code",
   "execution_count": 249,
   "metadata": {
    "collapsed": true
   },
   "outputs": [
    {
     "data": {
      "text/plain": [
       "   Unnamed: 0 prefix                                   query_prediction title  \\\n",
       "0           0     小品  {\"小品大全宋小宝\": \"0.009\", \"小品相亲\": \"0.012\", \"小品剧本\": ...    小品   \n",
       "\n",
       "  tag  label  prefix_click  prefix_count  prefix_click_log  prefix_count_log  \\\n",
       "0  阅读      0            58           150          4.077538           5.01728   \n",
       "\n",
       "   prefix_click_log2  prefix_count_log2  prefix_click_diff  prefix_count_diff  \\\n",
       "0           1.624826           1.794635           53.26241          137.26788   \n",
       "\n",
       "   prefix_click_ratio  prefix_count_ratio  prefix_click_ratio_log  \\\n",
       "0            0.000078            0.000075               -9.442522   \n",
       "\n",
       "   prefix_count_ratio_log  prefix_ctr_abs  prefix_ctr_smooth  prefix_ctr_diff  \\\n",
       "0               -9.491379        0.386667           0.385527        -0.013361   \n",
       "\n",
       "   prefix_ctr_rela  prefix_ctr_log_abs  prefix_ctr_log_smooth  \\\n",
       "0          -0.0334            0.812699               0.762677   \n",
       "\n",
       "   prefix_ctr_log_diff  prefix_ctr_log_rela  prefix_len  prefixlen_click  \\\n",
       "0             0.280413              0.52681           2           314675   \n",
       "\n",
       "   prefixlen_count  prefixlen_click_log  prefixlen_count_log  \\\n",
       "0           857335            12.659299            13.661585   \n",
       "\n",
       "   prefixlen_click_diff  prefixlen_count_diff  prefixlen_click_ratio  \\\n",
       "0             221650.62              607335.0               0.422839   \n",
       "\n",
       "   prefixlen_count_ratio  prefixlen_ctr_abs  prefixlen_ctr_smooth  \\\n",
       "0               0.428668           0.367039              0.368181   \n",
       "\n",
       "   prefixlen_ctr_diff  prefixlen_ctr_rela  pred_len  predlen_click  \\\n",
       "0           -0.017875            -0.04644        10         543177   \n",
       "\n",
       "   predlen_count  predlen_click_log  predlen_count_log  predlen_click_diff  \\\n",
       "0        1472234          13.205193          14.202292            468757.5   \n",
       "\n",
       "   predlen_count_diff  predlen_click_ratio  predlen_count_ratio  \\\n",
       "0           1272234.0             0.729885             0.736117   \n",
       "\n",
       "   predlen_ctr_abs  predlen_ctr_smooth  predlen_ctr_diff  predlen_ctr_rela  \\\n",
       "0         0.368947            0.369324         -0.026735         -0.067568   \n",
       "\n",
       "   title_click  title_count  title_click_log  title_count_log  \\\n",
       "0           36           94         3.610918         4.553877   \n",
       "\n",
       "   title_click_log2  title_count_log2  title_click_diff  title_count_diff  \\\n",
       "0          1.528427          1.714496          33.03704          86.03714   \n",
       "\n",
       "   title_click_ratio  title_count_ratio  title_click_ratio_log_x  \\\n",
       "0           0.000048           0.000047                -9.909142   \n",
       "\n",
       "   title_count_ratio_log_x  title_ctr_abs  title_ctr_smooth  title_ctr_diff  \\\n",
       "0                -9.954782       0.382979          0.382129         0.00743   \n",
       "\n",
       "   title_ctr_rela  title_ctr_log_abs  title_ctr_log_smooth  \\\n",
       "0        0.019784          -0.942959              0.739282   \n",
       "\n",
       "   title_ctr_log_diff  title_ctr_log_rela  title_len  titlelen_click  \\\n",
       "0           -0.282663            0.428086          2           69363   \n",
       "\n",
       "   titlelen_count  titlelen_click_log  titlelen_count_log  \\\n",
       "0          174275           11.147123           12.068396   \n",
       "\n",
       "   titlelen_click_diff  titlelen_count_diff  titlelen_click_ratio  \\\n",
       "0            28018.834             63163.89              0.093205   \n",
       "\n",
       "   titlelen_count_ratio  titlelen_ctr_abs  titlelen_ctr_smooth  \\\n",
       "0              0.087138          0.398009             0.387921   \n",
       "\n",
       "   titlelen_ctr_diff  titlelen_ctr_rela  tag_click  tag_count  tag_click_log  \\\n",
       "0           0.062188           0.185184      20634      78409       9.934744   \n",
       "\n",
       "   tag_count_log  tag_click_diff  tag_count_diff  tag_click_ratio  \\\n",
       "0      11.269707      -13193.046      -12500.091         0.027727   \n",
       "\n",
       "   tag_count_ratio  title_click_ratio_log_y  title_count_ratio_log_y  \\\n",
       "0         0.039205                 0.027349                 0.038456   \n",
       "\n",
       "   tag_ctr_abs  tag_ctr_smooth  tag_ctr_diff  tag_ctr_rela  tag_ctr_log_abs  \\\n",
       "0     0.263159        0.327027     -0.052353     -0.165931        -1.334963   \n",
       "\n",
       "   tag_ctr_log_smooth  tag_ctr_log_diff  tag_ctr_log_rela  \n",
       "0            0.898482         -0.101352          0.082159  "
      ]
     },
     "execution_count": 249,
     "metadata": {},
     "output_type": "execute_result"
    }
   ],
   "source": [
    "train_df.head(1)"
   ]
  },
  {
   "cell_type": "code",
   "execution_count": null,
   "metadata": {},
   "outputs": [],
   "source": [
    "train_df_ = train_df.drop(['prefix','query_prediction', 'title', 'tag'], axis = 1)\n",
    "valid_df_ = valid_df.drop(['prefix','query_prediction', 'title', 'tag'], axis = 1)\n",
    "test_data_ = test_data.drop(['prefix','query_prediction', 'title', 'tag'], axis = 1)"
   ]
  },
  {
   "cell_type": "code",
   "execution_count": 241,
   "metadata": {},
   "outputs": [
    {
     "name": "stdout",
     "output_type": "stream",
     "text": [
      "train beginning\n",
      "================================\n",
      "(2000000, 97)\n",
      "(2000000,)\n",
      "================================\n",
      "Training until validation scores don't improve for 50 rounds.\n",
      "[50]\tvalid_0's binary_logloss: 0.570184\n",
      "[100]\tvalid_0's binary_logloss: 0.524021\n",
      "[150]\tvalid_0's binary_logloss: 0.510289\n",
      "[200]\tvalid_0's binary_logloss: 0.514978\n",
      "Early stopping, best iteration is:\n",
      "[153]\tvalid_0's binary_logloss: 0.510018\n"
     ]
    }
   ],
   "source": [
    "print('train beginning')\n",
    "\n",
    "X = train_df_.drop(['label'], axis = 1)\n",
    "y = train_df_['label']\n",
    "X_valid = valid_df_.drop(['label'], axis = 1)\n",
    "y_valid = valid_df_['label']\n",
    "X_test = test_data_.drop(['label'], axis = 1)\n",
    "\n",
    "print('================================')\n",
    "print(X.shape)\n",
    "print(y.shape)\n",
    "print('================================')\n",
    "\n",
    "\n",
    "# xx_logloss = []\n",
    "# xx_submit = []\n",
    "# N = 5\n",
    "# skf = StratifiedKFold(n_splits=N, random_state=2018, shuffle=True)\n",
    "\n",
    "params = {\n",
    "    'boosting_type': 'gbdt',\n",
    "    'objective': 'binary',\n",
    "    'metric': 'binary_logloss',\n",
    "    'num_leaves': 32,\n",
    "    'learning_rate': 0.01,\n",
    "    'feature_fraction': 0.8,\n",
    "    'bagging_fraction': 0.8,\n",
    "    'bagging_freq': 5,\n",
    "    'verbose': 1\n",
    "}\n",
    "\n",
    "lgb_train = lgb.Dataset(X, y)\n",
    "lgb_eval = lgb.Dataset(X_valid, y_valid, reference=lgb_train)\n",
    "\n",
    "gbm = lgb.train(params,\n",
    "                lgb_train,\n",
    "                num_boost_round=5000,\n",
    "                valid_sets=lgb_eval,\n",
    "                early_stopping_rounds=50,\n",
    "                verbose_eval=50,\n",
    "                )\n"
   ]
  },
  {
   "cell_type": "code",
   "execution_count": 242,
   "metadata": {},
   "outputs": [
    {
     "name": "stdout",
     "output_type": "stream",
     "text": [
      "f1-score on validation data: 0.7382430451422305\n"
     ]
    }
   ],
   "source": [
    "# f1-score on train data\n",
    "print('f1-score on validation data:',f1_score(y, np.where(gbm.predict(X, num_iteration=gbm.best_iteration)>0.5, 1,0)))"
   ]
  },
  {
   "cell_type": "code",
   "execution_count": 243,
   "metadata": {},
   "outputs": [
    {
     "name": "stdout",
     "output_type": "stream",
     "text": [
      "f1-score on validation data: 0.6374839851137819\n",
      "defaultdict(<class 'dict'>, {'valid_0': {'binary_logloss': 0.5100182041374886}})\n"
     ]
    },
    {
     "data": {
      "text/plain": [
       "<matplotlib.axes._subplots.AxesSubplot at 0x15e95351cf8>"
      ]
     },
     "execution_count": 243,
     "metadata": {},
     "output_type": "execute_result"
    },
    {
     "data": {
      "image/png": "[encoded data removed]",
      "text/plain": [
       "<Figure size 432x288 with 1 Axes>"
      ]
     },
     "metadata": {},
     "output_type": "display_data"
    }
   ],
   "source": [
    "# f1-score on validation data\n",
    "print('f1-score on validation data:',f1_score(y_valid, np.where(gbm.predict(X_valid, num_iteration=gbm.best_iteration)>0.5, 1,0)))\n",
    "print(gbm.best_score)\n"
   ]
  },
  {
   "cell_type": "code",
   "execution_count": 245,
   "metadata": {},
   "outputs": [
    {
     "data": {
      "text/plain": [
       "<Figure size 864x432 with 0 Axes>"
      ]
     },
     "metadata": {},
     "output_type": "display_data"
    },
    {
     "data": {
      "image/png": "[encoded data removed]",
      "text/plain": [
       "<Figure size 432x288 with 1 Axes>"
      ]
     },
     "metadata": {},
     "output_type": "display_data"
    }
   ],
   "source": [
    "plt.figure(figsize=(12,6))\n",
    "lgb.plot_importance(gbm, max_num_features=30)\n",
    "plt.title(\"Featurertances\")\n",
    "plt.show()"
   ]
  },
  {
   "cell_type": "code",
   "execution_count": 233,
   "metadata": {},
   "outputs": [
    {
     "data": {
      "text/plain": [
       "count    50000.000000\n",
       "mean         0.285960\n",
       "std          0.451875\n",
       "min          0.000000\n",
       "25%          0.000000\n",
       "50%          0.000000\n",
       "75%          1.000000\n",
       "max          1.000000\n",
       "Name: label, dtype: float64"
      ]
     },
     "execution_count": 233,
     "metadata": {},
     "output_type": "execute_result"
    }
   ],
   "source": [
    "# predict test data\n",
    "test_data['label'] = gbm.predict(X_test, num_iteration=gbm.best_iteration)\n",
    "test_data['label'] = test_data['label'].apply(lambda x: round(x))\n",
    "test_data['label'].describe()\n"
   ]
  },
  {
   "cell_type": "code",
   "execution_count": 235,
   "metadata": {},
   "outputs": [],
   "source": [
    "# save commit file\n",
    "test_data['label'].to_csv('d:/oppo/submit/result201810132220.csv',header=None,index = False)"
   ]
  },
  {
   "cell_type": "code",
   "execution_count": null,
   "metadata": {},
   "outputs": [],
   "source": []
  },
  {
   "cell_type": "code",
   "execution_count": 7,
   "metadata": {},
   "outputs": [],
   "source": [
    "def merge_data(train_data,valid_data,test_data):\n",
    "    print('merge train,valid,test data start')\n",
    "    train_data = train_data[['prefix','title', 'tag']].dropna().drop_duplicates()\n",
    "    valid_data = valid_data[['prefix','title', 'tag']].dropna().drop_duplicates()\n",
    "    test_data = test_data[['prefix','title', 'tag']].dropna().drop_duplicates()\n",
    "    all_data = pd.concat([train_data,valid_data,test_data]).drop_duplicates().reset_index()\n",
    "    print('all prefix:',all_data.prefix.nunique())\n",
    "    print('all title:',all_data.title.nunique())\n",
    "    print('all tag:',all_data.tag.nunique())\n",
    "    print('merge train,valid,test data end')\n",
    "    return all_data"
   ]
  },
  {
   "cell_type": "code",
   "execution_count": 8,
   "metadata": {},
   "outputs": [
    {
     "name": "stdout",
     "output_type": "stream",
     "text": [
      "merge train,valid,test data start\n",
      "all prefix: 166659\n",
      "all title: 259387\n",
      "all tag: 22\n",
      "merge train,valid,test data end\n"
     ]
    }
   ],
   "source": [
    "all_data = merge_data(train_df,valid_df,test_A_df)"
   ]
  },
  {
   "cell_type": "code",
   "execution_count": 13,
   "metadata": {
    "collapsed": true
   },
   "outputs": [
    {
     "data": {
      "text/html": [
       "<div>\n",
       "<style scoped>\n",
       "    .dataframe tbody tr th:only-of-type {\n",
       "        vertical-align: middle;\n",
       "    }\n",
       "\n",
       "    .dataframe tbody tr th {\n",
       "        vertical-align: top;\n",
       "    }\n",
       "\n",
       "    .dataframe thead th {\n",
       "        text-align: right;\n",
       "    }\n",
       "</style>\n",
       "<table border=\"1\" class=\"dataframe\">\n",
       "  <thead>\n",
       "    <tr style=\"text-align: right;\">\n",
       "      <th></th>\n",
       "      <th>prefix</th>\n",
       "      <th>title_cnt</th>\n",
       "      <th>tag_cnt</th>\n",
       "    </tr>\n",
       "  </thead>\n",
       "  <tbody>\n",
       "    <tr>\n",
       "      <th>0</th>\n",
       "      <td>#</td>\n",
       "      <td>3</td>\n",
       "      <td>2</td>\n",
       "    </tr>\n",
       "    <tr>\n",
       "      <th>1</th>\n",
       "      <td>%</td>\n",
       "      <td>4</td>\n",
       "      <td>1</td>\n",
       "    </tr>\n",
       "    <tr>\n",
       "      <th>2</th>\n",
       "      <td>&amp;</td>\n",
       "      <td>5</td>\n",
       "      <td>2</td>\n",
       "    </tr>\n",
       "    <tr>\n",
       "      <th>3</th>\n",
       "      <td>(女人</td>\n",
       "      <td>1</td>\n",
       "      <td>1</td>\n",
       "    </tr>\n",
       "    <tr>\n",
       "      <th>4</th>\n",
       "      <td>*p++</td>\n",
       "      <td>1</td>\n",
       "      <td>1</td>\n",
       "    </tr>\n",
       "    <tr>\n",
       "      <th>5</th>\n",
       "      <td>-</td>\n",
       "      <td>1</td>\n",
       "      <td>1</td>\n",
       "    </tr>\n",
       "    <tr>\n",
       "      <th>6</th>\n",
       "      <td>.</td>\n",
       "      <td>6</td>\n",
       "      <td>5</td>\n",
       "    </tr>\n",
       "    <tr>\n",
       "      <th>7</th>\n",
       "      <td>.</td>\n",
       "      <td>2</td>\n",
       "      <td>2</td>\n",
       "    </tr>\n",
       "    <tr>\n",
       "      <th>8</th>\n",
       "      <td>...</td>\n",
       "      <td>1</td>\n",
       "      <td>1</td>\n",
       "    </tr>\n",
       "    <tr>\n",
       "      <th>9</th>\n",
       "      <td>...b</td>\n",
       "      <td>2</td>\n",
       "      <td>2</td>\n",
       "    </tr>\n",
       "    <tr>\n",
       "      <th>10</th>\n",
       "      <td>.b</td>\n",
       "      <td>3</td>\n",
       "      <td>2</td>\n",
       "    </tr>\n",
       "    <tr>\n",
       "      <th>11</th>\n",
       "      <td>.cn</td>\n",
       "      <td>4</td>\n",
       "      <td>1</td>\n",
       "    </tr>\n",
       "    <tr>\n",
       "      <th>12</th>\n",
       "      <td>.cn</td>\n",
       "      <td>3</td>\n",
       "      <td>1</td>\n",
       "    </tr>\n",
       "    <tr>\n",
       "      <th>13</th>\n",
       "      <td>.com</td>\n",
       "      <td>2</td>\n",
       "      <td>1</td>\n",
       "    </tr>\n",
       "    <tr>\n",
       "      <th>14</th>\n",
       "      <td>.com</td>\n",
       "      <td>1</td>\n",
       "      <td>1</td>\n",
       "    </tr>\n",
       "    <tr>\n",
       "      <th>15</th>\n",
       "      <td>.comp</td>\n",
       "      <td>1</td>\n",
       "      <td>1</td>\n",
       "    </tr>\n",
       "    <tr>\n",
       "      <th>16</th>\n",
       "      <td>.e</td>\n",
       "      <td>1</td>\n",
       "      <td>1</td>\n",
       "    </tr>\n",
       "    <tr>\n",
       "      <th>17</th>\n",
       "      <td>.i</td>\n",
       "      <td>2</td>\n",
       "      <td>1</td>\n",
       "    </tr>\n",
       "    <tr>\n",
       "      <th>18</th>\n",
       "      <td>.m.</td>\n",
       "      <td>3</td>\n",
       "      <td>1</td>\n",
       "    </tr>\n",
       "    <tr>\n",
       "      <th>19</th>\n",
       "      <td>.mp3</td>\n",
       "      <td>2</td>\n",
       "      <td>2</td>\n",
       "    </tr>\n",
       "    <tr>\n",
       "      <th>20</th>\n",
       "      <td>.n</td>\n",
       "      <td>3</td>\n",
       "      <td>2</td>\n",
       "    </tr>\n",
       "    <tr>\n",
       "      <th>21</th>\n",
       "      <td>.net</td>\n",
       "      <td>4</td>\n",
       "      <td>4</td>\n",
       "    </tr>\n",
       "    <tr>\n",
       "      <th>22</th>\n",
       "      <td>.net框架</td>\n",
       "      <td>1</td>\n",
       "      <td>1</td>\n",
       "    </tr>\n",
       "    <tr>\n",
       "      <th>23</th>\n",
       "      <td>.o</td>\n",
       "      <td>1</td>\n",
       "      <td>1</td>\n",
       "    </tr>\n",
       "    <tr>\n",
       "      <th>24</th>\n",
       "      <td>.q</td>\n",
       "      <td>1</td>\n",
       "      <td>1</td>\n",
       "    </tr>\n",
       "    <tr>\n",
       "      <th>25</th>\n",
       "      <td>.u</td>\n",
       "      <td>3</td>\n",
       "      <td>2</td>\n",
       "    </tr>\n",
       "    <tr>\n",
       "      <th>26</th>\n",
       "      <td>.v</td>\n",
       "      <td>2</td>\n",
       "      <td>2</td>\n",
       "    </tr>\n",
       "    <tr>\n",
       "      <th>27</th>\n",
       "      <td>.一</td>\n",
       "      <td>2</td>\n",
       "      <td>1</td>\n",
       "    </tr>\n",
       "    <tr>\n",
       "      <th>28</th>\n",
       "      <td>.什么意思</td>\n",
       "      <td>1</td>\n",
       "      <td>1</td>\n",
       "    </tr>\n",
       "    <tr>\n",
       "      <th>29</th>\n",
       "      <td>.前</td>\n",
       "      <td>1</td>\n",
       "      <td>1</td>\n",
       "    </tr>\n",
       "    <tr>\n",
       "      <th>...</th>\n",
       "      <td>...</td>\n",
       "      <td>...</td>\n",
       "      <td>...</td>\n",
       "    </tr>\n",
       "    <tr>\n",
       "      <th>166629</th>\n",
       "      <td>龟头炎怎么</td>\n",
       "      <td>2</td>\n",
       "      <td>1</td>\n",
       "    </tr>\n",
       "    <tr>\n",
       "      <th>166630</th>\n",
       "      <td>龟头痒怎么</td>\n",
       "      <td>2</td>\n",
       "      <td>1</td>\n",
       "    </tr>\n",
       "    <tr>\n",
       "      <th>166631</th>\n",
       "      <td>龟头痒怎么回事</td>\n",
       "      <td>1</td>\n",
       "      <td>1</td>\n",
       "    </tr>\n",
       "    <tr>\n",
       "      <th>166632</th>\n",
       "      <td>龟头瘙痒</td>\n",
       "      <td>3</td>\n",
       "      <td>2</td>\n",
       "    </tr>\n",
       "    <tr>\n",
       "      <th>166633</th>\n",
       "      <td>龟头糜烂</td>\n",
       "      <td>2</td>\n",
       "      <td>2</td>\n",
       "    </tr>\n",
       "    <tr>\n",
       "      <th>166634</th>\n",
       "      <td>龟头红肿</td>\n",
       "      <td>2</td>\n",
       "      <td>2</td>\n",
       "    </tr>\n",
       "    <tr>\n",
       "      <th>166635</th>\n",
       "      <td>龟头脱皮</td>\n",
       "      <td>1</td>\n",
       "      <td>1</td>\n",
       "    </tr>\n",
       "    <tr>\n",
       "      <th>166636</th>\n",
       "      <td>龟头起</td>\n",
       "      <td>1</td>\n",
       "      <td>1</td>\n",
       "    </tr>\n",
       "    <tr>\n",
       "      <th>166637</th>\n",
       "      <td>龟头起痘痘</td>\n",
       "      <td>1</td>\n",
       "      <td>1</td>\n",
       "    </tr>\n",
       "    <tr>\n",
       "      <th>166638</th>\n",
       "      <td>龟头边缘发</td>\n",
       "      <td>1</td>\n",
       "      <td>1</td>\n",
       "    </tr>\n",
       "    <tr>\n",
       "      <th>166639</th>\n",
       "      <td>龟峰</td>\n",
       "      <td>3</td>\n",
       "      <td>2</td>\n",
       "    </tr>\n",
       "    <tr>\n",
       "      <th>166640</th>\n",
       "      <td>龟峰山</td>\n",
       "      <td>1</td>\n",
       "      <td>1</td>\n",
       "    </tr>\n",
       "    <tr>\n",
       "      <th>166641</th>\n",
       "      <td>龟息</td>\n",
       "      <td>1</td>\n",
       "      <td>1</td>\n",
       "    </tr>\n",
       "    <tr>\n",
       "      <th>166642</th>\n",
       "      <td>龟板</td>\n",
       "      <td>3</td>\n",
       "      <td>2</td>\n",
       "    </tr>\n",
       "    <tr>\n",
       "      <th>166643</th>\n",
       "      <td>龟灵</td>\n",
       "      <td>1</td>\n",
       "      <td>1</td>\n",
       "    </tr>\n",
       "    <tr>\n",
       "      <th>166644</th>\n",
       "      <td>龟甲</td>\n",
       "      <td>2</td>\n",
       "      <td>2</td>\n",
       "    </tr>\n",
       "    <tr>\n",
       "      <th>166645</th>\n",
       "      <td>龟甲养</td>\n",
       "      <td>1</td>\n",
       "      <td>1</td>\n",
       "    </tr>\n",
       "    <tr>\n",
       "      <th>166646</th>\n",
       "      <td>龟甲养阴</td>\n",
       "      <td>1</td>\n",
       "      <td>1</td>\n",
       "    </tr>\n",
       "    <tr>\n",
       "      <th>166647</th>\n",
       "      <td>龟背</td>\n",
       "      <td>3</td>\n",
       "      <td>2</td>\n",
       "    </tr>\n",
       "    <tr>\n",
       "      <th>166648</th>\n",
       "      <td>龟背竹</td>\n",
       "      <td>3</td>\n",
       "      <td>2</td>\n",
       "    </tr>\n",
       "    <tr>\n",
       "      <th>166649</th>\n",
       "      <td>龟苓</td>\n",
       "      <td>3</td>\n",
       "      <td>3</td>\n",
       "    </tr>\n",
       "    <tr>\n",
       "      <th>166650</th>\n",
       "      <td>龟苓膏</td>\n",
       "      <td>4</td>\n",
       "      <td>3</td>\n",
       "    </tr>\n",
       "    <tr>\n",
       "      <th>166651</th>\n",
       "      <td>龟苓膏的做</td>\n",
       "      <td>1</td>\n",
       "      <td>1</td>\n",
       "    </tr>\n",
       "    <tr>\n",
       "      <th>166652</th>\n",
       "      <td>龟趺</td>\n",
       "      <td>1</td>\n",
       "      <td>1</td>\n",
       "    </tr>\n",
       "    <tr>\n",
       "      <th>166653</th>\n",
       "      <td>龟鹿二仙膏</td>\n",
       "      <td>3</td>\n",
       "      <td>2</td>\n",
       "    </tr>\n",
       "    <tr>\n",
       "      <th>166654</th>\n",
       "      <td>龟龄集</td>\n",
       "      <td>1</td>\n",
       "      <td>1</td>\n",
       "    </tr>\n",
       "    <tr>\n",
       "      <th>166655</th>\n",
       "      <td>龟龙</td>\n",
       "      <td>1</td>\n",
       "      <td>2</td>\n",
       "    </tr>\n",
       "    <tr>\n",
       "      <th>166656</th>\n",
       "      <td>사랑해요</td>\n",
       "      <td>1</td>\n",
       "      <td>1</td>\n",
       "    </tr>\n",
       "    <tr>\n",
       "      <th>166657</th>\n",
       "      <td>안녕하세요</td>\n",
       "      <td>2</td>\n",
       "      <td>1</td>\n",
       "    </tr>\n",
       "    <tr>\n",
       "      <th>166658</th>\n",
       "      <td>청춘</td>\n",
       "      <td>2</td>\n",
       "      <td>1</td>\n",
       "    </tr>\n",
       "  </tbody>\n",
       "</table>\n",
       "<p>166659 rows × 3 columns</p>\n",
       "</div>"
      ],
      "text/plain": [
       "         prefix  title_cnt  tag_cnt\n",
       "0             #          3        2\n",
       "1             %          4        1\n",
       "2             &          5        2\n",
       "3           (女人          1        1\n",
       "4          *p++          1        1\n",
       "5            -           1        1\n",
       "6             .          6        5\n",
       "7            .           2        2\n",
       "8           ...          1        1\n",
       "9          ...b          2        2\n",
       "10           .b          3        2\n",
       "11          .cn          4        1\n",
       "12         .cn           3        1\n",
       "13         .com          2        1\n",
       "14        .com           1        1\n",
       "15        .comp          1        1\n",
       "16           .e          1        1\n",
       "17           .i          2        1\n",
       "18          .m.          3        1\n",
       "19         .mp3          2        2\n",
       "20           .n          3        2\n",
       "21         .net          4        4\n",
       "22       .net框架          1        1\n",
       "23           .o          1        1\n",
       "24           .q          1        1\n",
       "25           .u          3        2\n",
       "26           .v          2        2\n",
       "27           .一          2        1\n",
       "28        .什么意思          1        1\n",
       "29           .前          1        1\n",
       "...         ...        ...      ...\n",
       "166629    龟头炎怎么          2        1\n",
       "166630    龟头痒怎么          2        1\n",
       "166631  龟头痒怎么回事          1        1\n",
       "166632     龟头瘙痒          3        2\n",
       "166633     龟头糜烂          2        2\n",
       "166634     龟头红肿          2        2\n",
       "166635     龟头脱皮          1        1\n",
       "166636      龟头起          1        1\n",
       "166637    龟头起痘痘          1        1\n",
       "166638    龟头边缘发          1        1\n",
       "166639       龟峰          3        2\n",
       "166640      龟峰山          1        1\n",
       "166641       龟息          1        1\n",
       "166642       龟板          3        2\n",
       "166643       龟灵          1        1\n",
       "166644       龟甲          2        2\n",
       "166645      龟甲养          1        1\n",
       "166646     龟甲养阴          1        1\n",
       "166647       龟背          3        2\n",
       "166648      龟背竹          3        2\n",
       "166649       龟苓          3        3\n",
       "166650      龟苓膏          4        3\n",
       "166651    龟苓膏的做          1        1\n",
       "166652       龟趺          1        1\n",
       "166653    龟鹿二仙膏          3        2\n",
       "166654      龟龄集          1        1\n",
       "166655       龟龙          1        2\n",
       "166656     사랑해요          1        1\n",
       "166657    안녕하세요          2        1\n",
       "166658       청춘          2        1\n",
       "\n",
       "[166659 rows x 3 columns]"
      ]
     },
     "execution_count": 13,
     "metadata": {},
     "output_type": "execute_result"
    }
   ],
   "source": [
    "# prefix对应的title数量\n",
    "title_cnt = all_data.groupby(['prefix'])['title'].nunique()\n",
    "# prefix对应的tag数量\n",
    "tag_cnt = all_data.groupby(['prefix'])['tag'].nunique()\n",
    "\n",
    "typeCount_result = pd.concat([title_cnt,tag_cnt],axis=1)\n",
    "del title_cnt,tag_cnt\n",
    "typeCount_result.rename(columns={'title':'title_cnt','tag':'tag_cnt'},inplace=True)\n",
    "typeCount_result.reset_index(inplace=True)\n",
    "typeCount_result\n"
   ]
  },
  {
   "cell_type": "code",
   "execution_count": 15,
   "metadata": {},
   "outputs": [],
   "source": [
    "## 将统计好的数量进行拼接\n",
    "train_df = pd.merge(train_df,typeCount_result,how='left',on=['prefix'])\n",
    "valid_df = pd.merge(valid_df,typeCount_result,how='left',on=['prefix'])\n",
    "test_A_df = pd.merge(test_A_df,typeCount_result,how='left',on=['prefix'])\n",
    "del typeCount_result"
   ]
  },
  {
   "cell_type": "code",
   "execution_count": 16,
   "metadata": {},
   "outputs": [],
   "source": [
    "\n",
    "def label_encode(all_data,data):\n",
    "    print('feature engining start')\n",
    "    le = preprocessing.LabelEncoder()\n",
    "    for col in ['prefix','title','tag']:\n",
    "        le.fit(all_data[col])\n",
    "        data[col] = le.transform(data[col])\n",
    "    del data['query_prediction']\n",
    "    \n",
    "    print('feature engining end')\n",
    "    return data"
   ]
  },
  {
   "cell_type": "code",
   "execution_count": 17,
   "metadata": {},
   "outputs": [
    {
     "name": "stdout",
     "output_type": "stream",
     "text": [
      "feature engining start\n",
      "feature engining end\n",
      "feature engining start\n",
      "feature engining end\n",
      "feature engining start\n",
      "feature engining end\n"
     ]
    }
   ],
   "source": [
    "train = label_encode(all_data,train_df)\n",
    "valid = label_encode(all_data,valid_df)\n",
    "test = label_encode(all_data,test_A_df)"
   ]
  },
  {
   "cell_type": "code",
   "execution_count": 80,
   "metadata": {},
   "outputs": [],
   "source": [
    "for col in ['prefix','title','tag']:\n",
    "    data_train[col] = data_train[col].astype(str)\n",
    "    data_valid[col] = data_valid[col].astype(str)\n",
    "    data_test[col] = data_test[col].astype(int)"
   ]
  },
  {
   "cell_type": "code",
   "execution_count": 19,
   "metadata": {},
   "outputs": [],
   "source": []
  },
  {
   "cell_type": "code",
   "execution_count": 20,
   "metadata": {},
   "outputs": [],
   "source": [
    "# 构造训练集\n",
    "x_train = train.loc[:,train.columns != 'label']\n",
    "y_train = train.loc[:,train.columns == 'label']\n",
    "y_train = np.array(y_train).reshape((-1,))\n",
    "x_valid = valid.loc[:,valid.columns != 'label']\n",
    "y_valid = valid.loc[:,valid.columns == 'label']\n",
    "y_valid = np.array(y_valid).reshape((-1,))\n",
    "\n",
    "dtrain = xgb.DMatrix(x_train, label=y_train)\n",
    "dtest = xgb.DMatrix(x_valid, label=y_valid)"
   ]
  },
  {
   "cell_type": "code",
   "execution_count": 21,
   "metadata": {},
   "outputs": [],
   "source": []
  },
  {
   "cell_type": "markdown",
   "metadata": {},
   "source": [
    "### 直接使用label编码，xgboost训练"
   ]
  },
  {
   "cell_type": "code",
   "execution_count": 46,
   "metadata": {},
   "outputs": [
    {
     "name": "stdout",
     "output_type": "stream",
     "text": [
      "[[29514  1901]\n",
      " [16204  2381]]\n"
     ]
    }
   ],
   "source": [
    "# 对prefix，title，tag进行label编码，直接进行训练\n",
    "\n",
    "#K折的切分器\n",
    "# kf = KFold(n_splits=2, shuffle=True, random_state=1234)\n",
    "\n",
    "xgboost_model = xgb.XGBClassifier().fit(x_train, y_train)\n",
    "#预测结果\n",
    "pred = xgboost_model.predict(x_valid)\n",
    "#标准答案\n",
    "ground_truth = y_valid\n",
    "print(confusion_matrix(ground_truth, pred))"
   ]
  },
  {
   "cell_type": "code",
   "execution_count": 78,
   "metadata": {},
   "outputs": [
    {
     "data": {
      "text/plain": [
       "   prefix   title tag\n",
       "0  136894  214247   2\n",
       "1   13766   23224  15\n",
       "2     808    1717  21\n",
       "3  161127  206239  18\n",
       "4   40270   64298  12"
      ]
     },
     "execution_count": 78,
     "metadata": {},
     "output_type": "execute_result"
    }
   ],
   "source": [
    "test_A_df.head()"
   ]
  },
  {
   "cell_type": "code",
   "execution_count": 47,
   "metadata": {},
   "outputs": [
    {
     "data": {
      "text/plain": [
       "0.20824769318231515"
      ]
     },
     "execution_count": 47,
     "metadata": {},
     "output_type": "execute_result"
    }
   ],
   "source": [
    "f1_score(ground_truth, pred)"
   ]
  },
  {
   "cell_type": "code",
   "execution_count": 48,
   "metadata": {},
   "outputs": [
    {
     "data": {
      "text/plain": [
       "0.5560485754320411"
      ]
     },
     "execution_count": 48,
     "metadata": {},
     "output_type": "execute_result"
    }
   ],
   "source": [
    "precision_score(ground_truth, pred)"
   ]
  },
  {
   "cell_type": "code",
   "execution_count": 49,
   "metadata": {},
   "outputs": [
    {
     "data": {
      "text/plain": [
       "0.12811407048695184"
      ]
     },
     "execution_count": 49,
     "metadata": {},
     "output_type": "execute_result"
    }
   ],
   "source": [
    "recall_score(ground_truth, pred)"
   ]
  },
  {
   "cell_type": "code",
   "execution_count": 81,
   "metadata": {},
   "outputs": [
    {
     "data": {
      "text/plain": [
       "array([0, 0, 0, ..., 0, 1, 0])"
      ]
     },
     "execution_count": 81,
     "metadata": {},
     "output_type": "execute_result"
    }
   ],
   "source": [
    "submit = xgboost_model.predict(data_test)\n",
    "submit"
   ]
  },
  {
   "cell_type": "code",
   "execution_count": 86,
   "metadata": {},
   "outputs": [],
   "source": [
    "submit = submit.reshape(-1,1)\n",
    "submit = pd.DataFrame(submit)\n",
    "submit.to_csv('d:/oppo/submit/submit201811011052.csv',header=None,index=None)"
   ]
  },
  {
   "cell_type": "markdown",
   "metadata": {},
   "source": [
    "### 对prefix，title，tag进行label编码，加入prefix的title数量，tag数量特征### "
   ]
  },
  {
   "cell_type": "code",
   "execution_count": 22,
   "metadata": {},
   "outputs": [
    {
     "name": "stdout",
     "output_type": "stream",
     "text": [
      "[[29945  1470]\n",
      " [16465  2120]]\n"
     ]
    }
   ],
   "source": [
    "# # 对prefix，title，tag进行label编码，加入prefix的title数量，tag数量特征\n",
    "\n",
    "#K折的切分器\n",
    "# kf = KFold(n_splits=2, shuffle=True, random_state=1234)\n",
    "\n",
    "xgboost_model = xgb.XGBClassifier().fit(x_train, y_train)\n",
    "#预测结果\n",
    "pred = xgboost_model.predict(x_valid)\n",
    "#标准答案\n",
    "ground_truth = y_valid\n",
    "print(confusion_matrix(ground_truth, pred))"
   ]
  },
  {
   "cell_type": "code",
   "execution_count": 23,
   "metadata": {},
   "outputs": [
    {
     "name": "stdout",
     "output_type": "stream",
     "text": [
      "0.19120631341600902\n",
      "0.5905292479108635\n",
      "0.11407048695184288\n"
     ]
    }
   ],
   "source": [
    "print(f1_score(ground_truth,pred))\n",
    "print(precision_score(ground_truth,pred))\n",
    "print(recall_score(ground_truth,pred))"
   ]
  },
  {
   "cell_type": "markdown",
   "metadata": {},
   "source": [
    "### 统计方法"
   ]
  },
  {
   "cell_type": "code",
   "execution_count": null,
   "metadata": {},
   "outputs": [],
   "source": [
    "# 计算每个prefix的点击率\n",
    "all_data = merge_data(train_df,valid_df)\n",
    "prefix_info  = all_data[['prefix','label']]\n",
    "prefix_click_sum = all_data.groupby(['prefix'])['label'].sum()\n",
    "prefix_click_ratio = all_data.groupby(['prefix'])['label'].mean()"
   ]
  },
  {
   "cell_type": "code",
   "execution_count": null,
   "metadata": {},
   "outputs": [],
   "source": [
    "import pandas as pd\n",
    "import numpy as np\n",
    "import lightgbm as lgb\n",
    "from sklearn.model_selection import StratifiedKFold\n",
    "from sklearn.metrics import f1_score\n",
    "\n",
    "train_data = pd.read_table('./data/oppo_round1_train_20180929.txt', \n",
    "        names= ['prefix','query_prediction','title','tag','label'], header= None, encoding='utf-8').astype(str)\n",
    "val_data = pd.read_table('./data/oppo_round1_vali_20180929.txt', \n",
    "        names = ['prefix','query_prediction','title','tag','label'], header = None, encoding='utf-8').astype(str)\n",
    "test_data = pd.read_table('./data/oppo_round1_test_A_20180929.txt',\n",
    "        names = ['prefix','query_prediction','title','tag'],header = None, encoding='utf-8').astype(str)\n",
    "train_data = train_data[train_data['label'] != '音乐' ]\n",
    "test_data['label'] = -1\n",
    "\n",
    "train_data = pd.concat([train_data,val_data])\n",
    "train_data['label'] = train_data['label'].apply(lambda x: int(x))\n",
    "test_data['label'] = test_data['label'].apply(lambda x: int(x))\n",
    "items = ['prefix', 'title', 'tag']\n",
    "\n",
    "for item in items:\n",
    "    temp = train_data.groupby(item, as_index = False)['label'].agg({item+'_click':'sum', item+'_count':'count'})\n",
    "    temp[item+'_ctr'] = temp[item+'_click']/(temp[item+'_count'])\n",
    "    train_data = pd.merge(train_data, temp, on=item, how='left')\n",
    "    test_data = pd.merge(test_data, temp, on=item, how='left')\n",
    "for i in range(len(items)):\n",
    "    for j in range(i+1, len(items)):\n",
    "        item_g = [items[i], items[j]]\n",
    "        temp = train_data.groupby(item_g, as_index=False)['label'].agg({'_'.join(item_g)+'_click': 'sum','_'.join(item_g)+'count':'count'})\n",
    "        temp['_'.join(item_g)+'_ctr'] = temp['_'.join(item_g)+'_click']/(temp['_'.join(item_g)+'count']+3)\n",
    "        train_data = pd.merge(train_data, temp, on=item_g, how='left')\n",
    "        test_data = pd.merge(test_data, temp, on=item_g, how='left')\n",
    "train_data_ = train_data.drop(['prefix', 'query_prediction', 'title', 'tag'], axis = 1)\n",
    "test_data_ = test_data.drop(['prefix', 'query_prediction', 'title', 'tag'], axis = 1)\n",
    "\n",
    "print('train beginning')\n",
    "\n",
    "X = np.array(train_data_.drop(['label'], axis = 1))\n",
    "y = np.array(train_data_['label'])\n",
    "X_test_ = np.array(test_data_.drop(['label'], axis = 1))\n",
    "print('================================')\n",
    "print(X.shape)\n",
    "print(y.shape)\n",
    "print('================================')\n",
    "\n",
    "\n",
    "xx_logloss = []\n",
    "xx_submit = []\n",
    "N = 5\n",
    "skf = StratifiedKFold(n_splits=N, random_state=42, shuffle=True)\n",
    "\n",
    "params = {\n",
    "    'boosting_type': 'gbdt',\n",
    "    'objective': 'binary',\n",
    "    'metric': 'binary_logloss',\n",
    "    'num_leaves': 32,\n",
    "    'learning_rate': 0.05,\n",
    "    'feature_fraction': 0.9,\n",
    "    'bagging_fraction': 0.8,\n",
    "    'bagging_freq': 5,\n",
    "    'verbose': 1\n",
    "}\n",
    "\n",
    "for k, (train_in, test_in) in enumerate(skf.split(X, y)):\n",
    "    print('train _K_ flod', k)\n",
    "    X_train, X_test, y_train, y_test = X[train_in], X[test_in], y[train_in], y[test_in]\n",
    "\n",
    "    lgb_train = lgb.Dataset(X_train, y_train)\n",
    "    lgb_eval = lgb.Dataset(X_test, y_test, reference=lgb_train)\n",
    "\n",
    "    gbm = lgb.train(params,\n",
    "                    lgb_train,\n",
    "                    num_boost_round=5000,\n",
    "                    valid_sets=lgb_eval,\n",
    "                    early_stopping_rounds=50,\n",
    "                    verbose_eval=50,\n",
    "                    )\n",
    "    print(f1_score(y_test, np.where(gbm.predict(X_test, num_iteration=gbm.best_iteration)>0.5, 1,0)))\n",
    "    xx_logloss.append(gbm.best_score['valid_0']['binary_logloss'])\n",
    "    xx_submit.append(gbm.predict(X_test_, num_iteration=gbm.best_iteration))\n",
    "\n",
    "print('train_logloss:', np.mean(xx_logloss))\n",
    "s = 0\n",
    "for i in xx_submit:\n",
    "    s = s + i\n",
    "\n",
    "test_data_['label'] = list(s / N)\n",
    "test_data_['label'] = test_data_['label'].apply(lambda x: round(x))\n",
    "print('test_logloss:', np.mean(test_data_.label))\n",
    "test_data_['label'].to_csv('./submit/result.csv',index = False)"
   ]
  }
 ],
 "metadata": {
  "kernelspec": {
   "display_name": "Python 3",
   "language": "python",
   "name": "python3"
  },
  "language_info": {
   "codemirror_mode": {
    "name": "ipython",
    "version": 3
   },
   "file_extension": ".py",
   "mimetype": "text/x-python",
   "name": "python",
   "nbconvert_exporter": "python",
   "pygments_lexer": "ipython3",
   "version": "3.6.4"
  }
 },
 "nbformat": 4,
 "nbformat_minor": 2
}
